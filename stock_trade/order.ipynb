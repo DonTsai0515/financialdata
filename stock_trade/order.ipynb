{
 "cells": [
  {
   "cell_type": "code",
   "execution_count": 2,
   "id": "4a3a5c56",
   "metadata": {},
   "outputs": [],
   "source": [
    "# 下單部位管理物件\n",
    "class Record():\n",
    "    \n",
    "    def __init__(self ):\n",
    "        \n",
    "        # 儲存績效\n",
    "        self.Profit = []\n",
    "        \n",
    "        # 未平倉\n",
    "        self.OpenInterestQty = 0\n",
    "        self.OpenInterest = []\n",
    "        \n",
    "        # 交易紀錄總計\n",
    "        self.TradeRecord = []\n",
    "        \n",
    "    # 進場紀錄\n",
    "    def Order(self, BS,Product,OrderTime,OrderPrice,OrderQty):\n",
    "        if BS == 'B' or BS == 'Buy':\n",
    "            for i in range(OrderQty):\n",
    "                self.OpenInterest.append([1,Product,OrderTime,OrderPrice])\n",
    "                self.OpenInterestQty += 1 \n",
    "                \n",
    "        elif BS == 'S' or BS == 'Sell':\n",
    "            for i in range(OrderQty):\n",
    "                self.OpenInterest.append([-1,Product,OrderTime,OrderPrice])\n",
    "                self.OpenInterestQty -= 1 \n",
    "                \n",
    "    # 出場紀錄(買賣別需與進場相反，多單進場則空單出場)\n",
    "    def Cover(self, BS,Product,CoverTime,CoverPrice,CoverQty):\n",
    "        if BS == 'S' or BS == 'Sell':\n",
    "            for i in range(CoverQty):\n",
    "                # 取得多單未平倉部位\n",
    "                TmpInterest = [i for i in self.OpenInterest if i[0] == 1 ][0]\n",
    "                if TmpInterest != []:\n",
    "                    # 清除未平倉紀錄\n",
    "                    self.OpenInterest.remove(TmpInterest)\n",
    "                    self.OpenInterestQty -= 1 \n",
    "                    # 新增交易紀錄\n",
    "                    self.TradeRecord.append(['B',TmpInterest[1],TmpInterest[2],TmpInterest[3],CoverTime,CoverPrice])\n",
    "                    self.Profit.append(CoverPrice-TmpInterest[3])\n",
    "                else:\n",
    "                    print('尚無進場')\n",
    "        elif BS == 'B' or BS == 'Buy':\n",
    "            for i in range(CoverQty):\n",
    "                # 取得空單未平倉部位\n",
    "                TmpInterest = [i for i in self.OpenInterest if i[0]== -1][0]\n",
    "                if TmpInterest != []:\n",
    "                    # 清除未平倉紀錄\n",
    "                    self.OpenInterest.remove(TmpInterest)\n",
    "                    self.OpenInterestQty += 1 \n",
    "                    # 新增交易紀錄\n",
    "                    self.TradeRecord.append(['S',TmpInterest[1],TmpInterest[2],TmpInterest[3],CoverTime,CoverPrice])\n",
    "                    self.Profit.append(TmpInterest[3]-CoverPrice)\n",
    "                else:\n",
    "                    print('尚無進場')\n",
    "                    \n",
    "    # 取得當前未平倉量\n",
    "    def GetOpenInterest(self):\n",
    "        return self.OpenInterestQty\n",
    "    \n",
    "    # 取得交易紀錄\n",
    "    def GetTradeRecord(self):\n",
    "        return self.TradeRecord\n",
    "    \n",
    "    # 取得交易績效\n",
    "    def GetProfit(self):\n",
    "        return self.Profit"
   ]
  },
  {
   "cell_type": "code",
   "execution_count": 15,
   "id": "1c88142f",
   "metadata": {},
   "outputs": [
    {
     "data": {
      "text/plain": [
       "[8]"
      ]
     },
     "execution_count": 15,
     "metadata": {},
     "output_type": "execute_result"
    }
   ],
   "source": [
    "import datetime\n",
    "from order import Record\n",
    "\n",
    "Trade = Record()\n",
    "OrderTime = datetime.datetime.now()\n",
    "Trade.Order('B','TXFJ9',OrderTime,10652,1)\n",
    "\n",
    "Trade.GetOpenInterest()\n",
    "\n",
    "CoverTime = datetime.datetime.now()\n",
    "Trade.Cover('S','TXFJ9',CoverTime,10660,1)\n",
    "\n",
    "Trade.GetOpenInterest()\n",
    "\n",
    "Trade.GetTradeRecord()\n",
    "\n",
    "Trade.GetProfit()"
   ]
  },
  {
   "cell_type": "code",
   "execution_count": null,
   "id": "b9058688",
   "metadata": {},
   "outputs": [],
   "source": []
  },
  {
   "cell_type": "code",
   "execution_count": null,
   "id": "55d99b3f",
   "metadata": {},
   "outputs": [],
   "source": []
  }
 ],
 "metadata": {
  "kernelspec": {
   "display_name": "Python 3 (ipykernel)",
   "language": "python",
   "name": "python3"
  },
  "language_info": {
   "codemirror_mode": {
    "name": "ipython",
    "version": 3
   },
   "file_extension": ".py",
   "mimetype": "text/x-python",
   "name": "python",
   "nbconvert_exporter": "python",
   "pygments_lexer": "ipython3",
   "version": "3.9.7"
  }
 },
 "nbformat": 4,
 "nbformat_minor": 5
}
