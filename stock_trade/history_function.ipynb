{
 "cells": [
  {
   "cell_type": "code",
   "execution_count": 2,
   "id": "620322ce",
   "metadata": {},
   "outputs": [],
   "source": [
    "def getHistoryTick(broker,date,prod,table,path='C:/data/'):\n",
    "    data_path = path+'/'+broker+'/'+date+'/'+prod+'_'+table+'.txt'\n",
    "    data = open(data_path).readlines()\n",
    "    rs = [i.strip('\\n').split(',') for i in data]\n",
    "    return rs"
   ]
  },
  {
   "cell_type": "code",
   "execution_count": null,
   "id": "7be6b7fe",
   "metadata": {},
   "outputs": [],
   "source": []
  }
 ],
 "metadata": {
  "kernelspec": {
   "display_name": "Python 3 (ipykernel)",
   "language": "python",
   "name": "python3"
  },
  "language_info": {
   "codemirror_mode": {
    "name": "ipython",
    "version": 3
   },
   "file_extension": ".py",
   "mimetype": "text/x-python",
   "name": "python",
   "nbconvert_exporter": "python",
   "pygments_lexer": "ipython3",
   "version": "3.9.7"
  }
 },
 "nbformat": 4,
 "nbformat_minor": 5
}
