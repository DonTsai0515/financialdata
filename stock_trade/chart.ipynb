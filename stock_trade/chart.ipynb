{
 "cells": [
  {
   "cell_type": "code",
   "execution_count": 2,
   "id": "2be83093",
   "metadata": {},
   "outputs": [],
   "source": [
    "# 載入必要模組\n",
    "import pandas as pd\n",
    "import mplfinance as mpf\n",
    "import numpy as np\n",
    "from talib.abstract import *\n",
    "from haohaninfo import GOrder"
   ]
  },
  {
   "cell_type": "code",
   "execution_count": 3,
   "id": "eb92e810",
   "metadata": {},
   "outputs": [],
   "source": [
    "# 將 K 線轉為 Dataframe\n",
    "def KbarToDf(KBar):\n",
    "    # 將 K 線 Dictionary 轉換成 Dataframe\n",
    "    Kbar_df = pd.DataFrame(KBar)\n",
    "    # 將 Dataframe 欄位名稱轉換\n",
    "    Kbar_df.columns = [i[0].upper()+i[1:]for i in Kbar_df.columns]\n",
    "    # 將 Time 欄位設為索引\n",
    "    Kbar_df.set_index(\"Time\",inplace=True)\n",
    "    # 回傳\n",
    "    return Kbar_df"
   ]
  },
  {
   "cell_type": "code",
   "execution_count": 4,
   "id": "c3cf0ad9",
   "metadata": {},
   "outputs": [],
   "source": [
    "# 繪製 K 線圖\n",
    "def ChartKBar(KBar,addp=[],volume_enable=True):\n",
    "    # 將 K 線轉為 Dataframe\n",
    "    Kbar_df = KbarToDf(KBar)\n",
    "    # 開始繪圖\n",
    "    mpf.plot(Kbar_df,volume=volume_enable,addplot=addp,type='candle',style='charles')\n"
   ]
  },
  {
   "cell_type": "code",
   "execution_count": 5,
   "id": "5af2d07f",
   "metadata": {},
   "outputs": [],
   "source": [
    "# 繪製 K 線圖以及 MA\n",
    "def ChartKBar_MA(KBar,longPeriod=20,shortPeriod=5):\n",
    "    # 計算移動平均線(長短線)\n",
    "    KBar['MA_long'] = SMA(KBar, timeperiod=longPeriod)\n",
    "    KBar['MA_short'] = SMA(KBar, timeperiod=shortPeriod)\n",
    "    # 將 K 線轉為 Dataframe\n",
    "    Kbar_df = KbarToDf(KBar)\n",
    "    # 將副圖繪製出來\n",
    "    addp = []\n",
    "    addp.append(mpf.make_addplot(Kbar_df['MA_long'],color='red'))\n",
    "    addp.append(mpf.make_addplot(Kbar_df['MA_short'],color='yellow'))\n",
    "    # 開始繪圖\n",
    "    ChartKBar(KBar,addp,True)"
   ]
  },
  {
   "cell_type": "code",
   "execution_count": 6,
   "id": "406053e9",
   "metadata": {},
   "outputs": [],
   "source": [
    "# 繪製 K 線圖以及 RSI\n",
    "def ChartKBar_RSI(KBar,RSIPeriod,upper,lower):\n",
    "    # 計算 RSI 以及買超賣超線\n",
    "    KBar['RSI'] = RSI(KBar,timeperiod = RSIPeriod)\n",
    "    KBar['Ceil'] = np.array([upper]*len(KBar['time']))\n",
    "    KBar['Floor'] = np.array([lower]*len(KBar['time']))\n",
    "    # 將 K 線轉為 Dataframe\n",
    "    Kbar_df = KbarToDf(KBar)\n",
    "    \n",
    "    # 將副圖繪製出來\n",
    "    addp = []\n",
    "    addp.append(mpf.make_addplot(Kbar_df['RSI'], panel='lower',color='black',secondary_y=False))\n",
    "    addp.append(mpf.make_addplot(Kbar_df['Ceil'], panel='lower',color='red',secondary_y=False))\n",
    "    addp.append(mpf.make_addplot(Kbar_df['Floor'], panel='lower',color='red',secondary_y=False))\n",
    "    \n",
    "    # 開始繪圖\n",
    "    ChartKBar(KBar,addp,False)"
   ]
  },
  {
   "cell_type": "code",
   "execution_count": 7,
   "id": "f1e88ea5",
   "metadata": {},
   "outputs": [
    {
     "name": "stdout",
     "output_type": "stream",
     "text": [
      "generating data...\n",
      "請先登入或開啟GOrder\n"
     ]
    }
   ],
   "source": [
    "KBar = GOrder.GetTAKBar('20200310','20200315','2303','Stock','0','5')\n",
    "#ChartKBar_RSI(KBar,50,80,20)"
   ]
  },
  {
   "cell_type": "code",
   "execution_count": 8,
   "id": "2512d6d6",
   "metadata": {},
   "outputs": [],
   "source": [
    "# 繪製 K 線圖以及布林通道\n",
    "def ChartKBar_BBANDS(KBar,BBANDSPeriod):\n",
    "    \n",
    "    # 計算布林通道\n",
    "    KBar['Upper'],KBar['Middle'],KBar['Lower'] = BBANDS(KBar,timeperiod=BBANDSPeriod)\n",
    "    \n",
    "    # 將 K 線轉為 Dataframe\n",
    "    Kbar_df = KbarToDf(KBar)\n",
    "    \n",
    "    # 將副圖繪製出來\n",
    "    addp = []\n",
    "    addp.append(mpf.make_addplot(Kbar_df['Upper'],color='yellow'))\n",
    "    addp.append(mpf.make_addplot(Kbar_df['Middle'],color='grey'))\n",
    "    addp.append(mpf.make_addplot(Kbar_df['Lower'],color='yellow'))\n",
    "    \n",
    "    # 開始繪圖\n",
    "    ChartKBar(KBar,addp,True)"
   ]
  },
  {
   "cell_type": "code",
   "execution_count": 9,
   "id": "1dfa7017",
   "metadata": {},
   "outputs": [],
   "source": [
    "# 繪製 K 線圖加上 MA 以及下單紀錄\n",
    "def ChartOrder_MA(KBar,TR):\n",
    "    \n",
    "    # 將 K 線轉為 Dataframe\n",
    "    Kbar_df = KbarToDf(KBar)\n",
    "    \n",
    "    # 定義指標副圖\n",
    "    addp = []\n",
    "    addp.append(mpf.make_addplot(Kbar_df['long'],color='red'))\n",
    "    addp.append(mpf.make_addplot(Kbar_df['short'],color='yellow'))\n",
    "    \n",
    "    # 繪製指標、下單圖\n",
    "    ChartOrder(KBar,TR,addp)"
   ]
  },
  {
   "cell_type": "code",
   "execution_count": null,
   "id": "aa071c7f",
   "metadata": {},
   "outputs": [],
   "source": []
  }
 ],
 "metadata": {
  "kernelspec": {
   "display_name": "Python 3 (ipykernel)",
   "language": "python",
   "name": "python3"
  },
  "language_info": {
   "codemirror_mode": {
    "name": "ipython",
    "version": 3
   },
   "file_extension": ".py",
   "mimetype": "text/x-python",
   "name": "python",
   "nbconvert_exporter": "python",
   "pygments_lexer": "ipython3",
   "version": "3.9.7"
  }
 },
 "nbformat": 4,
 "nbformat_minor": 5
}
