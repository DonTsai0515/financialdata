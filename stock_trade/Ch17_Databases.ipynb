{
 "cells": [
  {
   "cell_type": "markdown",
   "metadata": {},
   "source": [
    "# Ch17_Databases\n",
    "+ On relational databases\n",
    "+ We'll learn key concepts behind relational databases and how to perform a few common operations."
   ]
  },
  {
   "cell_type": "markdown",
   "metadata": {},
   "source": [
    "### This chapter has two tables in a database 'population.db':\n",
    "1. **PopByRegion: Region and Population (region population)**\n",
    "2. **PopByCountry: Region, Country, and Population (country population)**"
   ]
  },
  {
   "cell_type": "markdown",
   "metadata": {},
   "source": [
    "### We use the file Ch17_Databases_label changed.ipynb before table joins. After that, we use Ch17_Databases.ipynb. "
   ]
  },
  {
   "cell_type": "markdown",
   "metadata": {},
   "source": [
    "## [sqlite3](https://docs.python.org/3/library/sqlite3.html)"
   ]
  },
  {
   "cell_type": "markdown",
   "metadata": {},
   "source": [
    "### [SQL語法](https://www.1keydata.com/tw/sql/sql-syntax.html)"
   ]
  },
  {
   "cell_type": "markdown",
   "metadata": {},
   "source": [
    "## Overview, p. 343\n",
    "+ A relational database is a collection of tables which consist of columns and rows, or records.\n",
    "+ As of Python 3.3.0, the **standard library** includes a **module** called **sqlite3** for working with it.\n",
    "+ We interact with the database in one of two ways:\n",
    "    1. By typing commands into a database GUI\n",
    "    2. By **writing programs in Python (or some other language)** to create tables, insert records, and fetch the data you want. Your code can then format the results in a web page, calculate statistics, or do whatever else you like.\n",
    "+ We use **SQL, Structured Query Language**, to put data into a database or to get information out.  SQL is pronounced either as the three letters “S-Q-L” or as the word “sequel.”"
   ]
  },
  {
   "cell_type": "markdown",
   "metadata": {},
   "source": [
    "### [Python vs SQL – What’s the Difference?](https://learn.onemonth.com/python-vs-sql-whats-the-difference/)"
   ]
  },
  {
   "cell_type": "markdown",
   "metadata": {},
   "source": [
    "###### Types of SQL\n",
    "\n",
    "1. **MySQL** (pronounced MY Sequel) is the most popular type of SQL database. The super-geek way to refer to this type of SQL database as a relational database management system (or RDBMS). More or less, that means it’s a database with many tables that link together in some way. All WordPress installations by default are using MySQL.\n",
    "\n",
    "\n",
    "2. **PostgreSQL** (often just referred to as “Postgres”) is similar to MySQL but is known to be more durable. However, setting up Postgres for newbies can often be difficult, so if you are new to this, MySQL is probably you’re best bet.\n",
    "\n",
    "\n",
    "3. **SQLite** (pronounced Sequel Lite) is a very portable, and compact database. SQLite is usually best used for testing and very, very simple applications. As of **Python 3.3.0**, the standard library includes **sqlite3** module."
   ]
  },
  {
   "cell_type": "markdown",
   "metadata": {},
   "source": [
    "### Creating and Populating, p. 344"
   ]
  },
  {
   "cell_type": "code",
   "execution_count": 2,
   "metadata": {
    "collapsed": true
   },
   "outputs": [],
   "source": [
    "import os\n",
    "os.chdir(r'E:\\Python\\Databases\\sqlite3')"
   ]
  },
  {
   "cell_type": "code",
   "execution_count": 3,
   "metadata": {
    "collapsed": true,
    "scrolled": true
   },
   "outputs": [],
   "source": [
    "# creating database population.db\n",
    "import sqlite3\n",
    "# Like a path to a file, sqlite3.connect() method opens a connection to \n",
    "# the SQLite database file 'population.db' on disk. Since the database \n",
    "# population.db doesn’t exist, it will be created:\n",
    "con = sqlite3.connect('population.db') # Like the path to a file on disk"
   ]
  },
  {
   "cell_type": "code",
   "execution_count": 4,
   "metadata": {},
   "outputs": [
    {
     "data": {
      "text/plain": [
       "<sqlite3.Cursor at 0x27d6ac4b340>"
      ]
     },
     "execution_count": 4,
     "metadata": {},
     "output_type": "execute_result"
    }
   ],
   "source": [
    "# Get a cursor. Like the cursor in an editor, this keeps track of where we are \n",
    "# in the database so that if several programs are accessing the database at the \n",
    "# same time, the database can keep track of who is trying to do what:\n",
    "cur = con.cursor()\n",
    "cur"
   ]
  },
  {
   "cell_type": "code",
   "execution_count": 4,
   "metadata": {},
   "outputs": [
    {
     "name": "stdout",
     "output_type": "stream",
     "text": [
      "Help on built-in function connect in module _sqlite3:\n",
      "\n",
      "connect(...)\n",
      "    connect(database[, timeout, detect_types, isolation_level,\n",
      "            check_same_thread, factory, cached_statements, uri])\n",
      "    \n",
      "    Opens a connection to the SQLite database file *database*. You can use\n",
      "    \":memory:\" to open a database connection to a database that resides in\n",
      "    RAM instead of on disk.\n",
      "\n"
     ]
    }
   ],
   "source": [
    "help(sqlite3.connect)"
   ]
  },
  {
   "cell_type": "code",
   "execution_count": 5,
   "metadata": {},
   "outputs": [
    {
     "name": "stdout",
     "output_type": "stream",
     "text": [
      "['DataError', 'DatabaseError', 'Error', 'IntegrityError', 'InterfaceError', 'InternalError', 'NotSupportedError', 'OperationalError', 'ProgrammingError', 'Warning', '__call__', '__class__', '__delattr__', '__dir__', '__doc__', '__enter__', '__eq__', '__exit__', '__format__', '__ge__', '__getattribute__', '__gt__', '__hash__', '__init__', '__init_subclass__', '__le__', '__lt__', '__ne__', '__new__', '__reduce__', '__reduce_ex__', '__repr__', '__setattr__', '__sizeof__', '__str__', '__subclasshook__', 'backup', 'close', 'commit', 'create_aggregate', 'create_collation', 'create_function', 'cursor', 'enable_load_extension', 'execute', 'executemany', 'executescript', 'in_transaction', 'interrupt', 'isolation_level', 'iterdump', 'load_extension', 'rollback', 'row_factory', 'set_authorizer', 'set_progress_handler', 'set_trace_callback', 'text_factory', 'total_changes']\n"
     ]
    }
   ],
   "source": [
    "print(dir(con))"
   ]
  },
  {
   "cell_type": "code",
   "execution_count": 6,
   "metadata": {},
   "outputs": [
    {
     "name": "stdout",
     "output_type": "stream",
     "text": [
      "['__class__', '__delattr__', '__dir__', '__doc__', '__eq__', '__format__', '__ge__', '__getattribute__', '__gt__', '__hash__', '__init__', '__init_subclass__', '__iter__', '__le__', '__lt__', '__ne__', '__new__', '__next__', '__reduce__', '__reduce_ex__', '__repr__', '__setattr__', '__sizeof__', '__str__', '__subclasshook__', 'arraysize', 'close', 'connection', 'description', 'execute', 'executemany', 'executescript', 'fetchall', 'fetchmany', 'fetchone', 'lastrowid', 'row_factory', 'rowcount', 'setinputsizes', 'setoutputsize']\n"
     ]
    }
   ],
   "source": [
    "print(dir(cur))"
   ]
  },
  {
   "cell_type": "code",
   "execution_count": 7,
   "metadata": {},
   "outputs": [
    {
     "data": {
      "text/plain": [
       "sqlite3.Cursor"
      ]
     },
     "execution_count": 7,
     "metadata": {},
     "output_type": "execute_result"
    }
   ],
   "source": [
    "type(cur)"
   ]
  },
  {
   "cell_type": "markdown",
   "metadata": {},
   "source": [
    "#### 1. Creating a database table to store the population data, p. 346\n",
    "+ **CREATE TABLE «TableName»(«ColumnName» «Type», ...)**"
   ]
  },
  {
   "cell_type": "raw",
   "metadata": {},
   "source": [
    "Table 31—SQLite Data Types\n",
    "\n",
    "The most commonly used data types in SQLite databases are listed in Table 31 along with the corresponding Python data types.\n",
    "\n",
    "Type      Python Equivalent   Use \n",
    "NULL      NoneType            Means “know nothing about it” \n",
    "INTEGER   int                 Integers\n",
    "REAL      float               8-byte floating-point numbers \n",
    "TEXT      str                 Strings of characters\n",
    "BLOB      bytes               Binary data"
   ]
  },
  {
   "cell_type": "markdown",
   "metadata": {},
   "source": [
    "The most commonly used **data types** in SQLite databases are **listed in Table 31 along with the corresponding Python data types**. The **BLOB type** stands for **Binary Large Object**, which to a database means **a image, an MP3, or any other lump of bytes** that isn’t of a more specific type. The **Python equivalent** is a type **called bytes**, which also stores a sequence of bytes that have no particular predefined meaning."
   ]
  },
  {
   "cell_type": "markdown",
   "metadata": {},
   "source": [
    "To **create a two-column table named PopByRegion** to store region names as strings in the Region column and projected populations as integers in the Population column, we **use this SQL statement:**\n",
    "\n",
    "**CREATE TABLE PopByRegion(Region TEXT, Population INTEGER)**"
   ]
  },
  {
   "cell_type": "code",
   "execution_count": 8,
   "metadata": {},
   "outputs": [
    {
     "name": "stdout",
     "output_type": "stream",
     "text": [
      "Help on built-in function execute:\n",
      "\n",
      "execute(...) method of sqlite3.Cursor instance\n",
      "    Executes a SQL statement.\n",
      "\n"
     ]
    }
   ],
   "source": [
    "help(cur.execute)"
   ]
  },
  {
   "cell_type": "code",
   "execution_count": 9,
   "metadata": {},
   "outputs": [
    {
     "data": {
      "text/plain": [
       "<sqlite3.Cursor at 0x25edafcc110>"
      ]
     },
     "execution_count": 9,
     "metadata": {},
     "output_type": "execute_result"
    }
   ],
   "source": [
    "# Inside the databse population.db, we creating a database table \n",
    "# called PopByRegion with two columns:\n",
    "\n",
    "cur.execute('CREATE TABLE PopByRegion(Region TEXT, Population INTEGER)')"
   ]
  },
  {
   "cell_type": "markdown",
   "metadata": {},
   "source": [
    "Calling method **execute** returns the **cursor object**. Since **cur** refers to that **same cursor object**, **we don’t need to do anything** with the value returned by execute."
   ]
  },
  {
   "cell_type": "markdown",
   "metadata": {},
   "source": [
    "#### 2. Inserting a record, p. 347"
   ]
  },
  {
   "cell_type": "markdown",
   "metadata": {},
   "source": [
    "After creating a table, we want to insert data into it. \n",
    "We do this one record at a time using the INSERT command: \n",
    "  \n",
    "**INSERT INTO «TableName» VALUES(«Value», ...)**\n",
    "\n",
    "+ Notice that the number and type of values in the INSERT statements matches the number and type of columns in the database table."
   ]
  },
  {
   "cell_type": "code",
   "execution_count": 10,
   "metadata": {},
   "outputs": [
    {
     "data": {
      "text/plain": [
       "<sqlite3.Cursor at 0x25edafcc110>"
      ]
     },
     "execution_count": 10,
     "metadata": {},
     "output_type": "execute_result"
    }
   ],
   "source": [
    "# The values are matched left to right against the columns:\n",
    "cur.execute('INSERT INTO PopByRegion VALUES(\"Central Africa\", 330993)')\n",
    "cur.execute('INSERT INTO PopByRegion VALUES(\"Southeastern Africa\", 743112)')\n",
    "cur.execute('INSERT INTO PopByRegion VALUES(\"Northern Africa\", 1037463)')\n",
    "cur.execute('INSERT INTO PopByRegion VALUES(\"Southern\", 2051941)')\n",
    "cur.execute('INSERT INTO PopByRegion VALUES(\"Asia Pacific\", 785468)')\n",
    "cur.execute('INSERT INTO PopByRegion VALUES(\"Middle East\", 687630)')\n",
    "cur.execute('INSERT INTO PopByRegion VALUES(\"Eastern Asia\", 1362955)')\n",
    "cur.execute('INSERT INTO PopByRegion VALUES(\"South America\", 593121)')\n",
    "cur.execute('INSERT INTO PopByRegion VALUES(\"Eastern Europe\", 223427)')\n",
    "cur.execute('INSERT INTO PopByRegion VALUES(\"North America\", 661157)')\n",
    "cur.execute('INSERT INTO PopByRegion VALUES(\"Western Europe\", 387933)')"
   ]
  },
  {
   "cell_type": "markdown",
   "metadata": {},
   "source": [
    "Notice that the number and type of values in the INSERT statements matches the number and type of columns in the database table. If we try to insert a value of a different **type** than the one **declared** for the column, the library will try to **convert** it, just as it converts the integer 5 to a floating-point number when we do 1.2 + 5. For example, **if we insert the integer 32 into a TEXT column, it will automatically be converted to \"32\"**; similarly, if we insert a string into an INTEGER column, it is parsed to see whether it represents a number. If so, the number is inserted.\n",
    "\n",
    "If the **number of values** being inserted **doesn’t match** the number of columns in the table, the database **reports an error** and the data is not inserted. **Surprisingly, though, if we try to insert a value that cannot be converted to the correct type, such as the string “string” into an INTEGER field, SQLite  will actually do it (though other databases will not)**.\n",
    "\n",
    "**Another format** for the INSERT SQL command **uses placeholders for the values to be inserted**. When using this format, **method execute** has **two arguments:** **the first** is the SQL command with **question marks as placeholders** for the values to be inserted, and **the second is a tuple**. When the command is executed, the items from the **tuple are substituted for the placeholders from left to right**. For example, the execute method call to insert a row with \"Japan\" and 100562  can be rewritten like this:"
   ]
  },
  {
   "cell_type": "code",
   "execution_count": 11,
   "metadata": {},
   "outputs": [
    {
     "data": {
      "text/plain": [
       "<sqlite3.Cursor at 0x25edafcc110>"
      ]
     },
     "execution_count": 11,
     "metadata": {},
     "output_type": "execute_result"
    }
   ],
   "source": [
    "# Another format for the INSERT SQL command\n",
    "cur.execute('INSERT INTO PopByRegion VALUES (?, ?)', (\"Japan\", 100562))"
   ]
  },
  {
   "cell_type": "markdown",
   "metadata": {},
   "source": [
    "In this example, \"Japan\" is used in place of the first question mark, and 100562 in place of the second. This placeholder notation can come in **handy when using a loop to insert data from a list or a file into a database, as shown in the section Using Joins to Combine Tables, on page 353**."
   ]
  },
  {
   "cell_type": "markdown",
   "metadata": {},
   "source": [
    "#### 3. Saving Changes, p. 348"
   ]
  },
  {
   "cell_type": "code",
   "execution_count": 12,
   "metadata": {
    "collapsed": true
   },
   "outputs": [],
   "source": [
    "# Using commit method for committing to a database is like saving the changes \n",
    "# made to a file in a text editor.\n",
    "# By committing a database, our changes are stored and are not visible to \n",
    "# anyone else who is using the database at the same time. \n",
    "\n",
    "con.commit()"
   ]
  },
  {
   "cell_type": "markdown",
   "metadata": {},
   "source": [
    "#### 4. Closing the Connection, p. 348 \n",
    "+ Make sure that you commit your changes before closing the connection."
   ]
  },
  {
   "cell_type": "code",
   "execution_count": 13,
   "metadata": {
    "collapsed": true
   },
   "outputs": [],
   "source": [
    "# con.close()"
   ]
  },
  {
   "cell_type": "markdown",
   "metadata": {},
   "source": [
    "### Retrieving Data, p. 348"
   ]
  },
  {
   "cell_type": "markdown",
   "metadata": {},
   "source": [
    "The general form of a query is as follows:\n",
    "\n",
    "**SELECT «ColumnName» , ... FROM «TableName»**"
   ]
  },
  {
   "cell_type": "code",
   "execution_count": 14,
   "metadata": {},
   "outputs": [
    {
     "data": {
      "text/plain": [
       "<sqlite3.Cursor at 0x25edafcc110>"
      ]
     },
     "execution_count": 14,
     "metadata": {},
     "output_type": "execute_result"
    }
   ],
   "source": [
    "# This query retrieves all the data in the table PopByRegion:\n",
    "cur.execute('SELECT Region, Population FROM PopByRegion')"
   ]
  },
  {
   "cell_type": "code",
   "execution_count": 15,
   "metadata": {},
   "outputs": [
    {
     "data": {
      "text/plain": [
       "('Central Africa', 330993)"
      ]
     },
     "execution_count": 15,
     "metadata": {},
     "output_type": "execute_result"
    }
   ],
   "source": [
    "# The cursor’s fetchone method let's access the results one record at a time\n",
    "# and returns each record as a tuple:\n",
    "\n",
    "# cur.fetchall()\n",
    "cur.fetchone()\n",
    "\n",
    "# The cur.fetchone method returns None, if there are no more records."
   ]
  },
  {
   "cell_type": "code",
   "execution_count": 16,
   "metadata": {},
   "outputs": [
    {
     "data": {
      "text/plain": [
       "('Southeastern Africa', 743112)"
      ]
     },
     "execution_count": 16,
     "metadata": {},
     "output_type": "execute_result"
    }
   ],
   "source": [
    "# The cur.fetchone method returns None, if there are no more records.\n",
    "cur.fetchone()"
   ]
  },
  {
   "cell_type": "code",
   "execution_count": 17,
   "metadata": {},
   "outputs": [
    {
     "data": {
      "text/plain": [
       "[('Northern Africa', 1037463),\n",
       " ('Southern', 2051941),\n",
       " ('Asia Pacific', 785468),\n",
       " ('Middle East', 687630),\n",
       " ('Eastern Asia', 1362955),\n",
       " ('South America', 593121),\n",
       " ('Eastern Europe', 223427),\n",
       " ('North America', 661157),\n",
       " ('Western Europe', 387933),\n",
       " ('Japan', 100562)]"
      ]
     },
     "execution_count": 17,
     "metadata": {},
     "output_type": "execute_result"
    }
   ],
   "source": [
    "# The fetchall method returns all the data produced by a query that has not yet \n",
    "# been fetched as a list of tuples:\n",
    "cur.fetchall()"
   ]
  },
  {
   "cell_type": "code",
   "execution_count": 18,
   "metadata": {
    "collapsed": true
   },
   "outputs": [],
   "source": [
    "# Once all of the data produced by the query has been fetched, any subsequent \n",
    "# calls on fetchone and fetchall return None and the empty list, respectively:\n",
    "cur.fetchone()"
   ]
  },
  {
   "cell_type": "code",
   "execution_count": 19,
   "metadata": {},
   "outputs": [
    {
     "data": {
      "text/plain": [
       "[]"
      ]
     },
     "execution_count": 19,
     "metadata": {},
     "output_type": "execute_result"
    }
   ],
   "source": [
    "cur.fetchall()"
   ]
  },
  {
   "cell_type": "code",
   "execution_count": 20,
   "metadata": {},
   "outputs": [
    {
     "data": {
      "text/plain": [
       "[('Asia Pacific', 785468),\n",
       " ('Central Africa', 330993),\n",
       " ('Eastern Asia', 1362955),\n",
       " ('Eastern Europe', 223427),\n",
       " ('Japan', 100562),\n",
       " ('Middle East', 687630),\n",
       " ('North America', 661157),\n",
       " ('Northern Africa', 1037463),\n",
       " ('South America', 593121),\n",
       " ('Southeastern Africa', 743112),\n",
       " ('Southern', 2051941),\n",
       " ('Western Europe', 387933)]"
      ]
     },
     "execution_count": 20,
     "metadata": {},
     "output_type": "execute_result"
    }
   ],
   "source": [
    "# We can use an ORDER BY clause to the query to sort the list returned \n",
    "# by fetchall method like this:\n",
    "\n",
    "cur.execute('SELECT Region, Population FROM PopByRegion ORDER BY Region')\n",
    "cur.fetchall()"
   ]
  },
  {
   "cell_type": "code",
   "execution_count": 21,
   "metadata": {},
   "outputs": [
    {
     "data": {
      "text/plain": [
       "[('Southern', 2051941),\n",
       " ('Eastern Asia', 1362955),\n",
       " ('Northern Africa', 1037463),\n",
       " ('Asia Pacific', 785468),\n",
       " ('Southeastern Africa', 743112),\n",
       " ('Middle East', 687630),\n",
       " ('North America', 661157),\n",
       " ('South America', 593121),\n",
       " ('Western Europe', 387933),\n",
       " ('Central Africa', 330993),\n",
       " ('Eastern Europe', 223427),\n",
       " ('Japan', 100562)]"
      ]
     },
     "execution_count": 21,
     "metadata": {},
     "output_type": "execute_result"
    }
   ],
   "source": [
    "# Sorting values in ascending (ASC) or descending (DESC) order:\n",
    "# A triple-quoted string below is for a SQL statement to span multiple lines. \n",
    "\n",
    "cur.execute('''SELECT Region, Population FROM PopByRegion ORDER BY \n",
    "Population DESC''')   # ''' is for spaning multiple lines\n",
    "cur.fetchall()"
   ]
  },
  {
   "cell_type": "markdown",
   "metadata": {},
   "source": [
    "###### p. 350\n",
    "+ As we’ve seen, we can specify one or more columns by name in a query. We can also use __*__ to indicate that we want **all columns**:"
   ]
  },
  {
   "cell_type": "code",
   "execution_count": 22,
   "metadata": {},
   "outputs": [
    {
     "data": {
      "text/plain": [
       "<sqlite3.Cursor at 0x25edafcc110>"
      ]
     },
     "execution_count": 22,
     "metadata": {},
     "output_type": "execute_result"
    }
   ],
   "source": [
    "cur.execute('SELECT Region FROM PopByRegion')"
   ]
  },
  {
   "cell_type": "code",
   "execution_count": 23,
   "metadata": {},
   "outputs": [
    {
     "data": {
      "text/plain": [
       "[('Central Africa',),\n",
       " ('Southeastern Africa',),\n",
       " ('Northern Africa',),\n",
       " ('Southern',),\n",
       " ('Asia Pacific',),\n",
       " ('Middle East',),\n",
       " ('Eastern Asia',),\n",
       " ('South America',),\n",
       " ('Eastern Europe',),\n",
       " ('North America',),\n",
       " ('Western Europe',),\n",
       " ('Japan',)]"
      ]
     },
     "execution_count": 23,
     "metadata": {},
     "output_type": "execute_result"
    }
   ],
   "source": [
    "cur.fetchall()"
   ]
  },
  {
   "cell_type": "code",
   "execution_count": 24,
   "metadata": {},
   "outputs": [
    {
     "data": {
      "text/plain": [
       "<sqlite3.Cursor at 0x25edafcc110>"
      ]
     },
     "execution_count": 24,
     "metadata": {},
     "output_type": "execute_result"
    }
   ],
   "source": [
    "cur.execute('SELECT * FROM PopByRegion')"
   ]
  },
  {
   "cell_type": "code",
   "execution_count": 25,
   "metadata": {},
   "outputs": [
    {
     "data": {
      "text/plain": [
       "[('Central Africa', 330993),\n",
       " ('Southeastern Africa', 743112),\n",
       " ('Northern Africa', 1037463),\n",
       " ('Southern', 2051941),\n",
       " ('Asia Pacific', 785468),\n",
       " ('Middle East', 687630),\n",
       " ('Eastern Asia', 1362955),\n",
       " ('South America', 593121),\n",
       " ('Eastern Europe', 223427),\n",
       " ('North America', 661157),\n",
       " ('Western Europe', 387933),\n",
       " ('Japan', 100562)]"
      ]
     },
     "execution_count": 25,
     "metadata": {},
     "output_type": "execute_result"
    }
   ],
   "source": [
    "cur.fetchall()"
   ]
  },
  {
   "cell_type": "markdown",
   "metadata": {},
   "source": [
    "### Query Conditions, p. 350\n",
    "+ We can use the keyword **WHERE** to select a **subset** of the data. For example, we can get the regions with populations greater than one million using the  greater-than operator:"
   ]
  },
  {
   "cell_type": "code",
   "execution_count": 26,
   "metadata": {},
   "outputs": [
    {
     "data": {
      "text/plain": [
       "<sqlite3.Cursor at 0x25edafcc110>"
      ]
     },
     "execution_count": 26,
     "metadata": {},
     "output_type": "execute_result"
    }
   ],
   "source": [
    "cur.execute('SELECT Region FROM PopByRegion WHERE Population > 1000000')"
   ]
  },
  {
   "cell_type": "code",
   "execution_count": 27,
   "metadata": {},
   "outputs": [
    {
     "data": {
      "text/plain": [
       "[('Northern Africa',), ('Southern',), ('Eastern Asia',)]"
      ]
     },
     "execution_count": 27,
     "metadata": {},
     "output_type": "execute_result"
    }
   ],
   "source": [
    "cur.fetchall()"
   ]
  },
  {
   "cell_type": "code",
   "execution_count": 28,
   "metadata": {},
   "outputs": [
    {
     "data": {
      "text/plain": [
       "[('Northern Africa', 1037463),\n",
       " ('Southern', 2051941),\n",
       " ('Eastern Asia', 1362955)]"
      ]
     },
     "execution_count": 28,
     "metadata": {},
     "output_type": "execute_result"
    }
   ],
   "source": [
    "cur.execute('SELECT * FROM PopByRegion WHERE Population > 1000000')\n",
    "cur.fetchall()"
   ]
  },
  {
   "cell_type": "raw",
   "metadata": {},
   "source": [
    "Table 32—SQL Relational Operators\n",
    "These are the relational operators that may be used with WHERE:\n",
    "\n",
    "Operators   Description\n",
    "=           Equal to\n",
    "!=          Not equal to\n",
    ">           Greater than\n",
    "<           Less than\n",
    ">=          Greater than or equal to\n",
    "<=          Less than or equal to"
   ]
  },
  {
   "cell_type": "code",
   "execution_count": 29,
   "metadata": {},
   "outputs": [
    {
     "data": {
      "text/plain": [
       "<sqlite3.Cursor at 0x25edafcc110>"
      ]
     },
     "execution_count": 29,
     "metadata": {},
     "output_type": "execute_result"
    }
   ],
   "source": [
    "# we can use the the relational operators and logical operators, \n",
    "# AND, OR, and NOT together.\n",
    "# A triple-quoted string below for a SQL statement can span multiple lines. \n",
    "\n",
    "# ''' is for spaning multiple lines\n",
    "cur.execute('''SELECT Region FROM PopByRegion \n",
    "WHERE Population > 1000000 AND Region < \"L\"''')  "
   ]
  },
  {
   "cell_type": "code",
   "execution_count": 30,
   "metadata": {},
   "outputs": [
    {
     "data": {
      "text/plain": [
       "[('Eastern Asia',)]"
      ]
     },
     "execution_count": 30,
     "metadata": {},
     "output_type": "execute_result"
    }
   ],
   "source": [
    "cur.fetchall()"
   ]
  },
  {
   "cell_type": "markdown",
   "metadata": {},
   "source": [
    "### Updating and Deleting, p. 351\n",
    "+ **UPDATE** command updates records.\n",
    "+ **DELETE** command deletes records."
   ]
  },
  {
   "cell_type": "markdown",
   "metadata": {},
   "source": [
    "###### **UPDATE** command updates record"
   ]
  },
  {
   "cell_type": "code",
   "execution_count": 31,
   "metadata": {},
   "outputs": [
    {
     "data": {
      "text/plain": [
       "<sqlite3.Cursor at 0x25edafcc110>"
      ]
     },
     "execution_count": 31,
     "metadata": {},
     "output_type": "execute_result"
    }
   ],
   "source": [
    "cur.execute('SELECT * FROM PopByRegion')"
   ]
  },
  {
   "cell_type": "code",
   "execution_count": 32,
   "metadata": {},
   "outputs": [
    {
     "data": {
      "text/plain": [
       "[('Central Africa', 330993),\n",
       " ('Southeastern Africa', 743112),\n",
       " ('Northern Africa', 1037463),\n",
       " ('Southern', 2051941),\n",
       " ('Asia Pacific', 785468),\n",
       " ('Middle East', 687630),\n",
       " ('Eastern Asia', 1362955),\n",
       " ('South America', 593121),\n",
       " ('Eastern Europe', 223427),\n",
       " ('North America', 661157),\n",
       " ('Western Europe', 387933),\n",
       " ('Japan', 100562)]"
      ]
     },
     "execution_count": 32,
     "metadata": {},
     "output_type": "execute_result"
    }
   ],
   "source": [
    "cur.fetchall()"
   ]
  },
  {
   "cell_type": "code",
   "execution_count": 33,
   "metadata": {},
   "outputs": [
    {
     "data": {
      "text/plain": [
       "('Japan', 100562)"
      ]
     },
     "execution_count": 33,
     "metadata": {},
     "output_type": "execute_result"
    }
   ],
   "source": [
    "cur.execute('SELECT * FROM PopByRegion WHERE Region = \"Japan\"')\n",
    "cur.fetchone()"
   ]
  },
  {
   "cell_type": "code",
   "execution_count": 34,
   "metadata": {},
   "outputs": [
    {
     "data": {
      "text/plain": [
       "('Japan', 100600)"
      ]
     },
     "execution_count": 34,
     "metadata": {},
     "output_type": "execute_result"
    }
   ],
   "source": [
    "# UPDATE command updates records:\n",
    "cur.execute('''UPDATE PopByRegion SET Population = 100600\n",
    "WHERE Region = \"Japan\"''')\n",
    "cur.execute('SELECT * FROM PopByRegion WHERE Region = \"Japan\"')\n",
    "cur.fetchone()"
   ]
  },
  {
   "cell_type": "markdown",
   "metadata": {},
   "source": [
    "###### **DELETE** command deletes records"
   ]
  },
  {
   "cell_type": "code",
   "execution_count": 35,
   "metadata": {},
   "outputs": [
    {
     "data": {
      "text/plain": [
       "[('Central Africa', 330993),\n",
       " ('Southeastern Africa', 743112),\n",
       " ('Northern Africa', 1037463),\n",
       " ('Southern', 2051941),\n",
       " ('Asia Pacific', 785468),\n",
       " ('Middle East', 687630),\n",
       " ('Eastern Asia', 1362955),\n",
       " ('South America', 593121),\n",
       " ('Eastern Europe', 223427),\n",
       " ('North America', 661157),\n",
       " ('Western Europe', 387933),\n",
       " ('Japan', 100600)]"
      ]
     },
     "execution_count": 35,
     "metadata": {},
     "output_type": "execute_result"
    }
   ],
   "source": [
    "cur.execute('SELECT * FROM PopByRegion')\n",
    "cur.fetchall()"
   ]
  },
  {
   "cell_type": "code",
   "execution_count": 36,
   "metadata": {},
   "outputs": [
    {
     "data": {
      "text/plain": [
       "[('Southeastern Africa', 743112),\n",
       " ('Northern Africa', 1037463),\n",
       " ('Southern', 2051941),\n",
       " ('Middle East', 687630),\n",
       " ('South America', 593121),\n",
       " ('North America', 661157),\n",
       " ('Western Europe', 387933)]"
      ]
     },
     "execution_count": 36,
     "metadata": {},
     "output_type": "execute_result"
    }
   ],
   "source": [
    "# DELETE command deletes records:\n",
    "cur.execute('DELETE FROM PopByRegion WHERE Region < \"L\"')\n",
    "cur.execute('SELECT * FROM PopByRegion')\n",
    "cur.fetchall()"
   ]
  },
  {
   "cell_type": "markdown",
   "metadata": {},
   "source": [
    "###### Putting records back into the database"
   ]
  },
  {
   "cell_type": "code",
   "execution_count": 37,
   "metadata": {},
   "outputs": [
    {
     "data": {
      "text/plain": [
       "<sqlite3.Cursor at 0x25edafcc110>"
      ]
     },
     "execution_count": 37,
     "metadata": {},
     "output_type": "execute_result"
    }
   ],
   "source": [
    "# We can always put records back into the database:\n",
    "\n",
    "cur.execute('INSERT INTO PopByRegion VALUES (\"Japan\",  100600)')\n",
    "cur.execute('INSERT INTO PopByRegion VALUES (\"Central Africa\",  330993)')\n",
    "cur.execute('INSERT INTO PopByRegion VALUES (\"Asia Pacific\",  785468)')\n",
    "cur.execute('INSERT INTO PopByRegion VALUES (\"Eastern Asia\",  1362955)')\n",
    "cur.execute('INSERT INTO PopByRegion VALUES (\"Eastern Europe\",  223427)')"
   ]
  },
  {
   "cell_type": "code",
   "execution_count": 38,
   "metadata": {
    "collapsed": true
   },
   "outputs": [],
   "source": [
    "# cur.execute('DELETE FROM PopByRegion WHERE  Region >= \"K\"')"
   ]
  },
  {
   "cell_type": "code",
   "execution_count": 39,
   "metadata": {},
   "outputs": [
    {
     "data": {
      "text/plain": [
       "<sqlite3.Cursor at 0x25edafcc110>"
      ]
     },
     "execution_count": 39,
     "metadata": {},
     "output_type": "execute_result"
    }
   ],
   "source": [
    "cur.execute('SELECT * FROM PopByRegion')"
   ]
  },
  {
   "cell_type": "code",
   "execution_count": 40,
   "metadata": {},
   "outputs": [
    {
     "data": {
      "text/plain": [
       "('Southeastern Africa', 743112)"
      ]
     },
     "execution_count": 40,
     "metadata": {},
     "output_type": "execute_result"
    }
   ],
   "source": [
    "cur.fetchone()"
   ]
  },
  {
   "cell_type": "code",
   "execution_count": 41,
   "metadata": {},
   "outputs": [
    {
     "data": {
      "text/plain": [
       "[('Northern Africa', 1037463),\n",
       " ('Southern', 2051941),\n",
       " ('Middle East', 687630),\n",
       " ('South America', 593121),\n",
       " ('North America', 661157),\n",
       " ('Western Europe', 387933),\n",
       " ('Japan', 100600),\n",
       " ('Central Africa', 330993),\n",
       " ('Asia Pacific', 785468),\n",
       " ('Eastern Asia', 1362955),\n",
       " ('Eastern Europe', 223427)]"
      ]
     },
     "execution_count": 41,
     "metadata": {},
     "output_type": "execute_result"
    }
   ],
   "source": [
    "cur.fetchall()"
   ]
  },
  {
   "cell_type": "markdown",
   "metadata": {},
   "source": [
    "###### DROP command removes an entire table from the database:\n",
    "\n",
    "+ **DROP TABLE TableName**"
   ]
  },
  {
   "cell_type": "code",
   "execution_count": 42,
   "metadata": {
    "collapsed": true
   },
   "outputs": [],
   "source": [
    "# Suppose we want to drop (remove) the table PopByRegion:\n",
    "\n",
    "# cur.execute('DROP TABLE PopByRegion')"
   ]
  },
  {
   "cell_type": "markdown",
   "metadata": {},
   "source": [
    "### Using NULL for Missing Data, p. 352"
   ]
  },
  {
   "cell_type": "code",
   "execution_count": 43,
   "metadata": {},
   "outputs": [
    {
     "data": {
      "text/plain": [
       "<sqlite3.Cursor at 0x25edafcc110>"
      ]
     },
     "execution_count": 43,
     "metadata": {},
     "output_type": "execute_result"
    }
   ],
   "source": [
    "# Insert the value NULL to represent the missing values:\n",
    "\n",
    "cur.execute('INSERT INTO PopByRegion VALUES (\"Mars\", NULL)')"
   ]
  },
  {
   "cell_type": "code",
   "execution_count": 44,
   "metadata": {},
   "outputs": [
    {
     "data": {
      "text/plain": [
       "[('Southeastern Africa', 743112),\n",
       " ('Northern Africa', 1037463),\n",
       " ('Southern', 2051941),\n",
       " ('Middle East', 687630),\n",
       " ('South America', 593121),\n",
       " ('North America', 661157),\n",
       " ('Western Europe', 387933),\n",
       " ('Japan', 100600),\n",
       " ('Central Africa', 330993),\n",
       " ('Asia Pacific', 785468),\n",
       " ('Eastern Asia', 1362955),\n",
       " ('Eastern Europe', 223427),\n",
       " ('Mars', None)]"
      ]
     },
     "execution_count": 44,
     "metadata": {},
     "output_type": "execute_result"
    }
   ],
   "source": [
    "cur.execute('SELECT * FROM PopByRegion')\n",
    "cur.fetchall()"
   ]
  },
  {
   "cell_type": "markdown",
   "metadata": {},
   "source": [
    "###### NOT NULL prevents NULL in a column while creating a table"
   ]
  },
  {
   "cell_type": "code",
   "execution_count": 45,
   "metadata": {},
   "outputs": [
    {
     "data": {
      "text/plain": [
       "<sqlite3.Cursor at 0x25edafcc110>"
      ]
     },
     "execution_count": 45,
     "metadata": {},
     "output_type": "execute_result"
    }
   ],
   "source": [
    "# If we probably don’t want a record in the database that has a NULL region name\n",
    "# . We can prevent this from ever happening, stating that the column is NOT NULL\n",
    "# when the table is created:\n",
    "\n",
    "cur.execute('CREATE TABLE Test (Region TEXT NOT NULL, '\n",
    "            'Population INTEGER)')"
   ]
  },
  {
   "cell_type": "code",
   "execution_count": 46,
   "metadata": {},
   "outputs": [
    {
     "data": {
      "text/plain": [
       "[]"
      ]
     },
     "execution_count": 46,
     "metadata": {},
     "output_type": "execute_result"
    }
   ],
   "source": [
    "# cur.fetchall() before inserting any records, we get nothing.\n",
    "cur.execute('SELECT * FROM Test')\n",
    "cur.fetchall()"
   ]
  },
  {
   "cell_type": "code",
   "execution_count": 47,
   "metadata": {},
   "outputs": [
    {
     "data": {
      "text/plain": [
       "<sqlite3.Cursor at 0x25edafcc110>"
      ]
     },
     "execution_count": 47,
     "metadata": {},
     "output_type": "execute_result"
    }
   ],
   "source": [
    "cur.execute('INSERT INTO Test VALUES (\"TAIWAN\", 456789)')"
   ]
  },
  {
   "cell_type": "code",
   "execution_count": 48,
   "metadata": {},
   "outputs": [
    {
     "data": {
      "text/plain": [
       "[('TAIWAN', 456789)]"
      ]
     },
     "execution_count": 48,
     "metadata": {},
     "output_type": "execute_result"
    }
   ],
   "source": [
    "cur.execute('SELECT * FROM Test')\n",
    "cur.fetchall()"
   ]
  },
  {
   "cell_type": "code",
   "execution_count": 49,
   "metadata": {
    "collapsed": true
   },
   "outputs": [],
   "source": [
    "# cur.execute('DROP TABLE Test')"
   ]
  },
  {
   "cell_type": "code",
   "execution_count": 50,
   "metadata": {},
   "outputs": [
    {
     "ename": "IntegrityError",
     "evalue": "NOT NULL constraint failed: Test.Region",
     "output_type": "error",
     "traceback": [
      "\u001b[1;31m---------------------------------------------------------------------------\u001b[0m",
      "\u001b[1;31mIntegrityError\u001b[0m                            Traceback (most recent call last)",
      "\u001b[1;32m<ipython-input-50-1a2817c8a823>\u001b[0m in \u001b[0;36m<module>\u001b[1;34m\u001b[0m\n\u001b[0;32m      2\u001b[0m \u001b[1;31m# we get an error message:\u001b[0m\u001b[1;33m\u001b[0m\u001b[1;33m\u001b[0m\u001b[1;33m\u001b[0m\u001b[0m\n\u001b[0;32m      3\u001b[0m \u001b[1;33m\u001b[0m\u001b[0m\n\u001b[1;32m----> 4\u001b[1;33m \u001b[0mcur\u001b[0m\u001b[1;33m.\u001b[0m\u001b[0mexecute\u001b[0m\u001b[1;33m(\u001b[0m\u001b[1;34m'INSERT INTO Test VALUES (NULL, 456789)'\u001b[0m\u001b[1;33m)\u001b[0m\u001b[1;33m\u001b[0m\u001b[1;33m\u001b[0m\u001b[0m\n\u001b[0m",
      "\u001b[1;31mIntegrityError\u001b[0m: NOT NULL constraint failed: Test.Region"
     ]
    }
   ],
   "source": [
    "# Now when we try to insert a NULL region into our new Test table, \n",
    "# we get an error message:\n",
    "\n",
    "cur.execute('INSERT INTO Test VALUES (NULL, 456789)')"
   ]
  },
  {
   "cell_type": "markdown",
   "metadata": {},
   "source": [
    "##### The three-valued logical operations: \n",
    "+ **TRUE**,\n",
    "+ **FALSE**, or \n",
    "+ **NULL (unknown)**\n",
    "\n",
    "    1. The technical term for this is three-valued logic. In SQL’s view of the logical operations, it's **three-valued logic: true, false, or NULL (unknown)**. \n",
    "\n",
    "    2. Unfortunately, different databases interpret ambiguities in the SQL standard in different ways, so their handling of NULL is not consistent. We should be careful when we use NULL."
   ]
  },
  {
   "cell_type": "markdown",
   "metadata": {},
   "source": [
    "# Pause (2021-04-30)"
   ]
  },
  {
   "cell_type": "markdown",
   "metadata": {},
   "source": [
    "### Using Joins to Combine Tables, p. 353\n",
    "+ **A database usually consists of several tables.** For example, **a database of patient records have 4 tables:**\n",
    "    1. patient's personal information: name and birthday\n",
    "    2. appointment: patient, doctor, and date\n",
    "    3. doctors: name and hospital\n",
    "    4. hospitals or clinics: hospital name and address"
   ]
  },
  {
   "cell_type": "markdown",
   "metadata": {},
   "source": [
    "###### join, p. 354\n",
    "+ Joining tables of a database"
   ]
  },
  {
   "cell_type": "code",
   "execution_count": 51,
   "metadata": {},
   "outputs": [
    {
     "data": {
      "text/plain": [
       "<sqlite3.Cursor at 0x25edafcc110>"
      ]
     },
     "execution_count": 51,
     "metadata": {},
     "output_type": "execute_result"
    }
   ],
   "source": [
    "# Let’s add another table that contains the names of countries, \n",
    "# the regions that they are in, and their populations:\n",
    "\n",
    "cur.execute('''CREATE TABLE PopByCountry(Region TEXT, Country TEXT,\n",
    "Population INTEGER)''')"
   ]
  },
  {
   "cell_type": "code",
   "execution_count": 52,
   "metadata": {},
   "outputs": [
    {
     "data": {
      "text/plain": [
       "<sqlite3.Cursor at 0x25edafcc110>"
      ]
     },
     "execution_count": 52,
     "metadata": {},
     "output_type": "execute_result"
    }
   ],
   "source": [
    "# Then let’s insert data into the new table:\n",
    "\n",
    "cur.execute('''INSERT INTO PopByCountry VALUES(\"Eastern Asia\", \"China\",\n",
    "1285238)''')"
   ]
  },
  {
   "cell_type": "markdown",
   "metadata": {},
   "source": [
    "### Inserting data by inserting a list of tuples with looping, p. 354\n",
    "+ Inserting data one row at a time like this requires a lot of typing. It is simpler to **make a list of tuples to be inserted and write a loop that inserts the values from these tuples one by one using the placeholder notation.**"
   ]
  },
  {
   "cell_type": "code",
   "execution_count": 53,
   "metadata": {
    "collapsed": true
   },
   "outputs": [],
   "source": [
    "countries = [(\"Eastern Asia\", \"DPR Korea\", 24056), \n",
    "             (\"Eastern Asia\", \"Hong Kong (China)\", 8764),  \n",
    "             (\"Eastern Asia\", \"Mongolia\", 3407),  \n",
    "             (\"Eastern Asia\", \"Republic of Korea\", 41491),  \n",
    "             (\"Eastern Asia\", \"Taiwan\", 1433), \n",
    "             (\"North America\", \"Bahamas\", 368), \n",
    "             (\"North America\", \"Canada\", 40876), \n",
    "             (\"North America\", \"Greenland\", 43),  \n",
    "             (\"North America\", \"Mexico\", 126875), \n",
    "             (\"North America\", \"United  States\", 493038)]\n",
    "\n",
    "for c in countries:\n",
    "    cur.execute('INSERT INTO PopByCountry VALUES (?, ?, ?)', (c[0], c[1], c[2]))\n",
    "\n",
    "con.commit()  # save"
   ]
  },
  {
   "cell_type": "code",
   "execution_count": 54,
   "metadata": {},
   "outputs": [
    {
     "data": {
      "text/plain": [
       "<sqlite3.Cursor at 0x25edafcc110>"
      ]
     },
     "execution_count": 54,
     "metadata": {},
     "output_type": "execute_result"
    }
   ],
   "source": [
    "cur.execute('SELECT * FROM PopByCountry')"
   ]
  },
  {
   "cell_type": "code",
   "execution_count": 55,
   "metadata": {},
   "outputs": [
    {
     "data": {
      "text/plain": [
       "[('Eastern Asia', 'China', 1285238),\n",
       " ('Eastern Asia', 'DPR Korea', 24056),\n",
       " ('Eastern Asia', 'Hong Kong (China)', 8764),\n",
       " ('Eastern Asia', 'Mongolia', 3407),\n",
       " ('Eastern Asia', 'Republic of Korea', 41491),\n",
       " ('Eastern Asia', 'Taiwan', 1433),\n",
       " ('North America', 'Bahamas', 368),\n",
       " ('North America', 'Canada', 40876),\n",
       " ('North America', 'Greenland', 43),\n",
       " ('North America', 'Mexico', 126875),\n",
       " ('North America', 'United  States', 493038)]"
      ]
     },
     "execution_count": 55,
     "metadata": {},
     "output_type": "execute_result"
    }
   ],
   "source": [
    "cur.fetchall()"
   ]
  },
  {
   "cell_type": "code",
   "execution_count": 55,
   "metadata": {
    "collapsed": true
   },
   "outputs": [],
   "source": [
    "# cur.execute('DROP TABLE PopByCountry')"
   ]
  },
  {
   "cell_type": "markdown",
   "metadata": {},
   "source": [
    "### inner joins & self-joins, p. 355\n",
    "\n",
    "+ Now that we have two tables in our database, we can use **joins** to combine the information they contain. Several types of joins exist; you’ll learn about **inner joins** and **self-joins**.\n",
    "+ Procedure of **Inner join:**\n",
    "    1. Constructing the cross product of the tables\n",
    "    2. Discarding rows that do not meet the selection criteria: use **WHERE clause**\n",
    "    3. Selecting columns from the remaining rows"
   ]
  },
  {
   "cell_type": "markdown",
   "metadata": {},
   "source": [
    "###### Three steps:\n",
    "1. Combine every row of PopByRegion with every row of PopByCountry. PopByRegion has 2 columns and 12 rows, while PopByCountry has 3 columns and 11 rows, so this produces a temporary table with 5 columns and 132 rows.\n",
    "2. The join’s **WHERE** clause **discards rows** that do not meet the 2 selection criteria. \n",
    "3. Finally, select the region and country names from the rows that have survived."
   ]
  },
  {
   "cell_type": "code",
   "execution_count": 56,
   "metadata": {},
   "outputs": [
    {
     "data": {
      "text/plain": [
       "<sqlite3.Cursor at 0x25edafcc110>"
      ]
     },
     "execution_count": 56,
     "metadata": {},
     "output_type": "execute_result"
    }
   ],
   "source": [
    "cur.execute('SELECT * FROM PopByCountry ORDER BY Region')"
   ]
  },
  {
   "cell_type": "code",
   "execution_count": 57,
   "metadata": {},
   "outputs": [
    {
     "data": {
      "text/plain": [
       "[('Eastern Asia', 'China', 1285238),\n",
       " ('Eastern Asia', 'DPR Korea', 24056),\n",
       " ('Eastern Asia', 'Hong Kong (China)', 8764),\n",
       " ('Eastern Asia', 'Mongolia', 3407),\n",
       " ('Eastern Asia', 'Republic of Korea', 41491),\n",
       " ('Eastern Asia', 'Taiwan', 1433),\n",
       " ('North America', 'Bahamas', 368),\n",
       " ('North America', 'Canada', 40876),\n",
       " ('North America', 'Greenland', 43),\n",
       " ('North America', 'Mexico', 126875),\n",
       " ('North America', 'United  States', 493038)]"
      ]
     },
     "execution_count": 57,
     "metadata": {},
     "output_type": "execute_result"
    }
   ],
   "source": [
    "cur.fetchall()"
   ]
  },
  {
   "cell_type": "code",
   "execution_count": 58,
   "metadata": {},
   "outputs": [
    {
     "data": {
      "text/plain": [
       "<sqlite3.Cursor at 0x25edafcc110>"
      ]
     },
     "execution_count": 58,
     "metadata": {},
     "output_type": "execute_result"
    }
   ],
   "source": [
    "cur.execute('SELECT * FROM PopByRegion ORDER BY Region')"
   ]
  },
  {
   "cell_type": "code",
   "execution_count": 59,
   "metadata": {},
   "outputs": [
    {
     "data": {
      "text/plain": [
       "[('Asia Pacific', 785468),\n",
       " ('Central Africa', 330993),\n",
       " ('Eastern Asia', 1362955),\n",
       " ('Eastern Europe', 223427),\n",
       " ('Japan', 100600),\n",
       " ('Mars', None),\n",
       " ('Middle East', 687630),\n",
       " ('North America', 661157),\n",
       " ('Northern Africa', 1037463),\n",
       " ('South America', 593121),\n",
       " ('Southeastern Africa', 743112),\n",
       " ('Southern', 2051941),\n",
       " ('Western Europe', 387933)]"
      ]
     },
     "execution_count": 59,
     "metadata": {},
     "output_type": "execute_result"
    }
   ],
   "source": [
    "x = cur.fetchall()\n",
    "x"
   ]
  },
  {
   "cell_type": "code",
   "execution_count": 65,
   "metadata": {},
   "outputs": [
    {
     "data": {
      "text/plain": [
       "<sqlite3.Cursor at 0x25edafcc110>"
      ]
     },
     "execution_count": 65,
     "metadata": {},
     "output_type": "execute_result"
    }
   ],
   "source": [
    "# query: \n",
    "# In an earlier query, we retrieved the names of regions with projected \n",
    "# populations greater than one million. Using an inner join, we can get \n",
    "# the names of the countries that are in those regions.\n",
    "\n",
    "cur.execute('''\n",
    "SELECT PopByRegion.Region, PopByCountry.Country \n",
    "FROM PopByRegion INNER JOIN PopByCountry\n",
    "WHERE (PopByRegion.Region = PopByCountry.Region) \n",
    "AND (PopByRegion.Population > 1000000)\n",
    "''')"
   ]
  },
  {
   "cell_type": "code",
   "execution_count": 66,
   "metadata": {},
   "outputs": [
    {
     "data": {
      "text/plain": [
       "[('Eastern Asia', 'China'),\n",
       " ('Eastern Asia', 'DPR Korea'),\n",
       " ('Eastern Asia', 'Hong Kong (China)'),\n",
       " ('Eastern Asia', 'Mongolia'),\n",
       " ('Eastern Asia', 'Republic of Korea'),\n",
       " ('Eastern Asia', 'Taiwan')]"
      ]
     },
     "execution_count": 66,
     "metadata": {},
     "output_type": "execute_result"
    }
   ],
   "source": [
    " cur.fetchall()"
   ]
  },
  {
   "cell_type": "markdown",
   "metadata": {},
   "source": [
    "### Removing Duplicates, p. 357"
   ]
  },
  {
   "cell_type": "code",
   "execution_count": 67,
   "metadata": {},
   "outputs": [
    {
     "data": {
      "text/plain": [
       "[('North America',), ('North America',), ('Eastern Asia',)]"
      ]
     },
     "execution_count": 67,
     "metadata": {},
     "output_type": "execute_result"
    }
   ],
   "source": [
    "# To find the regions where one country accounts for more than 10 percent of \n",
    "# the region’s overall population, we would also need to join the two tables.\n",
    "\n",
    "cur.execute('''\n",
    "SELECT PopByRegion.Region\n",
    "FROM PopByRegion INNER JOIN PopByCountry\n",
    "WHERE (PopByRegion.Region = PopByCountry.Region)\n",
    "AND ((PopByCountry.Population * 1.0) / PopByRegion.Population > 0.10)\n",
    "''')\n",
    "\n",
    "cur.fetchall()  # 'North America' appears twice."
   ]
  },
  {
   "cell_type": "code",
   "execution_count": 68,
   "metadata": {},
   "outputs": [
    {
     "data": {
      "text/plain": [
       "[('North America',), ('Eastern Asia',)]"
      ]
     },
     "execution_count": 68,
     "metadata": {},
     "output_type": "execute_result"
    }
   ],
   "source": [
    "# We use multiplication and division in our WHERE condition to calculate the \n",
    "# percentage of the region’s population by country as a floating-point number. \n",
    "# The resulting list contains duplicates, since more than one North American \n",
    "# country accounts for more than 10 percent of the region’s population. \n",
    "# To remove the duplicates, we add the keyword DISTINCT to the query:\n",
    "\n",
    "# SELECT DISTINCT ... to remove the duplicates.\n",
    "cur.execute('''\n",
    "SELECT DISTINCT PopByRegion.Region\n",
    "FROM PopByRegion INNER JOIN PopByCountry\n",
    "WHERE (PopByRegion.Region = PopByCountry.Region)\n",
    "AND ((PopByCountry.Population * 1.0) / PopByRegion.Population > 0.10)\n",
    "''')\n",
    "cur.fetchall()\n",
    "# Now in the results, 'North America' appears only once."
   ]
  },
  {
   "cell_type": "markdown",
   "metadata": {},
   "source": [
    "### Keys and Constraints, p. 357\n",
    "+ Joining tables should use keys. \n",
    "+ A key’s values should be unique.\n",
    "+ We can tell the database to enforce this constraint by adding a **PRIMARY KEY clause when we create the table**.\n",
    "+ For example, **when we created the PopByRegion table, we should have specified the primary key**:"
   ]
  },
  {
   "cell_type": "markdown",
   "metadata": {},
   "source": [
    "**SQL PRIMARY KEY Constraint**\n",
    "\n",
    "The PRIMARY KEY constraint **uniquely identifies each record in a table**.\n",
    "\n",
    "Primary keys **must contain UNIQUE values, and cannot contain NULL values.**\n",
    "\n",
    "**A table can have only ONE primary key**; and in the table, **this primary key can consist of single or multiple columns (fields).**"
   ]
  },
  {
   "cell_type": "raw",
   "metadata": {},
   "source": [
    "cur.execute('''CREATE TABLE PopByRegion (\n",
    "                Region TEXT NOT NULL,\n",
    "                Population INTEGER NOT NULL, \n",
    "                PRIMARY KEY (Region))''')"
   ]
  },
  {
   "cell_type": "raw",
   "metadata": {},
   "source": [
    "Just as a key in a dictionary can be made up of multiple values, the primary key for a database table can consist of multiple columns."
   ]
  },
  {
   "cell_type": "markdown",
   "metadata": {},
   "source": [
    "###### CONSTRAINT keyword, p. 358"
   ]
  },
  {
   "cell_type": "raw",
   "metadata": {},
   "source": [
    "# The following code uses the CONSTRAINT keyword to specify that no two entries \n",
    "# in the table being created will ever have the same values for region and \n",
    "# country:\n",
    "\n",
    "cur.execute('''\n",
    "CREATE TABLE PopByCountry(\n",
    "Region TEXT NOT NULL,\n",
    "Country TEXT NOT NULL, \n",
    "Population INTEGER NOT NULL,\n",
    "CONSTRAINT CountryKey PRIMARY KEY (Region, Country))''')"
   ]
  },
  {
   "cell_type": "markdown",
   "metadata": {},
   "source": [
    "###### [SQL PRIMARY KEY Constraint](https://www.w3schools.com/sql//sql_primarykey.asp)"
   ]
  },
  {
   "cell_type": "markdown",
   "metadata": {},
   "source": [
    "The **ADD CONSTRAINT command** is used to **create a constraint after a table is already created.**\n",
    "\n",
    "**The following SQL adds a constraint named \"PK_Person\" that is a PRIMARY KEY constraint on multiple columns (ID and LastName):**\n",
    "\n",
    "Note: In the **example below** there is **only ONE PRIMARY KEY (PK_Person)**. **However, the VALUE of the primary key is made up of TWO COLUMNS (ID + LastName).**"
   ]
  },
  {
   "cell_type": "raw",
   "metadata": {},
   "source": [
    "cur.execute('''ALTER TABLE Persons\n",
    "ADD CONSTRAINT PK_Person PRIMARY KEY (ID, LastName)''')"
   ]
  },
  {
   "cell_type": "markdown",
   "metadata": {},
   "source": [
    "###### Note: Taking unique integer ID as primary keys\n",
    "1. We usually don’t use real names as primary keys.\n",
    "2. Instead, we create a unique integer ID for each “thing” in the database, such as a driver’s license number or a patient ID. This is partly done for efficiency’s sake—integers are faster to sort and compare than strings—but the real reason is that it is a simple way to deal with things that have the same name. "
   ]
  },
  {
   "cell_type": "markdown",
   "metadata": {},
   "source": [
    "### Advanced Features, p. 358"
   ]
  },
  {
   "cell_type": "markdown",
   "metadata": {},
   "source": [
    "#### 1. Aggregation, p. 358\n",
    "+ using the SQL aggregate function **SUM**"
   ]
  },
  {
   "cell_type": "code",
   "execution_count": 4,
   "metadata": {},
   "outputs": [
    {
     "data": {
      "text/plain": [
       "(8965800,)"
      ]
     },
     "execution_count": 4,
     "metadata": {},
     "output_type": "execute_result"
    }
   ],
   "source": [
    "# using the SQL aggregate function SUM:\n",
    "cur.execute('SELECT SUM (Population) FROM PopByRegion')\n",
    "cur.fetchone()"
   ]
  },
  {
   "cell_type": "raw",
   "metadata": {},
   "source": [
    "Table 33—SQL Aggregate Functions\n",
    "\n",
    "Aggregate    Description\n",
    "Function\n",
    "AVG          Average of the values \n",
    "MIN          Minimum value \n",
    "MAX          Maximum value\n",
    "COUNT        Number of nonnull values\n",
    "SUM          Sum of the values"
   ]
  },
  {
   "cell_type": "markdown",
   "metadata": {},
   "source": [
    "#### 2. Grouping, p. 359"
   ]
  },
  {
   "cell_type": "code",
   "execution_count": 5,
   "metadata": {},
   "outputs": [
    {
     "data": {
      "text/plain": [
       "[('Eastern Asia', 1364389), ('North America', 661200)]"
      ]
     },
     "execution_count": 5,
     "metadata": {},
     "output_type": "execute_result"
    }
   ],
   "source": [
    "# We use SQL’s GROUP BY to collect results into subsets:\n",
    "\n",
    "cur.execute('''SELECT Region, SUM (Population) FROM PopByCountry\n",
    "               GROUP BY Region''')\n",
    "cur.fetchall()"
   ]
  },
  {
   "cell_type": "markdown",
   "metadata": {},
   "source": [
    "Since we construct **groups by Region** which has two distinct values, the database divides the records into two subsets. We then apply the **SUM** function to **each group** separately:"
   ]
  },
  {
   "cell_type": "code",
   "execution_count": 6,
   "metadata": {},
   "outputs": [
    {
     "data": {
      "text/plain": [
       "[(661200,)]"
      ]
     },
     "execution_count": 6,
     "metadata": {},
     "output_type": "execute_result"
    }
   ],
   "source": [
    "\n",
    "cur.execute('''SELECT SUM (Population) FROM PopByCountry\n",
    "               WHERE Region = \"North America\"''')\n",
    "cur.fetchall()"
   ]
  },
  {
   "cell_type": "code",
   "execution_count": 7,
   "metadata": {},
   "outputs": [
    {
     "data": {
      "text/plain": [
       "[(1364389,)]"
      ]
     },
     "execution_count": 7,
     "metadata": {},
     "output_type": "execute_result"
    }
   ],
   "source": [
    "cur.execute('''SELECT SUM (Population) FROM PopByCountry\n",
    "               WHERE Region = \"Eastern Asia\"''')\n",
    "cur.fetchall()"
   ]
  },
  {
   "cell_type": "markdown",
   "metadata": {},
   "source": [
    "#### 3. Self-Joins, p. 359\n",
    "+ Let’s consider the problem of comparing a table’s values to themselves. Suppose that we want to find pairs of countries whose populations are close to each other—say, within 1,000 of each other.\n",
    "+ What we actually want to do is compare the population in one row with the populations in each of the other rows."
   ]
  },
  {
   "cell_type": "markdown",
   "metadata": {},
   "source": [
    "###### 3-1. Incorrect Result\n",
    "+ The code snippet below gets **incorrect result**.\n",
    "+ The output is definitely not what we want, for two reasons. \n",
    "    1. First, the phrase **SELECT Country** is going to **return only one country per record, but we want pairs of countries.** \n",
    "    2. Second, the expression ABS(Population - Population) is always going to return zero because we are **subtracting each country’s population from itself.** \n",
    "    \n",
    "    Since every difference will be less than 1,000, the names of all the countries in the table will be returned by the query."
   ]
  },
  {
   "cell_type": "code",
   "execution_count": 8,
   "metadata": {},
   "outputs": [
    {
     "data": {
      "text/plain": [
       "[('China',),\n",
       " ('DPR Korea',),\n",
       " ('Hong Kong (China)',),\n",
       " ('Mongolia',),\n",
       " ('Republic of Korea',),\n",
       " ('Taiwan',),\n",
       " ('Bahamas',),\n",
       " ('Canada',),\n",
       " ('Greenland',),\n",
       " ('Mexico',),\n",
       " ('United  States',)]"
      ]
     },
     "execution_count": 8,
     "metadata": {},
     "output_type": "execute_result"
    }
   ],
   "source": [
    "# Incorrect Result\n",
    "cur.execute('''SELECT  Country  FROM  PopByCountry\n",
    "WHERE (ABS(Population - Population) < 1000)''')\n",
    "cur.fetchall()"
   ]
  },
  {
   "cell_type": "markdown",
   "metadata": {},
   "source": [
    "###### 3-2. Correct Result\n",
    "+ What we actually want to do is compare the population in one row with the populations in each of the other rows.\n",
    "+ This will result in the rows as **the table shown on p. 360**. To tell them apart, we have to **give the two instances of the PopByCountry table temporary names (in this case, A and B)**:"
   ]
  },
  {
   "cell_type": "code",
   "execution_count": 9,
   "metadata": {},
   "outputs": [
    {
     "data": {
      "text/plain": [
       "[('Republic of Korea', 'Canada'),\n",
       " ('Bahamas', 'Greenland'),\n",
       " ('Canada', 'Republic of Korea'),\n",
       " ('Greenland', 'Bahamas')]"
      ]
     },
     "execution_count": 9,
     "metadata": {},
     "output_type": "execute_result"
    }
   ],
   "source": [
    "cur.execute('''\n",
    "SELECT A.Country, B.Country\n",
    "FROM PopByCountry A INNER JOIN PopByCountry B \n",
    "WHERE (ABS(A.Population  - B.Population)  <=  1000) \n",
    "AND (A.Country != B.Country)''')\n",
    "cur.fetchall()"
   ]
  },
  {
   "cell_type": "code",
   "execution_count": 10,
   "metadata": {},
   "outputs": [
    {
     "data": {
      "text/plain": [
       "[('Bahamas', 'Greenland'), ('Canada', 'Republic of Korea')]"
      ]
     },
     "execution_count": 10,
     "metadata": {},
     "output_type": "execute_result"
    }
   ],
   "source": [
    "# If we want each pair of countries to appear only once (in any order), \n",
    "# rewrite the second half of the condition as follows:\n",
    "\n",
    "cur.execute('''\n",
    "SELECT A.Country, B.Country\n",
    "FROM PopByCountry A INNER JOIN PopByCountry B \n",
    "WHERE (ABS(A.Population  - B.Population)  <=  1000) \n",
    "AND (A.Country < B.Country)''')\n",
    "cur.fetchall()\n",
    "# By changing the condition above, each pair of countries appears only once."
   ]
  },
  {
   "cell_type": "markdown",
   "metadata": {},
   "source": [
    "#### 4. Nested Queries, p. 361\n",
    "+ Nested queries: run a SELECT on the result of another SELECT\n",
    "+ For example, let’s write a query on the PopByCountry table to get the regions that do not have a country with a population of 8,764,000."
   ]
  },
  {
   "cell_type": "code",
   "execution_count": 5,
   "metadata": {},
   "outputs": [
    {
     "data": {
      "text/plain": [
       "[('Eastern Asia', 'China', 1285238),\n",
       " ('Eastern Asia', 'DPR Korea', 24056),\n",
       " ('Eastern Asia', 'Hong Kong (China)', 8764),\n",
       " ('Eastern Asia', 'Mongolia', 3407),\n",
       " ('Eastern Asia', 'Republic of Korea', 41491),\n",
       " ('Eastern Asia', 'Taiwan', 1433),\n",
       " ('North America', 'Bahamas', 368),\n",
       " ('North America', 'Canada', 40876),\n",
       " ('North America', 'Greenland', 43),\n",
       " ('North America', 'Mexico', 126875),\n",
       " ('North America', 'United  States', 493038)]"
      ]
     },
     "execution_count": 5,
     "metadata": {},
     "output_type": "execute_result"
    }
   ],
   "source": [
    "cur.execute('SELECT * FROM PopByCountry')\n",
    "cur.fetchall()"
   ]
  },
  {
   "cell_type": "code",
   "execution_count": 28,
   "metadata": {},
   "outputs": [
    {
     "data": {
      "text/plain": [
       "[('Eastern Asia',), ('North America',)]"
      ]
     },
     "execution_count": 28,
     "metadata": {},
     "output_type": "execute_result"
    }
   ],
   "source": [
    "# Incorrect result. \n",
    "\n",
    "# Because other countries in eastern Asia have populations that are not \n",
    "# 8,764,000, though, Eastern Asia and North America were included in the \n",
    "# final results.\n",
    "\n",
    "cur.execute('''SELECT DISTINCT Region\n",
    "            FROM PopByCountry\n",
    "            WHERE (PopByCountry.Population != 8764)''')\n",
    "cur.fetchall()"
   ]
  },
  {
   "cell_type": "code",
   "execution_count": 6,
   "metadata": {},
   "outputs": [
    {
     "data": {
      "text/plain": [
       "[('Eastern Asia',)]"
      ]
     },
     "execution_count": 6,
     "metadata": {},
     "output_type": "execute_result"
    }
   ],
   "source": [
    "# Correct result.\n",
    "\n",
    "# What we have to do is find out which regions include countries with a \n",
    "# population of 8,764,000 and then exclude those regions from our \n",
    "# final result—basically, find the regions that fail our condition and subtract \n",
    "# them from the set of all countries\n",
    "\n",
    "# Step 1: The first step is to get those regions that have countries with a \n",
    "#       population of 8,764,000, as shown in the following code:\n",
    "\n",
    "cur.execute('''\n",
    "SELECT DISTINCT Region\n",
    "FROM PopByCountry\n",
    "WHERE (PopByCountry.Population = 8764) ''')\n",
    "\n",
    "cur.fetchall()"
   ]
  },
  {
   "cell_type": "code",
   "execution_count": 30,
   "metadata": {},
   "outputs": [
    {
     "data": {
      "text/plain": [
       "[('North America',)]"
      ]
     },
     "execution_count": 30,
     "metadata": {},
     "output_type": "execute_result"
    }
   ],
   "source": [
    "# Step 2: Negate step 1\n",
    "# Now we want to get the names of regions that were not in the results \n",
    "#     of our first query. To do this, we will use a WHERE condition and NOT IN:\n",
    "\n",
    "cur.execute('''\n",
    "SELECT DISTINCT Region\n",
    "FROM PopByCountry WHERE Region NOT IN\n",
    "(SELECT DISTINCT Region\n",
    "FROM PopByCountry\n",
    "WHERE (PopByCountry.Population = 8764))\n",
    "''')\n",
    "\n",
    "cur.fetchall()\n",
    "\n",
    "# Nested queries are often used for situations like this one, \n",
    "#　where negation is involved."
   ]
  },
  {
   "cell_type": "markdown",
   "metadata": {},
   "source": [
    "#### 5. Transactions, p. 362"
   ]
  },
  {
   "cell_type": "markdown",
   "metadata": {},
   "source": [
    "Imagine a library that may have multiple copies of the same book. It uses a computerized system to track its books by their ISBN numbers. Whenever a patron signs out a book, a query is executed on the Books table to find out how many copies of that book are currently signed out, and then the table is updated to indicate that one more copy has been signed out:"
   ]
  },
  {
   "cell_type": "raw",
   "metadata": {},
   "source": [
    "cur.execute('SELECT SignedOut FROM Books WHERE ISBN = ?', isbn) \n",
    "signedOut = cur.fetchone()[0]\n",
    "\n",
    "cur.execute('''UPDATE Books SET SignedOut = ?\n",
    "WHERE ISBN = ?''', signedOut + 1, isbn)\n",
    "cur.commit()"
   ]
  },
  {
   "cell_type": "markdown",
   "metadata": {},
   "source": [
    "When a patron returns a book, the reverse happens:"
   ]
  },
  {
   "cell_type": "raw",
   "metadata": {},
   "source": [
    "cur.execute('SELECT SignedOut FROM Books WHERE ISBN = ?', isbn) \n",
    "signedOut = cur.fetchone()[0]\n",
    "\n",
    "cur.execute('''UPDATE Books SET SignedOut = ?\n",
    "WHERE ISBN = ?''', signedOut - 1, isbn)\n",
    "cur.commit()"
   ]
  },
  {
   "cell_type": "markdown",
   "metadata": {},
   "source": [
    "What if the library had two computers that handled book signouts and returns? Both computers connect to the same database. What happens if one patron tried to return a copy of Gray’s Anatomy while another was signing out a different copy of the same book at the exact same time?"
   ]
  },
  {
   "cell_type": "markdown",
   "metadata": {},
   "source": [
    "One possibility is that Computers A and B would each **execute queries** to determine **how many copies of the book have been signed out**, then Computer A would add one to the number of copies signed out and update the table without Computer B knowing. Computer B would decrease the number of copies (based on the query result) and update the table."
   ]
  },
  {
   "cell_type": "markdown",
   "metadata": {},
   "source": [
    "Here’s the code for that scenario:"
   ]
  },
  {
   "cell_type": "raw",
   "metadata": {},
   "source": [
    "Computer A: cur.execute('SELECT SignedOut FROM Books WHERE ISBN = ?', isbn) Computer A: signedOut = cur.fetchone()[0]\n",
    "Computer B: cur.execute('SELECT SignedOut FROM Books WHERE ISBN = ?', isbn) Computer B: signedOut = cur.fetchone()[0]\n",
    "Computer  A:  cur.execute('''UPDATE  Books  SET  SignedOut  =  ?\n",
    "WHERE ISBN = ?''', signedOut + 1, isbn)\n",
    "Computer A: cur.commit()\n",
    "Computer  B:  cur.execute('''UPDATE  Books  SET  SignedOut  =  ?\n",
    "WHERE ISBN = ?''', signedOut - 1, isbn)\n",
    "Computer B: cur.commit()"
   ]
  },
  {
   "cell_type": "markdown",
   "metadata": {},
   "source": [
    "Notice that Computer B counts the number of signed-out copies before Computer A updates the database. After Computer A commits its changes, the value that Computer B fetched is no longer accurate. If Computer B were allowed to commit its changes, the library database would account for more books than the library actually has!"
   ]
  },
  {
   "cell_type": "markdown",
   "metadata": {},
   "source": [
    "Fortunately, databases can detect such a situation and would prevent Computer B from committing its transaction."
   ]
  },
  {
   "cell_type": "markdown",
   "metadata": {},
   "source": [
    "# The End!"
   ]
  },
  {
   "cell_type": "code",
   "execution_count": null,
   "metadata": {
    "collapsed": true
   },
   "outputs": [],
   "source": []
  }
 ],
 "metadata": {
  "kernelspec": {
   "display_name": "Python 3",
   "language": "python",
   "name": "python3"
  },
  "language_info": {
   "codemirror_mode": {
    "name": "ipython",
    "version": 3
   },
   "file_extension": ".py",
   "mimetype": "text/x-python",
   "name": "python",
   "nbconvert_exporter": "python",
   "pygments_lexer": "ipython3",
   "version": "3.6.1"
  }
 },
 "nbformat": 4,
 "nbformat_minor": 2
}
