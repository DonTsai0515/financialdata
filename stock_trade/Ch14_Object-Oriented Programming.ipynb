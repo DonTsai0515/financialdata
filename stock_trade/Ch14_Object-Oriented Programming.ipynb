{
 "cells": [
  {
   "cell_type": "markdown",
   "metadata": {},
   "source": [
    "# Ch14_Object-Oriented Programming\n",
    "+ Purpose: writing a program to keep track of books in a bookstore. \n",
    "+ The code snippet below doesn’t run:\n",
    "    1. Python doesn’t have a Book **type**\n",
    "    2. We need to define and use our own **types**"
   ]
  },
  {
   "cell_type": "markdown",
   "metadata": {},
   "source": [
    "## [Python Built-in Data Types](https://www.w3schools.com/python/python_datatypes.asp)"
   ]
  },
  {
   "cell_type": "raw",
   "metadata": {},
   "source": [
    "Type         Example \n",
    "str          x = \"Hello World\"                   \n",
    "int          x = 20  \n",
    "float        x = 20.5 \n",
    "complex      x = i + 1j  \n",
    "list         x = [\"apple\", \"banana\", \"cherry\"]  \n",
    "tuple        x = (\"apple\", \"banana\", \"cherry\")   \n",
    "set          x = {\"apple\", \"banana\", \"cherry\"} \n",
    "dict         x = {\"name\" : \"John\", \"age\" : 36}  \n",
    "bool         x = True  \n",
    "range        x = range(6) \n",
    "frozenset    x = frozenset({\"apple\", \"banana\", \"cherry\"}) \n",
    "bytes        x = b\"Hello\"  \n",
    "bytearray    x = bytearray(5)  \n",
    "memoryview   x = memoryview(bytes(5)) "
   ]
  },
  {
   "cell_type": "raw",
   "metadata": {},
   "source": [
    "# Data Type\n",
    "Text Type:      str\n",
    "Numeric Types:  int, float, complex\n",
    "Sequence Types:\tlist, tuple, range\n",
    "Mapping Type:\tdict\n",
    "Set Types:\t    set, frozenset\n",
    "Boolean Type:\tbool\n",
    "Binary Types:\tbytes, bytearray, memoryview"
   ]
  },
  {
   "cell_type": "raw",
   "metadata": {},
   "source": [
    "Python & its OOP\n",
    "\n",
    "classes => data types (str, int, float, complex, list, set, tuple, dict, etc.)\n",
    "(a class is a            |\n",
    "blueprint of object)     |\n",
    "    |                    |\n",
    "    V                    V            dir(type), e.g., dir(str)\n",
    "objects ------------> methods ------> help(type.method), e.g., help(str.strip)\n",
    "(an object is an         |\n",
    "instance of class)       V\n",
    "                      w3schools website for method examples \n",
    "\n",
    "----------------------------------------------------------------------------\n",
    "Book: Gries, Campbell, & Montojo (2017)\n",
    "functions\n",
    "text\n",
    "bool, if, nested if\n",
    "module approach\n",
    "methods\n",
    "list\n",
    "control flow tools: loops (for/while loops), continue, breal, pass, etc.\n",
    "reading and writing files\n",
    "collections: list, set, tuple, & dictionary\n",
    "Object-oriented programming (OOP)\n",
    "test & debug\n",
    "databases"
   ]
  },
  {
   "cell_type": "code",
   "execution_count": 1,
   "metadata": {},
   "outputs": [
    {
     "name": "stdout",
     "output_type": "stream",
     "text": [
      "['__add__', '__class__', '__contains__', '__delattr__', '__dir__', '__doc__', '__eq__', '__format__', '__ge__', '__getattribute__', '__getitem__', '__getnewargs__', '__gt__', '__hash__', '__init__', '__init_subclass__', '__iter__', '__le__', '__len__', '__lt__', '__mod__', '__mul__', '__ne__', '__new__', '__reduce__', '__reduce_ex__', '__repr__', '__rmod__', '__rmul__', '__setattr__', '__sizeof__', '__str__', '__subclasshook__', 'capitalize', 'casefold', 'center', 'count', 'encode', 'endswith', 'expandtabs', 'find', 'format', 'format_map', 'index', 'isalnum', 'isalpha', 'isascii', 'isdecimal', 'isdigit', 'isidentifier', 'islower', 'isnumeric', 'isprintable', 'isspace', 'istitle', 'isupper', 'join', 'ljust', 'lower', 'lstrip', 'maketrans', 'partition', 'replace', 'rfind', 'rindex', 'rjust', 'rpartition', 'rsplit', 'rstrip', 'split', 'splitlines', 'startswith', 'strip', 'swapcase', 'title', 'translate', 'upper', 'zfill']\n"
     ]
    }
   ],
   "source": [
    "# Showing str methods\n",
    "print(dir(str))"
   ]
  },
  {
   "cell_type": "code",
   "execution_count": 2,
   "metadata": {},
   "outputs": [
    {
     "name": "stdout",
     "output_type": "stream",
     "text": [
      "Help on method_descriptor:\n",
      "\n",
      "strip(self, chars=None, /)\n",
      "    Return a copy of the string with leading and trailing whitespace removed.\n",
      "    \n",
      "    If chars is given and not None, remove characters in chars instead.\n",
      "\n"
     ]
    }
   ],
   "source": [
    "# Getting hellp for str.strip() methods\n",
    "help(str.strip)"
   ]
  },
  {
   "cell_type": "markdown",
   "metadata": {},
   "source": [
    "###### Viewing str methods from W3schools website\n",
    "[Python str methods](https://www.w3schools.com/python/python_ref_string.asp)"
   ]
  },
  {
   "cell_type": "code",
   "execution_count": 3,
   "metadata": {},
   "outputs": [
    {
     "name": "stdout",
     "output_type": "stream",
     "text": [
      "Sammy\n",
      "ocean\n",
      "Stevie\n",
      "This user has 77 followers\n",
      "fish\n"
     ]
    }
   ],
   "source": [
    "# shark.py\n",
    "class Shark:\n",
    "    # Class variables \n",
    "    animal_type = \"fish\" \n",
    "    location = \"ocean\"\n",
    "\n",
    "    # Constructor method with instance variables name and age\n",
    "    def __init__(self, name, age):\n",
    "        self.name = name \n",
    "        self.age = age\n",
    "\n",
    "    # Method with instance variable followers \n",
    "    def set_followers(self, followers):\n",
    "        print(\"This user has \" + str(followers) + \" followers\")\n",
    "        \n",
    "def main():\n",
    "    # First object\n",
    "    sammy = Shark(\"Sammy\", 5) # Set up instance variables of constructor method\n",
    "    print(sammy.name)         # Print out instance variable name\n",
    "    print(sammy.location)     # Print out class variable location\n",
    "\n",
    "    # Second object\n",
    "    stevie = Shark(\"Stevie\", 8)#Set up instance variables of constructor method \n",
    "    print(stevie.name)        # Print out instance variable name \n",
    "\n",
    "    # Use set_followers method and pass followers instance variable\n",
    "    stevie.set_followers(77) \n",
    "    print(stevie.animal_type) # Print out class variable animal_type\n",
    "    \n",
    "if __name__ == \"__main__\":\n",
    "    main()"
   ]
  },
  {
   "cell_type": "code",
   "execution_count": 4,
   "metadata": {},
   "outputs": [
    {
     "name": "stdout",
     "output_type": "stream",
     "text": [
      "['__class__', '__delattr__', '__dict__', '__dir__', '__doc__', '__eq__', '__format__', '__ge__', '__getattribute__', '__gt__', '__hash__', '__init__', '__init_subclass__', '__le__', '__lt__', '__module__', '__ne__', '__new__', '__reduce__', '__reduce_ex__', '__repr__', '__setattr__', '__sizeof__', '__str__', '__subclasshook__', '__weakref__', 'animal_type', 'location', 'set_followers']\n"
     ]
    },
    {
     "data": {
      "text/plain": [
       "['__class__',\n",
       " '__delattr__',\n",
       " '__dict__',\n",
       " '__dir__',\n",
       " '__doc__',\n",
       " '__eq__',\n",
       " '__format__',\n",
       " '__ge__',\n",
       " '__getattribute__',\n",
       " '__gt__',\n",
       " '__hash__',\n",
       " '__init__',\n",
       " '__init_subclass__',\n",
       " '__le__',\n",
       " '__lt__',\n",
       " '__module__',\n",
       " '__ne__',\n",
       " '__new__',\n",
       " '__reduce__',\n",
       " '__reduce_ex__',\n",
       " '__repr__',\n",
       " '__setattr__',\n",
       " '__sizeof__',\n",
       " '__str__',\n",
       " '__subclasshook__',\n",
       " '__weakref__',\n",
       " 'animal_type',\n",
       " 'location',\n",
       " 'set_followers']"
      ]
     },
     "execution_count": 4,
     "metadata": {},
     "output_type": "execute_result"
    }
   ],
   "source": [
    "# A class contains methods(functions inside a cloass) and variables\n",
    "print(dir(Shark))\n",
    "dir(Shark)"
   ]
  },
  {
   "cell_type": "markdown",
   "metadata": {},
   "source": [
    "## Object-Oriented Programming"
   ]
  },
  {
   "cell_type": "raw",
   "metadata": {},
   "source": [
    "# Modules used in this chapter\n",
    "book.py \n",
    "book1.py\n",
    "book2.py\n",
    "book2_1.py\n",
    "book3.py\n",
    "inheritance.py\n",
    "inheritance1.py\n",
    "inheritance2.py"
   ]
  },
  {
   "cell_type": "raw",
   "metadata": {},
   "source": [
    "The code below doesn’t run. Python doesn’t have a Book type. We need to define and use your own types.\n",
    "\n",
    "python_book  =  Book(\n",
    "    'Practical Programming', \n",
    "    ['Campbell',  'Gries',  'Montojo'], \n",
    "    'Pragmatic Bookshelf',\n",
    "    '978-1-6805026-8-8',\n",
    "    25.0)\n",
    "\n",
    "survival_book  =  Book(\n",
    "    \"New Programmer's Survival Manual\", \n",
    "    ['Carter'],\n",
    "    'Pragmatic Bookshelf', \n",
    "    '978-1-93435-681-4',\n",
    "    19.0)\n",
    "\n",
    "print('{0} was written by {1} authors and costs ${2}'.format( python_book.title, python_book.num_authors(), python_book.price))\n",
    "\n",
    "print('{0} was written by {1} authors and costs ${2}'.format( survival_book.title, survival_book.num_authors(), survival_book.price))"
   ]
  },
  {
   "cell_type": "code",
   "execution_count": null,
   "metadata": {},
   "outputs": [],
   "source": [
    "Book features\n",
    "Type (of Books)\n",
    "Problem Domain: keeping track of books in a bookstore\n",
    "Features of a book\n",
    "    book title\n",
    "    author names\n",
    "    publisher\n",
    "    ISBN\n",
    "    year it was published \n",
    "Types of book: \n",
    "    Inventory type\n",
    "    ShopingCart type\n",
    "OOP: defining and using classes to represents types    "
   ]
  },
  {
   "cell_type": "markdown",
   "metadata": {},
   "source": [
    "## Understanding a Problem Domain, p. 276\n",
    "1. Problem domain: keeping track of books in a bookstore. \n",
    "2. Figure out what features of a book we cared about.\n",
    "3. What you decide to keep track of depends exactly on what your program is supposed to do.\n",
    "4. It’s common to define multiple related types such as:\n",
    "    1. Inventory type\n",
    "    2. ShoppingCart type\n",
    "    3. etc.\n",
    "5. **Object-oriented programming (OOP)** revolves around **defining and using new types.** \n",
    "6. A **class** is how Python **represents a type**. \n",
    "7. **Object-oriented programming** involves at least these **phases:**\n",
    "    1. Understanding the **problem domain**: What the code wants to do.\n",
    "    2. Figuring out what **type(s)** you might want.\n",
    "    3. Figuring out what **type features** you want have: Write some code that uses the type you’re thinking about. It's like the step in the function design recipe.\n",
    "    4. **Writing a class that represents this type**: Tell Python about your type by writing a class, **including a set of methods inside that class**.\n",
    "    5. **Testing** your code."
   ]
  },
  {
   "cell_type": "markdown",
   "metadata": {},
   "source": [
    "## Function isinstance(), Class object, and Class Book, p. 277\n",
    "+ Function **isinstance()** reports **whether an object is an instance of a class**—that is, **whether an object has a particular type**:"
   ]
  },
  {
   "cell_type": "code",
   "execution_count": 1,
   "metadata": {},
   "outputs": [
    {
     "name": "stdout",
     "output_type": "stream",
     "text": [
      "True\n",
      "False\n"
     ]
    }
   ],
   "source": [
    "# 'abc' is an instance of class str, but 55.2 is not.\n",
    "# It means that 'abc' has type str. \n",
    "\n",
    "print(isinstance('abc', str))    # True\n",
    "print(isinstance(55.2, str))     # False"
   ]
  },
  {
   "cell_type": "code",
   "execution_count": 8,
   "metadata": {},
   "outputs": [
    {
     "name": "stdout",
     "output_type": "stream",
     "text": [
      "['ArithmeticError', 'AssertionError', 'AttributeError', 'BaseException', 'BlockingIOError', 'BrokenPipeError', 'BufferError', 'BytesWarning', 'ChildProcessError', 'ConnectionAbortedError', 'ConnectionError', 'ConnectionRefusedError', 'ConnectionResetError', 'DeprecationWarning', 'EOFError', 'Ellipsis', 'EnvironmentError', 'Exception', 'False', 'FileExistsError', 'FileNotFoundError', 'FloatingPointError', 'FutureWarning', 'GeneratorExit', 'IOError', 'ImportError', 'ImportWarning', 'IndentationError', 'IndexError', 'InterruptedError', 'IsADirectoryError', 'KeyError', 'KeyboardInterrupt', 'LookupError', 'MemoryError', 'ModuleNotFoundError', 'NameError', 'None', 'NotADirectoryError', 'NotImplemented', 'NotImplementedError', 'OSError', 'OverflowError', 'PendingDeprecationWarning', 'PermissionError', 'ProcessLookupError', 'RecursionError', 'ReferenceError', 'ResourceWarning', 'RuntimeError', 'RuntimeWarning', 'StopAsyncIteration', 'StopIteration', 'SyntaxError', 'SyntaxWarning', 'SystemError', 'SystemExit', 'TabError', 'TimeoutError', 'True', 'TypeError', 'UnboundLocalError', 'UnicodeDecodeError', 'UnicodeEncodeError', 'UnicodeError', 'UnicodeTranslateError', 'UnicodeWarning', 'UserWarning', 'ValueError', 'Warning', 'WindowsError', 'ZeroDivisionError', '__IPYTHON__', '__build_class__', '__debug__', '__doc__', '__import__', '__loader__', '__name__', '__package__', '__spec__', 'abs', 'all', 'any', 'ascii', 'bin', 'bool', 'breakpoint', 'bytearray', 'bytes', 'callable', 'chr', 'classmethod', 'compile', 'complex', 'copyright', 'credits', 'delattr', 'dict', 'dir', 'display', 'divmod', 'enumerate', 'eval', 'exec', 'filter', 'float', 'format', 'frozenset', 'get_ipython', 'getattr', 'globals', 'hasattr', 'hash', 'help', 'hex', 'id', 'input', 'int', 'isinstance', 'issubclass', 'iter', 'len', 'license', 'list', 'locals', 'map', 'max', 'memoryview', 'min', 'next', 'object', 'oct', 'open', 'ord', 'pow', 'print', 'property', 'range', 'repr', 'reversed', 'round', 'set', 'setattr', 'slice', 'sorted', 'staticmethod', 'str', 'sum', 'super', 'tuple', 'type', 'vars', 'zip']\n"
     ]
    }
   ],
   "source": [
    "# Take a look at isinstance() and object() functions from builtins library\n",
    "import builtins\n",
    "print(dir(builtins))   # isinstance() is in the function list "
   ]
  },
  {
   "cell_type": "code",
   "execution_count": 2,
   "metadata": {},
   "outputs": [
    {
     "name": "stdout",
     "output_type": "stream",
     "text": [
      "Help on built-in function isinstance in module builtins:\n",
      "\n",
      "isinstance(obj, class_or_tuple, /)\n",
      "    Return whether an object is an instance of a class or of a subclass thereof.\n",
      "    \n",
      "    A tuple, as in ``isinstance(x, (A, B, ...))``, may be given as the target to\n",
      "    check against. This is equivalent to ``isinstance(x, A) or isinstance(x, B)\n",
      "    or ...`` etc.\n",
      "\n"
     ]
    }
   ],
   "source": [
    "# The forward slash (/) in the parameter of a function means that \n",
    "# there are no more arguments\n",
    "help(isinstance)"
   ]
  },
  {
   "cell_type": "markdown",
   "metadata": {},
   "source": [
    "###### Python has a class called object. Every other class is based on it:, p. 277\n",
    "+ The phrase, \"Every other class is based on it\", refers to **inheritance**."
   ]
  },
  {
   "cell_type": "code",
   "execution_count": 5,
   "metadata": {},
   "outputs": [
    {
     "name": "stdout",
     "output_type": "stream",
     "text": [
      "True\n",
      "True\n"
     ]
    }
   ],
   "source": [
    "# Both 'abc' and 55.2 are instances of class object:\n",
    "print(isinstance(55.2, object))   # True\n",
    "print(isinstance('abc', object))  # True"
   ]
  },
  {
   "cell_type": "markdown",
   "metadata": {},
   "source": [
    "###### Even classes and functions are instances of object:"
   ]
  },
  {
   "cell_type": "code",
   "execution_count": 6,
   "metadata": {},
   "outputs": [
    {
     "name": "stdout",
     "output_type": "stream",
     "text": [
      "True\n",
      "True\n"
     ]
    }
   ],
   "source": [
    "# str is a class while max is a function. \n",
    "# Both class str and function max are instances of class object.\n",
    "print(isinstance(str, object))    # True\n",
    "print(isinstance(max, object))    # True"
   ]
  },
  {
   "cell_type": "markdown",
   "metadata": {},
   "source": [
    "###### Every class in Python is derived from class 'object', and so every instance of every class is an object."
   ]
  },
  {
   "cell_type": "code",
   "execution_count": 7,
   "metadata": {},
   "outputs": [
    {
     "name": "stdout",
     "output_type": "stream",
     "text": [
      "Help on class int in module builtins:\n",
      "\n",
      "class int(object)\n",
      " |  int(x=0) -> integer\n",
      " |  int(x, base=10) -> integer\n",
      " |  \n",
      " |  Convert a number or string to an integer, or return 0 if no arguments\n",
      " |  are given.  If x is a number, return x.__int__().  For floating point\n",
      " |  numbers, this truncates towards zero.\n",
      " |  \n",
      " |  If x is not a number or if base is given, then x must be a string,\n",
      " |  bytes, or bytearray instance representing an integer literal in the\n",
      " |  given base.  The literal can be preceded by '+' or '-' and be surrounded\n",
      " |  by whitespace.  The base defaults to 10.  Valid bases are 0 and 2-36.\n",
      " |  Base 0 means to interpret the base from the string as an integer literal.\n",
      " |  >>> int('0b100', base=0)\n",
      " |  4\n",
      " |  \n",
      " |  Methods defined here:\n",
      " |  \n",
      " |  __abs__(self, /)\n",
      " |      abs(self)\n",
      " |  \n",
      " |  __add__(self, value, /)\n",
      " |      Return self+value.\n",
      " |  \n",
      " |  __and__(self, value, /)\n",
      " |      Return self&value.\n",
      " |  \n",
      " |  __bool__(self, /)\n",
      " |      self != 0\n",
      " |  \n",
      " |  __ceil__(...)\n",
      " |      Ceiling of an Integral returns itself.\n",
      " |  \n",
      " |  __divmod__(self, value, /)\n",
      " |      Return divmod(self, value).\n",
      " |  \n",
      " |  __eq__(self, value, /)\n",
      " |      Return self==value.\n",
      " |  \n",
      " |  __float__(self, /)\n",
      " |      float(self)\n",
      " |  \n",
      " |  __floor__(...)\n",
      " |      Flooring an Integral returns itself.\n",
      " |  \n",
      " |  __floordiv__(self, value, /)\n",
      " |      Return self//value.\n",
      " |  \n",
      " |  __format__(...)\n",
      " |      default object formatter\n",
      " |  \n",
      " |  __ge__(self, value, /)\n",
      " |      Return self>=value.\n",
      " |  \n",
      " |  __getattribute__(self, name, /)\n",
      " |      Return getattr(self, name).\n",
      " |  \n",
      " |  __getnewargs__(...)\n",
      " |  \n",
      " |  __gt__(self, value, /)\n",
      " |      Return self>value.\n",
      " |  \n",
      " |  __hash__(self, /)\n",
      " |      Return hash(self).\n",
      " |  \n",
      " |  __index__(self, /)\n",
      " |      Return self converted to an integer, if self is suitable for use as an index into a list.\n",
      " |  \n",
      " |  __int__(self, /)\n",
      " |      int(self)\n",
      " |  \n",
      " |  __invert__(self, /)\n",
      " |      ~self\n",
      " |  \n",
      " |  __le__(self, value, /)\n",
      " |      Return self<=value.\n",
      " |  \n",
      " |  __lshift__(self, value, /)\n",
      " |      Return self<<value.\n",
      " |  \n",
      " |  __lt__(self, value, /)\n",
      " |      Return self<value.\n",
      " |  \n",
      " |  __mod__(self, value, /)\n",
      " |      Return self%value.\n",
      " |  \n",
      " |  __mul__(self, value, /)\n",
      " |      Return self*value.\n",
      " |  \n",
      " |  __ne__(self, value, /)\n",
      " |      Return self!=value.\n",
      " |  \n",
      " |  __neg__(self, /)\n",
      " |      -self\n",
      " |  \n",
      " |  __new__(*args, **kwargs) from builtins.type\n",
      " |      Create and return a new object.  See help(type) for accurate signature.\n",
      " |  \n",
      " |  __or__(self, value, /)\n",
      " |      Return self|value.\n",
      " |  \n",
      " |  __pos__(self, /)\n",
      " |      +self\n",
      " |  \n",
      " |  __pow__(self, value, mod=None, /)\n",
      " |      Return pow(self, value, mod).\n",
      " |  \n",
      " |  __radd__(self, value, /)\n",
      " |      Return value+self.\n",
      " |  \n",
      " |  __rand__(self, value, /)\n",
      " |      Return value&self.\n",
      " |  \n",
      " |  __rdivmod__(self, value, /)\n",
      " |      Return divmod(value, self).\n",
      " |  \n",
      " |  __repr__(self, /)\n",
      " |      Return repr(self).\n",
      " |  \n",
      " |  __rfloordiv__(self, value, /)\n",
      " |      Return value//self.\n",
      " |  \n",
      " |  __rlshift__(self, value, /)\n",
      " |      Return value<<self.\n",
      " |  \n",
      " |  __rmod__(self, value, /)\n",
      " |      Return value%self.\n",
      " |  \n",
      " |  __rmul__(self, value, /)\n",
      " |      Return value*self.\n",
      " |  \n",
      " |  __ror__(self, value, /)\n",
      " |      Return value|self.\n",
      " |  \n",
      " |  __round__(...)\n",
      " |      Rounding an Integral returns itself.\n",
      " |      Rounding with an ndigits argument also returns an integer.\n",
      " |  \n",
      " |  __rpow__(self, value, mod=None, /)\n",
      " |      Return pow(value, self, mod).\n",
      " |  \n",
      " |  __rrshift__(self, value, /)\n",
      " |      Return value>>self.\n",
      " |  \n",
      " |  __rshift__(self, value, /)\n",
      " |      Return self>>value.\n",
      " |  \n",
      " |  __rsub__(self, value, /)\n",
      " |      Return value-self.\n",
      " |  \n",
      " |  __rtruediv__(self, value, /)\n",
      " |      Return value/self.\n",
      " |  \n",
      " |  __rxor__(self, value, /)\n",
      " |      Return value^self.\n",
      " |  \n",
      " |  __sizeof__(...)\n",
      " |      Returns size in memory, in bytes\n",
      " |  \n",
      " |  __str__(self, /)\n",
      " |      Return str(self).\n",
      " |  \n",
      " |  __sub__(self, value, /)\n",
      " |      Return self-value.\n",
      " |  \n",
      " |  __truediv__(self, value, /)\n",
      " |      Return self/value.\n",
      " |  \n",
      " |  __trunc__(...)\n",
      " |      Truncating an Integral returns itself.\n",
      " |  \n",
      " |  __xor__(self, value, /)\n",
      " |      Return self^value.\n",
      " |  \n",
      " |  bit_length(...)\n",
      " |      int.bit_length() -> int\n",
      " |      \n",
      " |      Number of bits necessary to represent self in binary.\n",
      " |      >>> bin(37)\n",
      " |      '0b100101'\n",
      " |      >>> (37).bit_length()\n",
      " |      6\n",
      " |  \n",
      " |  conjugate(...)\n",
      " |      Returns self, the complex conjugate of any int.\n",
      " |  \n",
      " |  from_bytes(...) from builtins.type\n",
      " |      int.from_bytes(bytes, byteorder, *, signed=False) -> int\n",
      " |      \n",
      " |      Return the integer represented by the given array of bytes.\n",
      " |      \n",
      " |      The bytes argument must be a bytes-like object (e.g. bytes or bytearray).\n",
      " |      \n",
      " |      The byteorder argument determines the byte order used to represent the\n",
      " |      integer.  If byteorder is 'big', the most significant byte is at the\n",
      " |      beginning of the byte array.  If byteorder is 'little', the most\n",
      " |      significant byte is at the end of the byte array.  To request the native\n",
      " |      byte order of the host system, use `sys.byteorder' as the byte order value.\n",
      " |      \n",
      " |      The signed keyword-only argument indicates whether two's complement is\n",
      " |      used to represent the integer.\n",
      " |  \n",
      " |  to_bytes(...)\n",
      " |      int.to_bytes(length, byteorder, *, signed=False) -> bytes\n",
      " |      \n",
      " |      Return an array of bytes representing an integer.\n",
      " |      \n",
      " |      The integer is represented using length bytes.  An OverflowError is\n",
      " |      raised if the integer is not representable with the given number of\n",
      " |      bytes.\n",
      " |      \n",
      " |      The byteorder argument determines the byte order used to represent the\n",
      " |      integer.  If byteorder is 'big', the most significant byte is at the\n",
      " |      beginning of the byte array.  If byteorder is 'little', the most\n",
      " |      significant byte is at the end of the byte array.  To request the native\n",
      " |      byte order of the host system, use `sys.byteorder' as the byte order value.\n",
      " |      \n",
      " |      The signed keyword-only argument determines whether two's complement is\n",
      " |      used to represent the integer.  If signed is False and a negative integer\n",
      " |      is given, an OverflowError is raised.\n",
      " |  \n",
      " |  ----------------------------------------------------------------------\n",
      " |  Data descriptors defined here:\n",
      " |  \n",
      " |  denominator\n",
      " |      the denominator of a rational number in lowest terms\n",
      " |  \n",
      " |  imag\n",
      " |      the imaginary part of a complex number\n",
      " |  \n",
      " |  numerator\n",
      " |      the numerator of a rational number in lowest terms\n",
      " |  \n",
      " |  real\n",
      " |      the real part of a complex number\n",
      "\n"
     ]
    }
   ],
   "source": [
    "# Using the object-oriented lingo, we say that \n",
    "# 1. class object is the superclass of class str, and \n",
    "# 2. class str is a subclass of class object. \n",
    "\n",
    "# The superclass information is available in the help documentation for a type:\n",
    "\n",
    "help(int)    # class int(object): the class int is a subclass of class object"
   ]
  },
  {
   "cell_type": "code",
   "execution_count": 8,
   "metadata": {},
   "outputs": [
    {
     "name": "stdout",
     "output_type": "stream",
     "text": [
      "Help on class SyntaxError in module builtins:\n",
      "\n",
      "class SyntaxError(Exception)\n",
      " |  Invalid syntax.\n",
      " |  \n",
      " |  Method resolution order:\n",
      " |      SyntaxError\n",
      " |      Exception\n",
      " |      BaseException\n",
      " |      object\n",
      " |  \n",
      " |  Methods defined here:\n",
      " |  \n",
      " |  __init__(self, /, *args, **kwargs)\n",
      " |      Initialize self.  See help(type(self)) for accurate signature.\n",
      " |  \n",
      " |  __str__(self, /)\n",
      " |      Return str(self).\n",
      " |  \n",
      " |  ----------------------------------------------------------------------\n",
      " |  Data descriptors defined here:\n",
      " |  \n",
      " |  filename\n",
      " |      exception filename\n",
      " |  \n",
      " |  lineno\n",
      " |      exception lineno\n",
      " |  \n",
      " |  msg\n",
      " |      exception msg\n",
      " |  \n",
      " |  offset\n",
      " |      exception offset\n",
      " |  \n",
      " |  print_file_and_line\n",
      " |      exception print_file_and_line\n",
      " |  \n",
      " |  text\n",
      " |      exception text\n",
      " |  \n",
      " |  ----------------------------------------------------------------------\n",
      " |  Methods inherited from Exception:\n",
      " |  \n",
      " |  __new__(*args, **kwargs) from builtins.type\n",
      " |      Create and return a new object.  See help(type) for accurate signature.\n",
      " |  \n",
      " |  ----------------------------------------------------------------------\n",
      " |  Methods inherited from BaseException:\n",
      " |  \n",
      " |  __delattr__(self, name, /)\n",
      " |      Implement delattr(self, name).\n",
      " |  \n",
      " |  __getattribute__(self, name, /)\n",
      " |      Return getattr(self, name).\n",
      " |  \n",
      " |  __reduce__(...)\n",
      " |      helper for pickle\n",
      " |  \n",
      " |  __repr__(self, /)\n",
      " |      Return repr(self).\n",
      " |  \n",
      " |  __setattr__(self, name, value, /)\n",
      " |      Implement setattr(self, name, value).\n",
      " |  \n",
      " |  __setstate__(...)\n",
      " |  \n",
      " |  with_traceback(...)\n",
      " |      Exception.with_traceback(tb) --\n",
      " |      set self.__traceback__ to tb and return self.\n",
      " |  \n",
      " |  ----------------------------------------------------------------------\n",
      " |  Data descriptors inherited from BaseException:\n",
      " |  \n",
      " |  __cause__\n",
      " |      exception cause\n",
      " |  \n",
      " |  __context__\n",
      " |      exception context\n",
      " |  \n",
      " |  __dict__\n",
      " |  \n",
      " |  __suppress_context__\n",
      " |  \n",
      " |  __traceback__\n",
      " |  \n",
      " |  args\n",
      "\n"
     ]
    }
   ],
   "source": [
    "# The class SyntaxError is a subclass of class Exception:\n",
    "\n",
    "help(SyntaxError)  # class SyntaxError(Exception):\n",
    "                   # the class SyntaxError is a subclass of class Exception"
   ]
  },
  {
   "cell_type": "markdown",
   "metadata": {},
   "source": [
    "###### Attributes are variables inside a class that refer to methods, functions, variables, or even other classes, p. 278"
   ]
  },
  {
   "cell_type": "code",
   "execution_count": 9,
   "metadata": {},
   "outputs": [
    {
     "data": {
      "text/plain": [
       "['__class__',\n",
       " '__delattr__',\n",
       " '__dir__',\n",
       " '__doc__',\n",
       " '__eq__',\n",
       " '__format__',\n",
       " '__ge__',\n",
       " '__getattribute__',\n",
       " '__gt__',\n",
       " '__hash__',\n",
       " '__init__',\n",
       " '__init_subclass__',\n",
       " '__le__',\n",
       " '__lt__',\n",
       " '__ne__',\n",
       " '__new__',\n",
       " '__reduce__',\n",
       " '__reduce_ex__',\n",
       " '__repr__',\n",
       " '__setattr__',\n",
       " '__sizeof__',\n",
       " '__str__',\n",
       " '__subclasshook__']"
      ]
     },
     "execution_count": 9,
     "metadata": {},
     "output_type": "execute_result"
    }
   ],
   "source": [
    "# Attributes are variables inside a class that refer to methods, functions, \n",
    "# variables, or even other classes. \n",
    "\n",
    "# Class object has the following attributes:\n",
    "dir(object)"
   ]
  },
  {
   "cell_type": "markdown",
   "metadata": {},
   "source": [
    "###### Every class in Python, including the ones that you define, automatically inherits the above attributes from class object. "
   ]
  },
  {
   "cell_type": "code",
   "execution_count": 1,
   "metadata": {},
   "outputs": [],
   "source": [
    "# Keyword class defines a new type:\n",
    "class Book:\n",
    "    \"\"\"Information about a book.\"\"\""
   ]
  },
  {
   "cell_type": "code",
   "execution_count": 2,
   "metadata": {},
   "outputs": [
    {
     "name": "stdout",
     "output_type": "stream",
     "text": [
      "['__class__', '__delattr__', '__dict__', '__dir__', '__doc__', '__eq__', '__format__', '__ge__', '__getattribute__', '__gt__', '__hash__', '__init__', '__init_subclass__', '__le__', '__lt__', '__module__', '__ne__', '__new__', '__reduce__', '__reduce_ex__', '__repr__', '__setattr__', '__sizeof__', '__str__', '__subclasshook__', '__weakref__']\n"
     ]
    }
   ],
   "source": [
    "print(dir(Book))"
   ]
  },
  {
   "cell_type": "code",
   "execution_count": 11,
   "metadata": {},
   "outputs": [
    {
     "name": "stdout",
     "output_type": "stream",
     "text": [
      "<class 'type'>\n",
      "<class 'type'>\n"
     ]
    }
   ],
   "source": [
    "# Just as keyword def tells Python that we’re defining a new function, \n",
    "# keyword class signals that we’re defining a new type. \n",
    "\n",
    "# def ...: defining a new function\n",
    "# class ...: defining a new type\n",
    "\n",
    "# str and Book are types:\n",
    "\n",
    "print(type(str))   # <class 'type'>\n",
    "print(type(Book))  # <class 'type'>"
   ]
  },
  {
   "cell_type": "code",
   "execution_count": 2,
   "metadata": {},
   "outputs": [
    {
     "data": {
      "text/plain": [
       "['__class__',\n",
       " '__delattr__',\n",
       " '__dict__',\n",
       " '__dir__',\n",
       " '__doc__',\n",
       " '__eq__',\n",
       " '__format__',\n",
       " '__ge__',\n",
       " '__getattribute__',\n",
       " '__gt__',\n",
       " '__hash__',\n",
       " '__init__',\n",
       " '__init_subclass__',\n",
       " '__le__',\n",
       " '__lt__',\n",
       " '__module__',\n",
       " '__ne__',\n",
       " '__new__',\n",
       " '__reduce__',\n",
       " '__reduce_ex__',\n",
       " '__repr__',\n",
       " '__setattr__',\n",
       " '__sizeof__',\n",
       " '__str__',\n",
       " '__subclasshook__',\n",
       " '__weakref__']"
      ]
     },
     "execution_count": 2,
     "metadata": {},
     "output_type": "execute_result"
    }
   ],
   "source": [
    "# The Book class we defined has inherited all the attributes of class object:\n",
    "\n",
    "# Keyword class defines a new type:\n",
    "class Book:\n",
    "    \"\"\"Information about a book.\"\"\"\n",
    "\n",
    "# The Book class we defined has inherited all the attributes of class object:\n",
    "dir(Book)\n",
    "# In addition to the inherited attributes from class object, below are extra:\n",
    "#  '__dict__',\n",
    "# '__module__',\n",
    "# '__weakref__']"
   ]
  },
  {
   "cell_type": "code",
   "execution_count": 10,
   "metadata": {},
   "outputs": [
    {
     "data": {
      "text/plain": [
       "['__class__',\n",
       " '__delattr__',\n",
       " '__dir__',\n",
       " '__doc__',\n",
       " '__eq__',\n",
       " '__format__',\n",
       " '__ge__',\n",
       " '__getattribute__',\n",
       " '__gt__',\n",
       " '__hash__',\n",
       " '__init__',\n",
       " '__init_subclass__',\n",
       " '__le__',\n",
       " '__lt__',\n",
       " '__ne__',\n",
       " '__new__',\n",
       " '__reduce__',\n",
       " '__reduce_ex__',\n",
       " '__repr__',\n",
       " '__setattr__',\n",
       " '__sizeof__',\n",
       " '__str__',\n",
       " '__subclasshook__']"
      ]
     },
     "execution_count": 10,
     "metadata": {},
     "output_type": "execute_result"
    }
   ],
   "source": [
    "dir(object)"
   ]
  },
  {
   "cell_type": "code",
   "execution_count": 5,
   "metadata": {},
   "outputs": [
    {
     "data": {
      "text/plain": [
       "{'__dict__', '__module__', '__weakref__'}"
      ]
     },
     "execution_count": 5,
     "metadata": {},
     "output_type": "execute_result"
    }
   ],
   "source": [
    "# setA.difference(setB): Elements in A but not in B\n",
    "bk = dir(Book)\n",
    "obj = dir(object)\n",
    "set(bk).difference(obj)  # Elements in A but not in B"
   ]
  },
  {
   "cell_type": "raw",
   "metadata": {},
   "source": [
    "There are three extra attributes in class Book; every subclass of class object automatically has these attributes in addition to the inherited ones:"
   ]
  },
  {
   "cell_type": "code",
   "execution_count": 13,
   "metadata": {},
   "outputs": [
    {
     "data": {
      "text/plain": [
       "{'__dict__', '__module__', '__weakref__'}"
      ]
     },
     "execution_count": 13,
     "metadata": {},
     "output_type": "execute_result"
    }
   ],
   "source": [
    "# Elements in A but not in B\n",
    "set(dir(Book)) - set(dir(object)) "
   ]
  },
  {
   "cell_type": "markdown",
   "metadata": {},
   "source": [
    "###### Create object Book => Book.title => Book.authors, p. 279 bottom\n",
    "1. **class, type, object Book: \"class Book:\"** creates class object Book\n",
    "2. **instance of a class: ruby_book = Book()** creats an instance \"ruby_book\" of the class object \"Book\"\n",
    "3. **instance variables: title in ruby_book.title and authors in ruby_book.authors** are instance variables"
   ]
  },
  {
   "cell_type": "code",
   "execution_count": 31,
   "metadata": {},
   "outputs": [],
   "source": [
    "# Keyword class defines a type:\n",
    "class Book:                           # \"class Book:\" creates class object Book\n",
    "    \"\"\"Information about a book.\"\"\"   # 1. creates a Book object \n",
    "\n",
    "# Let’s create a Book object and give that Book a title and a list of authors:\n",
    "\n",
    "ruby_book = Book()      # 2. assigns Book object to the variable ruby_book.\n",
    "# The ruby_book is an instance of class object Book.\n",
    "# 3. creates a title variable inside the Book object; \n",
    "#    that variable refers to the string 'Programming Ruby'.\n",
    "ruby_book.title = 'Programming  Ruby' \n",
    "# 4. creates variable authors inside the Book object, \n",
    "#    which refers to the list of strings ['Thomas', 'Fowler', 'Hunt'].\n",
    "ruby_book.authors = ['Thomas', 'Fowler', 'Hunt'] "
   ]
  },
  {
   "cell_type": "code",
   "execution_count": 33,
   "metadata": {},
   "outputs": [
    {
     "name": "stdout",
     "output_type": "stream",
     "text": [
      "['__class__', '__delattr__', '__dict__', '__dir__', '__doc__', '__eq__', '__format__', '__ge__', '__getattribute__', '__gt__', '__hash__', '__init__', '__init_subclass__', '__le__', '__lt__', '__module__', '__ne__', '__new__', '__reduce__', '__reduce_ex__', '__repr__', '__setattr__', '__sizeof__', '__str__', '__subclasshook__', '__weakref__', 'authors', 'title']\n"
     ]
    }
   ],
   "source": [
    "# We have created two variables, title and authors, inside a Book object \n",
    "# called ruby_book. The ruby_book, title, and authors are all variables. \n",
    "print(dir(ruby_book))"
   ]
  },
  {
   "cell_type": "markdown",
   "metadata": {},
   "source": [
    "# Pause (2021-04-10, J)"
   ]
  },
  {
   "cell_type": "markdown",
   "metadata": {},
   "source": [
    "###### Instance of a class and instance variables"
   ]
  },
  {
   "cell_type": "code",
   "execution_count": 15,
   "metadata": {},
   "outputs": [
    {
     "name": "stdout",
     "output_type": "stream",
     "text": [
      "Programming  Ruby\n",
      "['Thomas', 'Fowler', 'Hunt']\n"
     ]
    }
   ],
   "source": [
    "# Variables title and authors are called instance variables \n",
    "#     because they are variables inside an instance of a class.\n",
    "\n",
    "# We can access these instance variables through variable ruby_book:\n",
    "print(ruby_book.title)       # 'Programming  Ruby'\n",
    "print(ruby_book.authors)     # ['Thomas', 'Fowler', 'Hunt']"
   ]
  },
  {
   "cell_type": "markdown",
   "metadata": {},
   "source": [
    "###### Concepts:\n",
    "1. The code \"class Book:\" creates **class object \"Book\"**.\n",
    "2. The variable \"ruby_book\" is an **instance** of the class \"Book\".\n",
    "3. The \"title\" and \"authors\" are **instanace variables** of the class instance \"ruby_book\". "
   ]
  },
  {
   "cell_type": "code",
   "execution_count": 16,
   "metadata": {},
   "outputs": [
    {
     "data": {
      "text/plain": [
       "['__class__',\n",
       " '__delattr__',\n",
       " '__dict__',\n",
       " '__dir__',\n",
       " '__doc__',\n",
       " '__eq__',\n",
       " '__format__',\n",
       " '__ge__',\n",
       " '__getattribute__',\n",
       " '__gt__',\n",
       " '__hash__',\n",
       " '__init__',\n",
       " '__init_subclass__',\n",
       " '__le__',\n",
       " '__lt__',\n",
       " '__module__',\n",
       " '__ne__',\n",
       " '__new__',\n",
       " '__reduce__',\n",
       " '__reduce_ex__',\n",
       " '__repr__',\n",
       " '__setattr__',\n",
       " '__sizeof__',\n",
       " '__str__',\n",
       " '__subclasshook__',\n",
       " '__weakref__']"
      ]
     },
     "execution_count": 16,
     "metadata": {},
     "output_type": "execute_result"
    }
   ],
   "source": [
    "# We can use dir() to list all the attributes of \"Book\" class object:\n",
    "dir(Book)"
   ]
  },
  {
   "cell_type": "code",
   "execution_count": 17,
   "metadata": {},
   "outputs": [
    {
     "name": "stdout",
     "output_type": "stream",
     "text": [
      "Help on class Book in module __main__:\n",
      "\n",
      "class Book(builtins.object)\n",
      " |  Information about a book.\n",
      " |  \n",
      " |  Data descriptors defined here:\n",
      " |  \n",
      " |  __dict__\n",
      " |      dictionary for instance variables (if defined)\n",
      " |  \n",
      " |  __weakref__\n",
      " |      list of weak references to the object (if defined)\n",
      "\n"
     ]
    }
   ],
   "source": [
    "# We can even get help on our Book class:\n",
    "# See top of p. 280 for explanation of the help contents.\n",
    "help(Book)"
   ]
  },
  {
   "cell_type": "markdown",
   "metadata": {},
   "source": [
    "## Writing a Method in Class Book, p. 280\n",
    "+ Two ways to call a method:\n",
    "    1. access the method through the class\n",
    "    2. use object-oriented syntax. "
   ]
  },
  {
   "cell_type": "code",
   "execution_count": 18,
   "metadata": {},
   "outputs": [
    {
     "name": "stdout",
     "output_type": "stream",
     "text": [
      "Browning\n",
      "Browning\n"
     ]
    }
   ],
   "source": [
    "# Two ways to call a method:\n",
    "\n",
    "# 1. access the method through the class\n",
    "print(str.capitalize('browning'))   # 'Browning'\n",
    "\n",
    "# 2. use object-oriented syntax.\n",
    "print('browning'.capitalize())      # 'Browning'"
   ]
  },
  {
   "cell_type": "code",
   "execution_count": 19,
   "metadata": {},
   "outputs": [
    {
     "name": "stdout",
     "output_type": "stream",
     "text": [
      "3\n",
      "3\n"
     ]
    }
   ],
   "source": [
    "# book.py, p. 280\n",
    "# Define a method called num_authors inside Book class.\n",
    "\n",
    "# Keyword class defines a type:\n",
    "class Book:\n",
    "    \"\"\"Information about a book.\"\"\"   # 1. creates a Book object \n",
    "\n",
    "    def num_authors(self) -> int:\n",
    "        \"\"\"Return the number of authors of this book. \n",
    "        \"\"\"\n",
    "\n",
    "        return len(self.authors)\n",
    "\n",
    "# Let’s create a Book object and give that Book a title and a list of authors:\n",
    "\n",
    "ruby_book = Book()             # 2. assigns Book object to variable ruby_book\n",
    "# The ruby_book is an instance of Book class object.\n",
    "# 3. creates a title variable inside the Book object; \n",
    "#    that variable refers to the string 'Programming Ruby'.\n",
    "ruby_book.title = 'Programming  Ruby' \n",
    "# 4. creates variable authors inside the Book object, \n",
    "#    which refers to the list of strings ['Thomas', 'Fowler', 'Hunt'].\n",
    "ruby_book.authors = ['Thomas', 'Fowler', 'Hunt'] \n",
    "\n",
    "# Use object-oriented syntax with class Book to ask how many authors a Book has\n",
    "\n",
    "print(Book.num_authors(ruby_book))   # 3\n",
    "print(ruby_book.num_authors())       # 3"
   ]
  },
  {
   "cell_type": "code",
   "execution_count": 1,
   "metadata": {},
   "outputs": [
    {
     "data": {
      "text/plain": [
       "'E:\\\\Python\\\\Class\\\\Data'"
      ]
     },
     "execution_count": 1,
     "metadata": {},
     "output_type": "execute_result"
    }
   ],
   "source": [
    "import os\n",
    "os.chdir(r'D:\\Python\\Class\\Data')\n",
    "os.getcwd()"
   ]
  },
  {
   "cell_type": "code",
   "execution_count": 13,
   "metadata": {},
   "outputs": [
    {
     "name": "stdout",
     "output_type": "stream",
     "text": [
      "['__class__', '__delattr__', '__dict__', '__dir__', '__doc__', '__eq__', '__format__', '__ge__', '__getattribute__', '__gt__', '__hash__', '__init__', '__init_subclass__', '__le__', '__lt__', '__module__', '__ne__', '__new__', '__reduce__', '__reduce_ex__', '__repr__', '__setattr__', '__sizeof__', '__str__', '__subclasshook__', '__weakref__', 'num_authors']\n"
     ]
    }
   ],
   "source": [
    "from book import Book\n",
    "print(dir(Book))"
   ]
  },
  {
   "cell_type": "markdown",
   "metadata": {},
   "source": [
    "###### Two methods to call the method num_authors(): \n",
    "1. **access the method through the class (the 1st version call):**\n",
    "    + **book.Book.num_authors(ruby_book)**,  \n",
    "    + i.e., **module.class.method(instance)**\n",
    "2. **use object-oriented syntax (the 2nd version call):** \n",
    "    + **ruby_book.num_authors()**, \n",
    "    + i.e., **instance.method()**\n",
    "3. The 2nd version is much more common because it lists the object first."
   ]
  },
  {
   "cell_type": "markdown",
   "metadata": {},
   "source": [
    "###### In the code below, the parameter called self in Book method num_authos() refers to a Book"
   ]
  },
  {
   "cell_type": "code",
   "execution_count": 20,
   "metadata": {},
   "outputs": [],
   "source": [
    "# book.py, p. 280\n",
    "\n",
    "# The class Book method num_authors looks just like a function except that \n",
    "# it has a parameter called self, which refers to a Book. \n",
    "\n",
    "# Define a method called num_authors inside Book class.\n",
    "\n",
    "# Keyword class defines a type:\n",
    "class Book:\n",
    "    \"\"\"Information about a book.\"\"\"   # 1. creates a Book object \n",
    "\n",
    "    def num_authors(self) -> int:\n",
    "        \"\"\"Return the number of authors of this book. \n",
    "        \"\"\"\n",
    "\n",
    "        return len(self.authors)"
   ]
  },
  {
   "cell_type": "raw",
   "metadata": {},
   "source": [
    "Assuming this class is defined in the file book.py, we can import it, create a Book object, and call num_authors in two different ways:"
   ]
  },
  {
   "cell_type": "markdown",
   "metadata": {},
   "source": [
    "###### In both code snippets below, the ruby_book is passed to parameter self in method num_author:\n",
    "1. book.Book.num_authors**ruby_book**)\n",
    "2. **ruby_book**.num_authors()"
   ]
  },
  {
   "cell_type": "code",
   "execution_count": 14,
   "metadata": {},
   "outputs": [
    {
     "name": "stdout",
     "output_type": "stream",
     "text": [
      "3\n",
      "3\n"
     ]
    }
   ],
   "source": [
    "# book.py, p. 280\n",
    "import os\n",
    "os.chdir(\"D:/Python/Class/Data\")\n",
    "\n",
    "import book\n",
    "# Let's create a Book object and give that Book a title and a list of authors\n",
    "ruby_book = book.Book()     # 2. assigns Book object to variable ruby_book\n",
    "# 3. Create a title variable inside the Book object:\n",
    "#     that variable refers to the string 'Programming Ruby'\n",
    "ruby_book.title = 'Programming Ruby' \n",
    "# 4. Create variable authors inside the Book object:\n",
    "#     which refers to the list of strings ['Thomas', 'Fowler', 'Hunt']\n",
    "ruby_book.authors = ['Thomas', 'Fowler', 'Hunt']\n",
    "# Use object-oriented syntax with class object Book to ask how many authors \n",
    "#     a Book has.\n",
    "# (1) the 1st method calling method num_authors()\n",
    "print(book.Book.num_authors(ruby_book)) \n",
    "# (2) the 2nd method calling method num_authors()\n",
    "print(ruby_book.num_authors())  "
   ]
  },
  {
   "cell_type": "code",
   "execution_count": 5,
   "metadata": {},
   "outputs": [
    {
     "data": {
      "text/plain": [
       "3"
      ]
     },
     "execution_count": 5,
     "metadata": {},
     "output_type": "execute_result"
    }
   ],
   "source": [
    "# The 1st method of calling on method num_authors() \n",
    "# Call on method num_authors through book.py module:\n",
    "\n",
    "# Inside the imported module book.py is the class Book in which is method \n",
    "# num_authors. The argument to the call, ruby_book, is passed to parameter self.\n",
    "\n",
    "import os\n",
    "os.chdir(\"D:/Python/Class/Data\")\n",
    "import book\n",
    "\n",
    "# The 1st method calling method num_authors() \n",
    "book.Book.num_authors(ruby_book)  # call book.py module"
   ]
  },
  {
   "cell_type": "code",
   "execution_count": 23,
   "metadata": {},
   "outputs": [
    {
     "data": {
      "text/plain": [
       "3"
      ]
     },
     "execution_count": 23,
     "metadata": {},
     "output_type": "execute_result"
    }
   ],
   "source": [
    "# The 2nd method calling method num_authors()\n",
    "import os\n",
    "os.chdir(\"D:/Python/Class/Data\")\n",
    "\n",
    "import book\n",
    "ruby_book = book.Book()\n",
    "ruby_book.title = 'Programming  Ruby'\n",
    "ruby_book.authors = ['Thomas', 'Fowler', 'Hunt']\n",
    "ruby_book.num_authors()   # asking the book how many authors it has."
   ]
  },
  {
   "cell_type": "markdown",
   "metadata": {},
   "source": [
    "### __ init__ method:, p. 281\n",
    "+ In the above 2nd method of calling on method num_authors(), the ruby_book example, **we asigned the title and list of authors after the Book object was created. That approach isn’t scalable; we don’t want to have to type those extra assignment statements every time we create a Book**. Instead, we’ll **write a method that does this for us as we create the Book.** This is **a special method called __ init__**. We’ll also **include the publisher, ISBN, and price as parameters of __ init__**:"
   ]
  },
  {
   "cell_type": "code",
   "execution_count": 15,
   "metadata": {},
   "outputs": [],
   "source": [
    "# book1.py, pp. 281-282\n",
    "\n",
    "from typing import List, Any\n",
    "\n",
    "class Book:\n",
    "    \"\"\"Information about a book, including title, list of authors, \n",
    "    publisher, ISBN, and price.\n",
    "    \"\"\"\n",
    "\n",
    "    def __init__(self, title: str, authors: List[str], publisher: str, \n",
    "                 isbn: str, price: float) -> None: \n",
    "        \"\"\"Create a new book entitled title, written by the people in authors, \n",
    "        published by publisher, with ISBN isbn and costing price dollars.\n",
    "\n",
    "        >>> python_book = Book( \\\n",
    "                'Practical Programming', \\ \n",
    "                ['Campbell', 'Gries', 'Montojo'], \\ \n",
    "                'PragmaticBookshelf',\\\n",
    "                '978-1-6805026-8-8', \\\n",
    "                25.0)\n",
    "        >>> python_book.title \n",
    "        'Practical Programming'\n",
    "        >>> python_book.authors \n",
    "        ['Campbell', 'Gries', 'Montojo']\n",
    "        >>> python_book.publisher \n",
    "        'Pragmatic Bookshelf'\n",
    "        >>> python_book.ISBN \n",
    "        '978-1-6805026-8-8'\n",
    "        >>> python_book.price \n",
    "        25.0\n",
    "        \"\"\"\n",
    "\n",
    "        self.title = title\n",
    "        # Copy the authors list in case the caller modifies that list later.\n",
    "        self.authors = authors[:] \n",
    "        self.publisher = publisher \n",
    "        self.ISBN = isbn\n",
    "        self.price = price\n",
    "        \n",
    "    def num_authors(self) -> int:\n",
    "        \"\"\"Return the number of authors of this book.\n",
    "        \n",
    "        >>> python_book = Book( \\\n",
    "        'Practical Programming', \\ \n",
    "        ['Campbell', 'Gries', 'Montojo'], \\ \n",
    "        'PragmaticBookshelf',\\\n",
    "        '978-1-6805026-8-8', \\\n",
    "        25.0)\n",
    "        >>> python_book.num_authors() \n",
    "        3\n",
    "        \"\"\"\n",
    "        \n",
    "        return len(self.authors)"
   ]
  },
  {
   "cell_type": "code",
   "execution_count": 18,
   "metadata": {},
   "outputs": [
    {
     "name": "stdout",
     "output_type": "stream",
     "text": [
      "Practical Programming\n",
      "['Campbell', 'Gries', 'Montojo']\n",
      "PragmaticBookshelf\n",
      "978-1-6805026-8-8\n",
      "25.0\n",
      "3\n"
     ]
    }
   ],
   "source": [
    "# Creating Book instance \n",
    "python_book = Book(\\\n",
    "                'Practical Programming', \\\n",
    "                ['Campbell', 'Gries', 'Montojo'], \\\n",
    "                'PragmaticBookshelf',\\\n",
    "                '978-1-6805026-8-8', \\\n",
    "                25.0)\n",
    "print(python_book.title)\n",
    "print(python_book.authors) \n",
    "print(python_book.publisher) \n",
    "print(python_book.ISBN) \n",
    "print(python_book.price)\n",
    "\n",
    "print(python_book.num_authors())"
   ]
  },
  {
   "cell_type": "markdown",
   "metadata": {},
   "source": [
    "###### Class object assigned to the varaible Book\n",
    "This module contains a single (complicated) statement: the class definition. When Python **executes this module**, it **creates a class object and assigns it to variable Book**.\n",
    "\n",
    "###### Method __ init__ is called a constructor\n",
    "**Method __ init__ is called whenever a Book object is created.** Its purpose is to **initialize the new object**; this method is sometimes **called a constructor**. Steps Python follows when creating an object:\n",
    "\n",
    "1. It creates an object at a particular memory address.\n",
    "2. It calls **method __ init__, passing in the new object into the parameter self**.\n",
    "3.\tIt produces that object’s memory address. "
   ]
  },
  {
   "cell_type": "markdown",
   "metadata": {},
   "source": [
    "##### The procedure: \n",
    "###### Execute book1.py => create Book object => Book object is assigned to variable Book =>  call _ init_ method => initialize Book object into the parameter self \n",
    "1. Execute the module book1.py\n",
    "2. create the Book object (at a memory address) and assign it to variable Book\n",
    "3. call method __ init__ \n",
    "4. initialize the new object into the parameter self (at a memory address)"
   ]
  },
  {
   "cell_type": "code",
   "execution_count": null,
   "metadata": {},
   "outputs": [],
   "source": [
    "# %load book1.py"
   ]
  },
  {
   "cell_type": "markdown",
   "metadata": {},
   "source": [
    "###### pp. 281-282"
   ]
  },
  {
   "cell_type": "markdown",
   "metadata": {},
   "source": [
    "###### OOP: Class, Constructor Method, Class Variables, Instance Varaibles, Instances, Objects "
   ]
  },
  {
   "cell_type": "code",
   "execution_count": 27,
   "metadata": {},
   "outputs": [
    {
     "name": "stdout",
     "output_type": "stream",
     "text": [
      "George 90\n",
      "_______________________________________________________________________________\n",
      "['__class__', '__delattr__', '__dict__', '__dir__', '__doc__', '__eq__', '__format__', '__ge__', '__getattribute__', '__gt__', '__hash__', '__init__', '__init_subclass__', '__le__', '__lt__', '__module__', '__ne__', '__new__', '__reduce__', '__reduce_ex__', '__repr__', '__setattr__', '__sizeof__', '__str__', '__subclasshook__', '__weakref__', 'name1', 'score1']\n"
     ]
    }
   ],
   "source": [
    "# Source: Gries et al. (2017)\n",
    "# 01. Methods belong to classes. Instance variables belong to objects. (p. 283)\n",
    "#     Instance variables are deﬁned within methods. (Tagliaferri 2018, p. 381)\n",
    "#     In the Shark class example below, name and age are instance variables:\n",
    "#     class Shark: \n",
    "#         def __init__(self, name, age): \n",
    "#             self.name = name\n",
    "#             self.age = age\n",
    "# 02. Instance of class Book object contains instance variables \n",
    "#    and have access to the methods in Book.\n",
    "\n",
    "# Source: Tagliaferri 2018_How to Code in Python 3. \n",
    "# 03. An object is an instance of a class. (p. 370)\n",
    "# 04. Methods are a special kind of function that are defined within a class. (p. 369)\n",
    "# 05. self is a reference to objects that are made based on this class.\n",
    "# 06. The constructor method, __init__ method, is used to initialize data. (p. 372) \n",
    "# 07. The constructor method, __init__ method, is automatically initialized. \n",
    "#     You should use this method to carry out any initializing you would \n",
    "#     like to do with your class objects.(p. 372)\n",
    "# 08. Classes are useful because they allow us to create many similar objects \n",
    "#     based on the same blueprint. (p. 375)\n",
    "# 09. We may use many different objects of the same class. (p. 377)\n",
    "# 10. Classes make it possible to create more than one object following the same pattern without creating each one from scratch. (p. 377)\n",
    "# 11. OOP creats classes, instantiates objects, initializes attributes \n",
    "#     with the constructor method, and working with more than one object of \n",
    "#     the same class. (p. 377)\n",
    "# 12. OOP's objects created for one program can be used in another. (p. 377)\n",
    "# 13. OOP makes complex program less work to maintain over time.\n",
    "\n",
    "# OOP has two kinds of Variables: class variables and instance variables.\n",
    "# 14. OOP allows for both class variable or instance varaible. (p. 377)\n",
    "# 15. Class variables are shared by all instances of the class. (p. 378)\n",
    "# 16. Deﬁned outside of all the methods, class variables are typically \n",
    "#     placed right below the class header and before the constructor method \n",
    "#     and other methods. (p. 378)\n",
    "# 17. A class variable alone looks like this: (p. 379)\n",
    "#     class Shark:\n",
    "#         animal_type = \"fish\"\n",
    "#     Here, the class variable animal_type is assigned the value \"fish\".\n",
    "# 18. Instance variables are deﬁned within methods. (p. 381)\n",
    "#     In the Shark class example below, name and age are instance variables:\n",
    "#     class Shark:\n",
    "#         def __init__(self, name, age): \n",
    "#             self.name = name\n",
    "#             self.age = age\n",
    "\n",
    "class Grade:        # creating a class object called Grade.\n",
    "    # initializing self object with name and score attributes\n",
    "    def __init__(self, name, score): \n",
    "        # assigning name value to object.instance-variable self.name1\n",
    "        self.name1 = name    \n",
    "        self.score1 = score\n",
    "\n",
    "# grade1 is an instance of the class object Grade        \n",
    "grade1 = Grade(\"George\", 90) \n",
    "\n",
    "print(grade1.name1 + ' ' + str(grade1.score1))\n",
    "print('_'*79)\n",
    "print(dir(grade1))"
   ]
  },
  {
   "cell_type": "markdown",
   "metadata": {},
   "source": [
    "###### Working with Class and Instance Variables Together\n",
    "+ Tagliaferri, 2018, pp. 383-386"
   ]
  },
  {
   "cell_type": "code",
   "execution_count": 23,
   "metadata": {
    "scrolled": true
   },
   "outputs": [
    {
     "name": "stdout",
     "output_type": "stream",
     "text": [
      "Sammy\n",
      "ocean\n",
      "Stevie\n",
      "This user has 77 followers\n",
      "fish\n"
     ]
    }
   ],
   "source": [
    "# Tagliaferri, 2018, pp. 383-386\n",
    "# Working with Class and Instance Variables Together\n",
    "\n",
    "# shark.py\n",
    "class Shark:\n",
    "    # Class variables \n",
    "    animal_type = \"fish\" \n",
    "    location = \"ocean\"\n",
    "\n",
    "    # Constructor method with instance variables name and age\n",
    "    def __init__(self, name, age):\n",
    "        self.name = name \n",
    "        self.age = age\n",
    "\n",
    "    # Method with instance variable followers \n",
    "    def set_followers(self, followers):\n",
    "        print(\"This user has \" + str(followers) + \" followers\")\n",
    "        \n",
    "def main():\n",
    "    # First object\n",
    "    sammy = Shark(\"Sammy\", 5) # Set up instance variables of constructor method\n",
    "    print(sammy.name)         # Print out instance variable name\n",
    "    print(sammy.location)     # Print out class variable location\n",
    "\n",
    "    # Second object\n",
    "    stevie = Shark(\"Stevie\", 8)#Set up instance variables of constructor method \n",
    "    print(stevie.name)        # Print out instance variable name \n",
    "\n",
    "    # Use set_followers method and pass followers instance variable\n",
    "    stevie.set_followers(77) \n",
    "    print(stevie.animal_type) # Print out class variable animal_type\n",
    "    \n",
    "if __name__ == \"__main__\":\n",
    "    main()"
   ]
  },
  {
   "cell_type": "code",
   "execution_count": 26,
   "metadata": {},
   "outputs": [
    {
     "name": "stdout",
     "output_type": "stream",
     "text": [
      "['__annotations__', '__call__', '__class__', '__closure__', '__code__', '__defaults__', '__delattr__', '__dict__', '__dir__', '__doc__', '__eq__', '__format__', '__ge__', '__get__', '__getattribute__', '__globals__', '__gt__', '__hash__', '__init__', '__init_subclass__', '__kwdefaults__', '__le__', '__lt__', '__module__', '__name__', '__ne__', '__new__', '__qualname__', '__reduce__', '__reduce_ex__', '__repr__', '__setattr__', '__sizeof__', '__str__', '__subclasshook__']\n"
     ]
    }
   ],
   "source": [
    "print(dir(Shark.set_followers))"
   ]
  },
  {
   "cell_type": "code",
   "execution_count": 27,
   "metadata": {},
   "outputs": [
    {
     "name": "stdout",
     "output_type": "stream",
     "text": [
      "['__call__', '__class__', '__delattr__', '__dir__', '__doc__', '__eq__', '__format__', '__func__', '__ge__', '__get__', '__getattribute__', '__gt__', '__hash__', '__init__', '__init_subclass__', '__le__', '__lt__', '__ne__', '__new__', '__reduce__', '__reduce_ex__', '__repr__', '__self__', '__setattr__', '__sizeof__', '__str__', '__subclasshook__']\n"
     ]
    }
   ],
   "source": [
    "print(dir(stevie.set_followers))"
   ]
  },
  {
   "cell_type": "code",
   "execution_count": 30,
   "metadata": {},
   "outputs": [
    {
     "name": "stdout",
     "output_type": "stream",
     "text": [
      "{'__qualname__', '__annotations__', '__dict__', '__globals__', '__name__', '__defaults__', '__module__', '__kwdefaults__', '__closure__', '__code__'}\n"
     ]
    }
   ],
   "source": [
    "print(set(dir(Shark.set_followers)).difference(set(dir(stevie.set_followers))))"
   ]
  },
  {
   "cell_type": "code",
   "execution_count": 33,
   "metadata": {},
   "outputs": [
    {
     "name": "stdout",
     "output_type": "stream",
     "text": [
      "{'__qualname__', '__annotations__', '__dict__', '__globals__', '__name__', '__defaults__', '__module__', '__kwdefaults__', '__closure__', '__code__'}\n"
     ]
    }
   ],
   "source": [
    "print((set(dir(Shark.set_followers)) - set(dir(stevie.set_followers))))"
   ]
  },
  {
   "cell_type": "code",
   "execution_count": 32,
   "metadata": {},
   "outputs": [
    {
     "name": "stdout",
     "output_type": "stream",
     "text": [
      "{'__func__', '__self__'}\n"
     ]
    }
   ],
   "source": [
    "print((set(dir(stevie.set_followers))) - set(dir(Shark.set_followers)))"
   ]
  },
  {
   "cell_type": "code",
   "execution_count": null,
   "metadata": {},
   "outputs": [],
   "source": [
    "# Two ways to call a method:\n",
    "\n",
    "# 1. access the method through the class\n",
    "print(str.capitalize('browning'))   # 'Browning'\n",
    "\n",
    "# 2. use object-oriented syntax\n",
    "print('browning'.capitalize())      # 'Browning'"
   ]
  },
  {
   "cell_type": "code",
   "execution_count": 20,
   "metadata": {},
   "outputs": [
    {
     "name": "stdout",
     "output_type": "stream",
     "text": [
      "This user has 77 followers\n"
     ]
    }
   ],
   "source": [
    "# Using methods in a class\n",
    "# Method 1: access the method through the class\n",
    "Shark.set_followers(stevie, 77)"
   ]
  },
  {
   "cell_type": "code",
   "execution_count": 21,
   "metadata": {},
   "outputs": [
    {
     "name": "stdout",
     "output_type": "stream",
     "text": [
      "This user has 77 followers\n"
     ]
    }
   ],
   "source": [
    "# Using methods in a class\n",
    "# Method 2: use object-oriented syntax \n",
    "stevie.set_followers(77)"
   ]
  },
  {
   "cell_type": "code",
   "execution_count": 3,
   "metadata": {},
   "outputs": [],
   "source": [
    "import os\n",
    "os.chdir(r'D:/Python/Class/Data')"
   ]
  },
  {
   "cell_type": "code",
   "execution_count": null,
   "metadata": {},
   "outputs": [],
   "source": [
    "# %load book"
   ]
  },
  {
   "cell_type": "code",
   "execution_count": null,
   "metadata": {},
   "outputs": [],
   "source": [
    "# %load book1"
   ]
  },
  {
   "cell_type": "code",
   "execution_count": 10,
   "metadata": {},
   "outputs": [
    {
     "name": "stdout",
     "output_type": "stream",
     "text": [
      "Practical Programming\n",
      "['Campbell', 'Gries', 'Montojo']\n",
      "Pragmatic Bookshelf\n",
      "978-1-6805026-8-8\n",
      "25.0\n"
     ]
    }
   ],
   "source": [
    "# import book1.py module\n",
    "\n",
    "import os\n",
    "os.chdir(\"D:/Python/Class/Data\")\n",
    "\n",
    "import book1\n",
    "python_book = book1.Book(\n",
    "    'Practical Programming',\n",
    "    ['Campbell', 'Gries', 'Montojo'],\n",
    "    'Pragmatic Bookshelf',\n",
    "    '978-1-6805026-8-8',\n",
    "    25.0)\n",
    "print(python_book.title)      # 'Practical Programming'\n",
    "print(python_book.authors)    # ['Campbell', 'Gries', 'Montojo']\n",
    "print(python_book.publisher)  # 'Pragmatic Bookshelf'\n",
    "print(python_book.ISBN)       # '978-1-6805026-8-8'\n",
    "print(python_book.price)      # 25.0"
   ]
  },
  {
   "cell_type": "markdown",
   "metadata": {},
   "source": [
    "## What’s in an Object?, p. 283\n",
    "1. Methods belong to classes. Instance variables belong to objects.\n",
    "2. **Error:** If we **try to access an instance variable** as we do a method, we get an **error**.\n",
    "3. **OK:** **Instances of class Book contain instance variables** and **have access to the methods in Book**."
   ]
  },
  {
   "cell_type": "code",
   "execution_count": 1,
   "metadata": {},
   "outputs": [
    {
     "ename": "AttributeError",
     "evalue": "type object 'Book' has no attribute 'title'",
     "output_type": "error",
     "traceback": [
      "\u001b[1;31m---------------------------------------------------------------------------\u001b[0m",
      "\u001b[1;31mAttributeError\u001b[0m                            Traceback (most recent call last)",
      "\u001b[1;32m<ipython-input-1-cbe5b18b4657>\u001b[0m in \u001b[0;36m<module>\u001b[1;34m\u001b[0m\n\u001b[0;32m      8\u001b[0m \u001b[1;33m\u001b[0m\u001b[0m\n\u001b[0;32m      9\u001b[0m \u001b[1;32mimport\u001b[0m \u001b[0mbook1\u001b[0m\u001b[1;33m\u001b[0m\u001b[1;33m\u001b[0m\u001b[0m\n\u001b[1;32m---> 10\u001b[1;33m \u001b[0mbook1\u001b[0m\u001b[1;33m.\u001b[0m\u001b[0mBook\u001b[0m\u001b[1;33m.\u001b[0m\u001b[0mtitle\u001b[0m  \u001b[1;31m# type object 'Book' has no attribute 'title'\u001b[0m\u001b[1;33m\u001b[0m\u001b[1;33m\u001b[0m\u001b[0m\n\u001b[0m",
      "\u001b[1;31mAttributeError\u001b[0m: type object 'Book' has no attribute 'title'"
     ]
    }
   ],
   "source": [
    "# Error:\n",
    "# Methods belong to classes. Instance variables belong to objects. \n",
    "# If we try to access an instance variable as we do a method, we get an error:\n",
    "\n",
    "# import book1.py module\n",
    "import os\n",
    "os.chdir(\"D:/Python/Class/Data\")\n",
    "\n",
    "# If we try to access an instance variable as we do a method, we get an error:\n",
    "import book1\n",
    "book1.Book.title  # type object 'Book' has no attribute 'title'"
   ]
  },
  {
   "cell_type": "code",
   "execution_count": 8,
   "metadata": {},
   "outputs": [
    {
     "name": "stdout",
     "output_type": "stream",
     "text": [
      "['__class__', '__delattr__', '__dict__', '__dir__', '__doc__', '__eq__', '__format__', '__ge__', '__getattribute__', '__gt__', '__hash__', '__init__', '__init_subclass__', '__le__', '__lt__', '__module__', '__ne__', '__new__', '__reduce__', '__reduce_ex__', '__repr__', '__setattr__', '__sizeof__', '__str__', '__subclasshook__', '__weakref__', 'num_authors']\n"
     ]
    }
   ],
   "source": [
    "# No instance variable 'title' inside class object book1.Book. \n",
    "# The instance variables ('ISBN', 'authors', 'price', 'publisher', 'title') are\n",
    "# contained in the instance object of class Book like python_book: \n",
    "#     python_book = book1.Book(...). \n",
    "# But the class object Book has access to the methods like 'num_authors', here.\n",
    "print(dir(book1.Book))  "
   ]
  },
  {
   "cell_type": "code",
   "execution_count": null,
   "metadata": {},
   "outputs": [],
   "source": [
    "book1.Book.num_authors()"
   ]
  },
  {
   "cell_type": "code",
   "execution_count": null,
   "metadata": {},
   "outputs": [],
   "source": [
    "%load book1.py"
   ]
  },
  {
   "cell_type": "code",
   "execution_count": 4,
   "metadata": {},
   "outputs": [
    {
     "name": "stdout",
     "output_type": "stream",
     "text": [
      "['ISBN', '__class__', '__delattr__', '__dict__', '__dir__', '__doc__', '__eq__', '__format__', '__ge__', '__getattribute__', '__gt__', '__hash__', '__init__', '__init_subclass__', '__le__', '__lt__', '__module__', '__ne__', '__new__', '__reduce__', '__reduce_ex__', '__repr__', '__setattr__', '__sizeof__', '__str__', '__subclasshook__', '__weakref__', 'authors', 'num_authors', 'price', 'publisher', 'title']\n"
     ]
    }
   ],
   "source": [
    "# book1.py module:\n",
    "# Instances (python_book, here) of class Book contain instance variables \n",
    "# ('ISBN', 'authors', 'price', 'publisher', 'title', here) \n",
    "# and have access to the methods ('num_authors', here) in Book:\n",
    "\n",
    "# Notice that ISBN, authors, price, publisher, and title are all available in \n",
    "# the object as instance variables in addition to the contents of class Book.\n",
    "\n",
    "# import book1.py module\n",
    "import os\n",
    "os.chdir(\"D:/Python/Class/Data\")\n",
    "\n",
    "import book1\n",
    "python_book = book1.Book(\n",
    "    'Practical Programming',\n",
    "    ['Campbell', 'Gries', 'Montojo'],\n",
    "    'Pragmatic Bookshelf',\n",
    "    '978-1-6805026-8-8',\n",
    "    25.0)\n",
    "print(dir(python_book))"
   ]
  },
  {
   "cell_type": "code",
   "execution_count": 29,
   "metadata": {},
   "outputs": [
    {
     "data": {
      "text/plain": [
       "{'ISBN', 'authors', 'price', 'publisher', 'title'}"
      ]
     },
     "execution_count": 29,
     "metadata": {},
     "output_type": "execute_result"
    }
   ],
   "source": [
    "# Difference between two sets of lists.\n",
    "# Notice that ISBN, authors, price, publisher, and title are all available in \n",
    "# the object as instance variables in addition to the contents of class Book.\n",
    "set(dir(python_book)) - set(dir(book1.Book)) # Elements in A but not in B"
   ]
  },
  {
   "cell_type": "raw",
   "metadata": {},
   "source": [
    "With constructors, methods, and instance variables in hand, we can now create classes that look and work like those that come with Python itself."
   ]
  },
  {
   "cell_type": "code",
   "execution_count": 7,
   "metadata": {},
   "outputs": [
    {
     "name": "stdout",
     "output_type": "stream",
     "text": [
      "['__add__', '__class__', '__contains__', '__delattr__', '__dir__', '__doc__', '__eq__', '__format__', '__ge__', '__getattribute__', '__getitem__', '__getnewargs__', '__gt__', '__hash__', '__init__', '__init_subclass__', '__iter__', '__le__', '__len__', '__lt__', '__mod__', '__mul__', '__ne__', '__new__', '__reduce__', '__reduce_ex__', '__repr__', '__rmod__', '__rmul__', '__setattr__', '__sizeof__', '__str__', '__subclasshook__', 'capitalize', 'casefold', 'center', 'count', 'encode', 'endswith', 'expandtabs', 'find', 'format', 'format_map', 'index', 'isalnum', 'isalpha', 'isascii', 'isdecimal', 'isdigit', 'isidentifier', 'islower', 'isnumeric', 'isprintable', 'isspace', 'istitle', 'isupper', 'join', 'ljust', 'lower', 'lstrip', 'maketrans', 'partition', 'replace', 'rfind', 'rindex', 'rjust', 'rpartition', 'rsplit', 'rstrip', 'split', 'splitlines', 'startswith', 'strip', 'swapcase', 'title', 'translate', 'upper', 'zfill']\n"
     ]
    }
   ],
   "source": [
    "import builtins\n",
    "print(dir(builtins.str))  # __add__ function"
   ]
  },
  {
   "cell_type": "markdown",
   "metadata": {},
   "source": [
    "## Plugging into Python Syntax: More Special Methods, p. 285\n",
    "+ Python syntax + or ==, triggers method calls, such as:\n",
    "    1. **'abc' + '123'** turns into **'abc'.__ add__('123')**.\n",
    "    2. **print(obj)** turns into calling **obj.__ str__()**.\n",
    "    3. Notice the special methods: **__ str__** and **__ repr__**."
   ]
  },
  {
   "cell_type": "code",
   "execution_count": 30,
   "metadata": {},
   "outputs": [
    {
     "name": "stdout",
     "output_type": "stream",
     "text": [
      "abc123\n",
      "abc123\n"
     ]
    }
   ],
   "source": [
    "# same\n",
    "# 'abc' + '123' turns into 'abc'.__ add__('123')\n",
    "print('abc' + '123')\n",
    "print('abc'.__add__('123'))"
   ]
  },
  {
   "cell_type": "code",
   "execution_count": 15,
   "metadata": {},
   "outputs": [
    {
     "name": "stdout",
     "output_type": "stream",
     "text": [
      "test\n",
      "test\n"
     ]
    }
   ],
   "source": [
    "# same\n",
    "# When we call print(obj), then obj.__ str__() is called to find out \n",
    "# what string to print.\n",
    "obj = 'test'\n",
    "print(obj) \n",
    "print(obj.__str__())"
   ]
  },
  {
   "cell_type": "code",
   "execution_count": 20,
   "metadata": {},
   "outputs": [
    {
     "name": "stdout",
     "output_type": "stream",
     "text": [
      "<book1.Book object at 0x000002043B0B6BB0>\n",
      "\n"
     ]
    }
   ],
   "source": [
    "# The default behavior for converting objects to strings: it just shows us \n",
    "#     where the object is in memory. \n",
    "import os\n",
    "os.chdir(\"E:/Python/Class/Data\")\n",
    "\n",
    "import book1, imp\n",
    "imp.reload(book1)\n",
    "python_book = book1.Book(\n",
    "    'Practical Programming',\n",
    "    ['Campbell', 'Gries', 'Montojo'],\n",
    "    'Pragmatic Bookshelf',\n",
    "    '978-1-6805026-8-8',\n",
    "    25.0)\n",
    "# The default behavior for converting objects to strings: it just shows us \n",
    "#     where the object is in memory. \n",
    "# Without __str__ method in book1.py, the output is not useful:\n",
    "print(python_book); print()  \n",
    "# print(python_book.authors)   # ['Campbell', 'Gries', 'Montojo']"
   ]
  },
  {
   "cell_type": "markdown",
   "metadata": {},
   "source": [
    "#### p. 286"
   ]
  },
  {
   "cell_type": "code",
   "execution_count": 27,
   "metadata": {},
   "outputs": [
    {
     "name": "stdout",
     "output_type": "stream",
     "text": [
      "Help on wrapper_descriptor:\n",
      "\n",
      "__str__(self, /)\n",
      "    Return str(self).\n",
      "\n"
     ]
    }
   ],
   "source": [
    "# The default behavior for converting objects to strings: \n",
    "# it just shows us where the object is in memory. \n",
    "\n",
    "# This is the behavior defined in class object’s method　__Str__ \n",
    "# which our Book class has inherited.\n",
    "\n",
    "help(book1.Book.__str__)"
   ]
  },
  {
   "cell_type": "code",
   "execution_count": 31,
   "metadata": {},
   "outputs": [
    {
     "name": "stdout",
     "output_type": "stream",
     "text": [
      "['__class__', '__delattr__', '__dict__', '__dir__', '__doc__', '__eq__', '__format__', '__ge__', '__getattribute__', '__gt__', '__hash__', '__init__', '__init_subclass__', '__le__', '__lt__', '__module__', '__ne__', '__new__', '__reduce__', '__reduce_ex__', '__repr__', '__setattr__', '__sizeof__', '__str__', '__subclasshook__', '__weakref__', 'num_authors']\n"
     ]
    }
   ],
   "source": [
    "# Try to find methods from the class book1.Book:\n",
    "# 1. __str__ method\n",
    "# 2. __init__ method\n",
    "# 3. __format__ method\n",
    "# 4. __repr__ method\n",
    "# 5. num_authors method\n",
    "\n",
    "print(dir(book1.Book))"
   ]
  },
  {
   "cell_type": "code",
   "execution_count": 35,
   "metadata": {},
   "outputs": [
    {
     "name": "stdout",
     "output_type": "stream",
     "text": [
      "Help on wrapper_descriptor:\n",
      "\n",
      "__repr__(self, /)\n",
      "    Return repr(self).\n",
      "\n"
     ]
    }
   ],
   "source": [
    "help(book1.Book.__repr__)"
   ]
  },
  {
   "cell_type": "markdown",
   "metadata": {},
   "source": [
    "###### Two more special methods, __ str__ and __ repr__, p. 286\n",
    "\n",
    "If we want to present a more useful string, we need to explore two more special methods, **__ str__** and **__ repr__**. \n",
    "\n",
    "**__ str__** method is called when an informal, human-readable version of an object is needed.\n",
    "\n",
    "**__ repr__** is called when unambiguous, but possibly less readable, output is desired. \n",
    "\n",
    "In particular, **__ str__** method is **called by:**\n",
    "1. **print()**\n",
    "2. **str()**\n",
    "3. **str.format()** method\n",
    "\n",
    "(In particular, **__ str__** method is called when **print** is used, and it is also called by function **str** and by string method **format**.) \n",
    "\n",
    "Method **__ repr__** is **called when**\n",
    "1. **we show the value of a variable in the Python shell (or Jupyter Notebook);**\n",
    "2. **a collection such as list is printed.**\n",
    "\n",
    "(Method **__ repr__** is called when you ask for the value of a variable in the Python shell, and it is also called when a collection such as list is printed.)"
   ]
  },
  {
   "cell_type": "code",
   "execution_count": 36,
   "metadata": {},
   "outputs": [
    {
     "name": "stdout",
     "output_type": "stream",
     "text": [
      "Help on wrapper_descriptor:\n",
      "\n",
      "__str__(self, /)\n",
      "    Return str(self).\n",
      "\n"
     ]
    }
   ],
   "source": [
    "# define method Book.__str__\n",
    "import os\n",
    "os.chdir(\"D:/Python/Class/Data\")\n",
    "\n",
    "import book1\n",
    "help(book1.Book.__str__)"
   ]
  },
  {
   "cell_type": "code",
   "execution_count": 47,
   "metadata": {},
   "outputs": [],
   "source": [
    "# The module book2.py includes the following __str__ method in Book class for \n",
    "#     printing more useful information about the Book class object. \n",
    "\n",
    "def __str__(self) -> str:\n",
    "    \"\"\"Return a human-readable string representation of this Book. \n",
    "    \"\"\"\n",
    "\n",
    "    return \"\"\"Title: {self.title}\n",
    "            Authors: {', '.join(self.authors)} \n",
    "            Publisher: {self.publisher}\n",
    "            ISBN: {self.ISBN}\n",
    "            Price:  ${self.price}\"\"\""
   ]
  },
  {
   "cell_type": "code",
   "execution_count": null,
   "metadata": {},
   "outputs": [],
   "source": [
    "# %load book2.py"
   ]
  },
  {
   "cell_type": "code",
   "execution_count": 19,
   "metadata": {},
   "outputs": [
    {
     "name": "stdout",
     "output_type": "stream",
     "text": [
      "Title: Practical Programming\n",
      "Authors: Campbell, Gries, Montojo\n",
      "Publisher: Pragmatic Bookshelf\n",
      "ISBN: 978-1-6805026-8-8\n",
      "Price:  $25.0\n",
      "\n"
     ]
    }
   ],
   "source": [
    "# The module book2.py includes the __str__ method in Book class for printing\n",
    "#     more usefule information about the Book class object. \n",
    "\n",
    "import os\n",
    "os.chdir(\"D:/Python/Class/Data\")\n",
    "\n",
    "import imp, book2\n",
    "imp.reload(book2)\n",
    "python_book = book2.Book(\n",
    "    'Practical Programming',\n",
    "    ['Campbell', 'Gries', 'Montojo'],\n",
    "    'Pragmatic Bookshelf',\n",
    "    '978-1-6805026-8-8',\n",
    "    25.0)\n",
    "\n",
    "print(python_book); print()\n",
    "# print(python_book.num_authors())"
   ]
  },
  {
   "cell_type": "code",
   "execution_count": 12,
   "metadata": {},
   "outputs": [
    {
     "name": "stdout",
     "output_type": "stream",
     "text": [
      "John Doe\n",
      "25\n"
     ]
    }
   ],
   "source": [
    "# Defining a __str__() method in a class object Person:\n",
    "# Source: https://www.pythontutorial.net/python-oop/python-__str__/\n",
    "class Person:\n",
    "    def __init__(self, first_name, last_name, age):\n",
    "        self.first_name = first_name\n",
    "        self.last_name = last_name\n",
    "        self.age = age\n",
    "\n",
    "    def __str__(self):\n",
    "        # return f'{self.first_name} {self.last_name}, {self.age}'\n",
    "        return f\"\"\"{self.first_name} {self.last_name}\n",
    "{self.age}\"\"\"\n",
    "    \n",
    "person = Person('John', 'Doe', 25)\n",
    "print(person)   "
   ]
  },
  {
   "cell_type": "code",
   "execution_count": 38,
   "metadata": {},
   "outputs": [
    {
     "name": "stdout",
     "output_type": "stream",
     "text": [
      "<book1.Book object at 0x000002043B0B6AC0>\n",
      "\n",
      "-----------------------------------------------------------------\n",
      "Title: Practical Programming\n",
      "Authors: Campbell, Gries, Montojo\n",
      "Publisher: Pragmatic Bookshelf\n",
      "ISBN: 978-1-6805026-8-8\n",
      "Price:  $25.0\n",
      "\n"
     ]
    }
   ],
   "source": [
    "# For Comparison: \n",
    "# with (book2.py) vs without (book1.py) Book.__str__() method in Book class\n",
    "\n",
    "import os\n",
    "os.chdir(\"D:/Python/Class/Data\")\n",
    "\n",
    "import book1, book2, imp\n",
    "imp.reload(book1)\n",
    "imp.reload(book2)\n",
    "python_book1 = book1.Book(\n",
    "        'Practical Programming',\n",
    "        ['Campbell', 'Gries', 'Montojo'],\n",
    "        'Pragmatic Bookshelf',\n",
    "        '978-1-6805026-8-8',\n",
    "        25.0)\n",
    "\n",
    "python_book2 = book2.Book(\n",
    "        'Practical Programming',\n",
    "        ['Campbell', 'Gries', 'Montojo'],\n",
    "        'Pragmatic Bookshelf',\n",
    "        '978-1-6805026-8-8',\n",
    "        25.0)\n",
    "\n",
    "print(python_book1); print()\n",
    "# print(python_book1.authors) \n",
    "print('-'*65)\n",
    "print(python_book2); print()\n",
    "# print(python_book2.authors) "
   ]
  },
  {
   "cell_type": "code",
   "execution_count": 32,
   "metadata": {},
   "outputs": [
    {
     "name": "stdout",
     "output_type": "stream",
     "text": [
      "For only 49.00 dollars!\n"
     ]
    }
   ],
   "source": [
    "# str.format() methods: Formats specified values in a string\n",
    "txt = \"For only {price:.2f} dollars!\"\n",
    "print(txt.format(price = 49))"
   ]
  },
  {
   "cell_type": "raw",
   "metadata": {},
   "source": [
    "def __str__(self) -> str:\n",
    "    \"\"\"Return a human-readable string representation of this Book. \n",
    "    \"\"\"\n",
    "\n",
    "    return \"For only {price:.2f} dollars!\".format()\n",
    "\n",
    "price.format(49)"
   ]
  },
  {
   "cell_type": "code",
   "execution_count": 15,
   "metadata": {},
   "outputs": [
    {
     "name": "stdout",
     "output_type": "stream",
     "text": [
      "Token(integer, 'int')\n"
     ]
    }
   ],
   "source": [
    "# https://blog.csdn.net/abcamus/article/details/56009780\n",
    "class Token(object):\n",
    "    def __init__(self, type, value):\n",
    "        self.type = type\n",
    "        self.value = value\n",
    "\n",
    "    def __str__(self):\n",
    "        \"\"\"String representation of the class instance.\n",
    "\n",
    "        Examples:\n",
    "            Token(INTEGER, 3)\n",
    "            Token(PLUS, '+')\n",
    "            Token(MUL, '*')\n",
    "        \"\"\"\n",
    "        return 'Token({type}, {value})'.format(\n",
    "            type=self.type,\n",
    "            value=repr(self.value)\n",
    "        )\n",
    "\n",
    "    def __repr__(self):\n",
    "        return self.__str__()\n",
    "    \n",
    "print(Token('integer', 'int'))    "
   ]
  },
  {
   "cell_type": "code",
   "execution_count": 14,
   "metadata": {},
   "outputs": [],
   "source": [
    "# https://realpython.com/lessons/how-and-when-use-str/\n",
    "class car:\n",
    "    def __init__(self, color, mileage):\n",
    "        self.color = color\n",
    "        self.mileage = mileage\n",
    "\n",
    "    def __str__(self):\n",
    "        return 'a {self.color} car'.format(self=self)"
   ]
  },
  {
   "cell_type": "code",
   "execution_count": 19,
   "metadata": {},
   "outputs": [
    {
     "name": "stdout",
     "output_type": "stream",
     "text": [
      "a red car\n",
      "a red car\n"
     ]
    },
    {
     "data": {
      "text/plain": [
       "'a red car'"
      ]
     },
     "execution_count": 19,
     "metadata": {},
     "output_type": "execute_result"
    }
   ],
   "source": [
    "my_car = car('red', 37281)\n",
    "print(my_car)\n",
    "print('{}'.format(my_car))\n",
    "str(my_car)"
   ]
  },
  {
   "cell_type": "markdown",
   "metadata": {},
   "source": [
    "###### __ str__ vs __ repr__\n",
    "1. __ str__ is more human readable\n",
    "2. __ repr__ is more info rich and machine readable"
   ]
  },
  {
   "cell_type": "markdown",
   "metadata": {},
   "source": [
    "###### __ str__()\n",
    "This method **returns the string object. This method is called when print() or str() function is invoked on an object.**\n",
    "\n",
    "**If we don’t implement __ str__() function for a class, then built-in object implementation is used that actually calls __ repr__() function.**"
   ]
  },
  {
   "cell_type": "markdown",
   "metadata": {},
   "source": [
    "###### __ repr__()\n",
    "Python **__ repr__()** function returns the object representation in string format. This method is called when **repr() function** is invoked on the object. If possible, the string returned should be a valid Python expression that can be used to reconstruct the object again."
   ]
  },
  {
   "cell_type": "markdown",
   "metadata": {},
   "source": [
    "You should always **use str() and repr() functions**, which **will call the underlying __ str__** and **__ repr__ functions**. It’s not a good idea to use these functions directly."
   ]
  },
  {
   "cell_type": "code",
   "execution_count": 25,
   "metadata": {},
   "outputs": [
    {
     "name": "stdout",
     "output_type": "stream",
     "text": [
      "<__main__.Person object at 0x0000029C1B6BD400>\n"
     ]
    }
   ],
   "source": [
    "# The output isn't so useful\n",
    "# https://www.pythontutorial.net/python-oop/python-__repr__/\n",
    "class Person:\n",
    "    def __init__(self, first_name, last_name, age):\n",
    "        self.first_name = first_name\n",
    "        self.last_name = last_name\n",
    "        self.age = age\n",
    "\n",
    "person = Person('John', 'Doe', 25)\n",
    "print(repr(person))  # print its string representaton to the screen"
   ]
  },
  {
   "cell_type": "code",
   "execution_count": 8,
   "metadata": {},
   "outputs": [],
   "source": [
    "# To customize the string representation of the object, \n",
    "# you can implement the __repr__ method like this:\n",
    "# https://www.pythontutorial.net/python-oop/python-__repr__/\n",
    "class Person:\n",
    "    def __init__(self, first_name, last_name, age):\n",
    "        self.first_name = first_name\n",
    "        self.last_name = last_name\n",
    "        self.age = age\n",
    "\n",
    "    def __repr__(self):\n",
    "        return f'Person(\"{self.first_name}\",\"{self.last_name}\",{self.age})'"
   ]
  },
  {
   "cell_type": "markdown",
   "metadata": {},
   "source": [
    "**When you pass an instance of the Person class to the repr(), Python will call the __ repr__ method automatically. For example:**"
   ]
  },
  {
   "cell_type": "code",
   "execution_count": 31,
   "metadata": {},
   "outputs": [
    {
     "name": "stdout",
     "output_type": "stream",
     "text": [
      "Person(\"John\",\"Doe\",25)\n"
     ]
    }
   ],
   "source": [
    "person = Person(\"John\", \"Doe\", 25)\n",
    "print(repr(person))"
   ]
  },
  {
   "cell_type": "markdown",
   "metadata": {},
   "source": [
    "If you execute the return string Person(\"John\",\"Doe\",25), it would create the person object.\n",
    "\n",
    "**When a class doesn’t implement the __ str__ method and you pass an instance of that class to the str(), Python returns the result of the __ repr__ method because internally the __ str__ method calls the __ repr__ method:**"
   ]
  },
  {
   "cell_type": "code",
   "execution_count": 5,
   "metadata": {},
   "outputs": [
    {
     "name": "stdout",
     "output_type": "stream",
     "text": [
      "Person(\"John\",\"Doe\",25)\n"
     ]
    }
   ],
   "source": [
    "person = Person('John', 'Doe', 25)\n",
    "print(person)"
   ]
  },
  {
   "cell_type": "markdown",
   "metadata": {},
   "source": [
    "**If a class implements the __str__ method, Python will call the __str__ method when you pass an instance of the class to the str(). For example:**"
   ]
  },
  {
   "cell_type": "code",
   "execution_count": 24,
   "metadata": {},
   "outputs": [
    {
     "name": "stdout",
     "output_type": "stream",
     "text": [
      "(John,Doe,25)\n",
      "Person(\"John\",\"Doe\",25)\n"
     ]
    }
   ],
   "source": [
    "# https://www.pythontutorial.net/python-oop/python-__repr__/\n",
    "class Person:\n",
    "    def __init__(self, first_name, last_name, age):\n",
    "        self.first_name = first_name\n",
    "        self.last_name = last_name\n",
    "        self.age = age\n",
    "\n",
    "    def __repr__(self):\n",
    "        return f'Person(\"{self.first_name}\",\"{self.last_name}\",{self.age})'\n",
    "\n",
    "    def __str__(self):\n",
    "        return f'({self.first_name},{self.last_name},{self.age})'\n",
    "\n",
    "\n",
    "person = Person('John', 'Doe', 25)\n",
    "# use str()\n",
    "print(person)\n",
    "\n",
    "# use repr()\n",
    "print(repr(person))"
   ]
  },
  {
   "cell_type": "code",
   "execution_count": 23,
   "metadata": {},
   "outputs": [
    {
     "name": "stdout",
     "output_type": "stream",
     "text": [
      "2021-03-21 09:16:06.823039\n",
      "\n",
      "datetime.datetime(2021, 3, 21, 9, 16, 6, 823039)\n"
     ]
    }
   ],
   "source": [
    "# https://www.journaldev.com/22460/python-str-repr-functions\n",
    "import datetime\n",
    "now = datetime.datetime.now()\n",
    "print(now.__str__()); print()  # more human readable\n",
    "print(now.__repr__()) # more info rich and machine friendly"
   ]
  },
  {
   "cell_type": "code",
   "execution_count": 20,
   "metadata": {},
   "outputs": [
    {
     "name": "stdout",
     "output_type": "stream",
     "text": [
      "Person name is Pankaj and age is 34\n",
      "Person(name=Pankaj, age=34)\n"
     ]
    }
   ],
   "source": [
    "# \n",
    "# https://www.journaldev.com/22460/python-str-repr-functions\n",
    "class Person:\n",
    "\n",
    "    def __init__(self, person_name, person_age):\n",
    "        self.name = person_name\n",
    "        self.age = person_age\n",
    "\n",
    "    def __str__(self):\n",
    "        return f'Person name is {self.name} and age is {self.age}'\n",
    "\n",
    "    def __repr__(self):\n",
    "        return f'Person(name={self.name}, age={self.age})'\n",
    "\n",
    "\n",
    "p = Person('Pankaj', 34)\n",
    "\n",
    "print(p.__str__())\n",
    "print(p.__repr__())"
   ]
  },
  {
   "cell_type": "code",
   "execution_count": null,
   "metadata": {},
   "outputs": [],
   "source": []
  },
  {
   "cell_type": "markdown",
   "metadata": {},
   "source": [
    "###### Method __ repr__, p. 286\n",
    "Method **__ repr__** is called to get an unambiguous string representation of an object. The string should include the type of the object as well as the values of any instance variables—ideally, if we were to evaluate the string, it would create an object that is equivalent to the one that owns method **__ repr__**. We will show an example of **__ repr__** in *A Case Study: Molecules, Atoms, and PDB Files*, on page 295."
   ]
  },
  {
   "cell_type": "markdown",
   "metadata": {},
   "source": [
    "###### The method __ eq__\n",
    "The operator **== triggers** a call on **method __ eq__** which is **defined in class object**, and so **class Book has inherited it**; object’s **__ eq__** produces **True** exactly **when an object is compared to itself**. That means that **even if two objects contain identical information they will not be considered equal:**"
   ]
  },
  {
   "cell_type": "code",
   "execution_count": null,
   "metadata": {},
   "outputs": [],
   "source": [
    "%load book2_1.py"
   ]
  },
  {
   "cell_type": "code",
   "execution_count": 6,
   "metadata": {
    "scrolled": true
   },
   "outputs": [
    {
     "name": "stdout",
     "output_type": "stream",
     "text": [
      "False\n",
      "True\n",
      "True\n",
      "\n",
      "Title: {self.title}\n",
      "Authors: {', '.join(self.authors)}\n",
      "Publisher: {self.publisher}\n",
      "ISBN: {self.ISBN}\n",
      "Price:  ${self.price}\n"
     ]
    }
   ],
   "source": [
    "import os\n",
    "os.chdir(\"D:/Python/Class/Data\")\n",
    "\n",
    "import imp, book2_1\n",
    "imp.reload(book2_1)\n",
    "\n",
    "python_book_1 = book2_1.Book(\n",
    "    'Practical Programming',\n",
    "    ['Campbell', 'Gries', 'Montojo'],\n",
    "    'Pragmatic Bookshelf',\n",
    "    '978-1-6805026-8-8',\n",
    "    25.0)\n",
    "python_book_2 = book2_1.Book(\n",
    "    'Practical Programming',\n",
    "    ['Campbell', 'Gries', 'Montojo'],\n",
    "    'Pragmatic Bookshelf',\n",
    "    '978-1-6805026-8-8',\n",
    "    25.0)\n",
    "# The operator == triggers a call on method __eq__ which is defined in class \n",
    "# object and so class Book has inherited it; \n",
    "# object’s __ eq__ produces True exactly when an object is compared to itself. \n",
    "# That means that even if two objects contain identical information \n",
    "# they will not be considered equal:\n",
    "print(python_book_1 == python_book_2)    # False   \n",
    "print(python_book_1 == python_book_1)    # True\n",
    "print(python_book_2 == python_book_2)    # True\n",
    "print()\n",
    "print(python_book_2)"
   ]
  },
  {
   "cell_type": "markdown",
   "metadata": {},
   "source": [
    "**We can override an inherited method by defining a new version in our subclass.** This replaces the inherited method so that it is no longer used. As an example, **we’ll define method Book.__ eq__ to compare two books for equality.** Because ISBNs are unique, we can compare using them, but we first need to check whether the object we are comparing to is in fact a Book. We’ll add this method to class Book:"
   ]
  },
  {
   "cell_type": "code",
   "execution_count": 40,
   "metadata": {},
   "outputs": [],
   "source": [
    "# book3.py, p. 287\n",
    "\n",
    "# By adding the following __eq__ method to Book class object of \n",
    "#     book2.py module, we obtain book3.py module.\n",
    "\n",
    "from typing import List, Any\n",
    "\n",
    "def __eq__(self, other: Any) -> bool:\n",
    "    \"\"\"Return True iff other is a book, and this book and other have \n",
    "    the same ISBN.\n",
    "\n",
    "    >>> python_book = Book( \\\n",
    "            'Practical Programming', \\ \n",
    "            ['Campbell', 'Gries', 'Montojo'], \\\n",
    "            'PragmaticBookshelf',\\\n",
    "            '978-1-6805026-8-8', \\\n",
    "            25.0)\n",
    "    >>> python_book_discounted = Book( \\ \n",
    "            'Practical Programming', \\ \n",
    "            ['Campbell',  'Gries', 'Montojo'], \\\n",
    "            'Pragmatic Bookshelf', \\\n",
    "            '978-1-6805026-8-8', \\\n",
    "            5.0)\n",
    "    >>> python_book == python_book_discounted \n",
    "    True\n",
    "    >>> python_book == ['Not', 'a', 'book']\n",
    "    False \n",
    "    \"\"\"\n",
    "\n",
    "    return isinstance(other, Book) and self.ISBN == other.ISBN"
   ]
  },
  {
   "cell_type": "code",
   "execution_count": 5,
   "metadata": {},
   "outputs": [
    {
     "name": "stdout",
     "output_type": "stream",
     "text": [
      "True\n",
      "False\n",
      "False\n"
     ]
    }
   ],
   "source": [
    "# Here is the new method __eq__ in action:\n",
    "\n",
    "import os\n",
    "os.chdir(\"D:/Python/Class/Data\")\n",
    "\n",
    "import book3\n",
    "python_book_1  =  book3.Book(\n",
    "    'Practical Programming', ['Campbell', 'Gries', 'Montojo'],\n",
    "    'Pragmatic Bookshelf', '978-1-6805026-8-8', 25.0)\n",
    "python_book_2  =  book3.Book(\n",
    "    'Practical Programming', ['Campbell', 'Gries', 'Montojo'],\n",
    "    'Pragmatic Bookshelf', '978-1-6805026-8-8', 25.0)\n",
    "survival_book  =  book3.Book(\n",
    "    \"New Programmer's Survival Manual\", ['Carter'],\n",
    "    'Pragmatic Bookshelf', '978-1-93435-681-4', 19.0)\n",
    "\n",
    "print(python_book_1 == python_book_2)          # True\n",
    "print(python_book_1 == survival_book)          # False\n",
    "print(python_book_1 == ['Not', 'a', 'book'])   # False"
   ]
  },
  {
   "cell_type": "raw",
   "metadata": {},
   "source": [
    "Here, then, are the lookup rules for a method call obj.method(...):\n",
    "\n",
    "1. Look in the current object’s class. If we find a method with the right name, use it.\n",
    "2. If we didn’t find it, look in the superclass. Continue up the class hierarchy until the method is found.\n",
    "\n",
    "Python has lots of other special methods; the official Python website gives a full  list."
   ]
  },
  {
   "cell_type": "markdown",
   "metadata": {},
   "source": [
    "## A Little Bit of OO Theory, p. 288\n",
    "+ **Classes and objects** are two of programming’s power tools.\n",
    "+ This section **introduces some underlying theory** that will **help you design reliable, reusable object-oriented software.**"
   ]
  },
  {
   "cell_type": "markdown",
   "metadata": {},
   "source": [
    "[Four Pillars of OOP](https://miro.medium.com/max/1094/1*GDZKZyaSfQGm8HL-CtYWtA.jpeg)\n",
    "\n",
    "[Four Basic Principles of OOP](https://medium.com/@cancerian0684/what-are-four-basic-principles-of-object-oriented-programming-645af8b43727)\n",
    "\n",
    "* **Encapsulation**\n",
    "* **Abstraction**\n",
    "* **Inheritance**\n",
    "* **Polymorphism**"
   ]
  },
  {
   "cell_type": "markdown",
   "metadata": {},
   "source": [
    "### Encapsulation, p. 288\n",
    "1. The **first** fundamental feature of object-oriented programming is **encapsulation**.\n",
    "2. To **encapsulate** something means to enclose it in some kind of container.\n",
    "3. In programming, **encapsulation** means **keeping data and the code** that uses it **in one place and hiding the details** of exactly how they work together."
   ]
  },
  {
   "cell_type": "markdown",
   "metadata": {},
   "source": [
    "###### Encapsulation: \n",
    "+ Classes create types. \n",
    "+ Classes support encapsulation. \n",
    "+ That means, classes combine data and the operations on it so that other parts of the program can ignore implementation details."
   ]
  },
  {
   "cell_type": "markdown",
   "metadata": {},
   "source": [
    "### Abstraction\n",
    "[Four Basic Principles of OOP](https://medium.com/@cancerian0684/what-are-four-basic-principles-of-object-oriented-programming-645af8b43727)\n",
    "\n",
    "Abstract means a concept or an Idea which is not associated with any particular instance. Using abstract class/Interface we express the intent of the class rather than the actual implementation. In a way, one class should not know the inner details of another in order to use it, just knowing the interfaces should be good enough."
   ]
  },
  {
   "cell_type": "markdown",
   "metadata": {},
   "source": [
    "[Object Oriented Python-Tutorialspoint](https://www.tutorialspoint.com/object_oriented_python/object_oriented_python_tutorial.pdf)\n",
    "\n",
    "The terms **encapsulation and abstraction (also called data hiding) are often used as synonyms**. They are **nearly synonymous**, as **abstraction is achieved through encapsulation**."
   ]
  },
  {
   "cell_type": "markdown",
   "metadata": {},
   "source": [
    "### What Are Those Special Attributes?, p. 289"
   ]
  },
  {
   "cell_type": "code",
   "execution_count": 15,
   "metadata": {},
   "outputs": [
    {
     "name": "stdout",
     "output_type": "stream",
     "text": [
      "['__class__', '__delattr__', '__dict__', '__dir__', '__doc__', '__eq__', '__format__', '__ge__', '__getattribute__', '__gt__', '__hash__', '__init__', '__init_subclass__', '__le__', '__lt__', '__module__', '__ne__', '__new__', '__reduce__', '__reduce_ex__', '__repr__', '__setattr__', '__sizeof__', '__str__', '__subclasshook__', '__weakref__']\n"
     ]
    }
   ],
   "source": [
    "# With 3 special methods, {'__weakref__', '__module__', '__dict__'}, inside\n",
    "# Class object:\n",
    "print(dir(Book))"
   ]
  },
  {
   "cell_type": "code",
   "execution_count": 17,
   "metadata": {},
   "outputs": [
    {
     "name": "stdout",
     "output_type": "stream",
     "text": [
      "['__class__', '__delattr__', '__dir__', '__doc__', '__eq__', '__format__', '__ge__', '__getattribute__', '__gt__', '__hash__', '__init__', '__init_subclass__', '__le__', '__lt__', '__ne__', '__new__', '__reduce__', '__reduce_ex__', '__repr__', '__setattr__', '__sizeof__', '__str__', '__subclasshook__']\n"
     ]
    }
   ],
   "source": [
    "# Without 3 special methods, {'__weakref__', '__module__', '__dict__'}, inside\n",
    "# Class object:\n",
    "print(dir(object))"
   ]
  },
  {
   "cell_type": "code",
   "execution_count": 16,
   "metadata": {},
   "outputs": [
    {
     "name": "stdout",
     "output_type": "stream",
     "text": [
      "{'__weakref__', '__module__', '__dict__'}\n"
     ]
    }
   ],
   "source": [
    "# Differnces between Class Book and Class object:\n",
    "print(set(dir(Book))-set(dir(object)))"
   ]
  },
  {
   "cell_type": "markdown",
   "metadata": {},
   "source": [
    "###### '__ dict__', '__ module__', '__ weakref__', __ name__, __ qualname__, & __ class__\n",
    "\n",
    "**In Function isinstance, Class object, and Class Book**, on page 278, **we encountered these three special class attributes:**\n",
    "\n",
    "{'__ module__', '__ weakref__', '__ dict__'}\n",
    "\n",
    "'>>> set(dir(Book)) - set(dir(object))\n",
    "\n",
    "{'__ module__', '__ weakref__', '__ dict__'}\n",
    "\n",
    "**Every class that you have defined contains these three attributes, plus several more.** The **__ dict__ attribute refers to a dictionary.** This dictionary is used **to keep track of the instance variables and their values!** Here it is for our running python_book example:\n",
    "\n",
    "'>>> python_book.__ dict__ \t\n",
    "{'publisher': 'Pragmatic Bookshelf', 'ISBN': '978-1-6805026-8-8', 'title': 'Practical Programming', 'price': 25.0,\n",
    "'authors': ['Campbell', 'Gries', 'Montojo']}\n",
    "\n",
    "Whenever you assign to an instance variable, it changes the contents of the object’s dictionary. You can even change it yourself directly, although we don’t recommend it.\n",
    "\n",
    "Here are brief descriptions of some of the **other special attributes of classes:**\n",
    "\n",
    "Variable **__ module__** refers to the **module object in which the class of the object was defined**.\n",
    "\n",
    "Variable **__ weakref__** is used by Python **to manage when the memory for an object can be reused**.\n",
    "\n",
    "Variables **__ name__** and **__ qualname__** refer to strings containing the **simple and fully qualified names of classes, respectively**; their values are usually identical, except when a class is defined inside another class, in which case the fully qualified name contains both the outer class name and the inner class name.\n",
    "\n",
    "Variable **__ class__** refers to **an object’s class object**.\n",
    "\n",
    "There are several more special attributes, and they are all used by Python to properly manage information about a program as it executes."
   ]
  },
  {
   "cell_type": "code",
   "execution_count": 1,
   "metadata": {},
   "outputs": [
    {
     "name": "stdout",
     "output_type": "stream",
     "text": [
      "Title: Practical Programming\n",
      "Authors: Campbell, Gries, Montojo\n",
      "Publisher: Pragmatic Bookshelf\n",
      "ISBN: 978-1-6805026-8-8\n",
      "Price:  $25.0\n",
      "_______________________________________________________________________________\n",
      "{'title': 'Practical Programming', 'authors': ['Campbell', 'Gries', 'Montojo'], 'publisher': 'Pragmatic Bookshelf', 'ISBN': '978-1-6805026-8-8', 'price': 25.0}\n",
      "_______________________________________________________________________________\n",
      "book2\n",
      "_______________________________________________________________________________\n",
      "None\n",
      "_______________________________________________________________________________\n",
      "<class 'book2.Book'>\n"
     ]
    }
   ],
   "source": [
    "# Demo: use of python_book.__dict__ attribute, p. 289\n",
    "\n",
    "import os\n",
    "os.chdir(\"D:/Python/Class/Data\")\n",
    "\n",
    "import book2\n",
    "python_book = book2.Book(\n",
    "        'Practical Programming',\n",
    "        ['Campbell', 'Gries', 'Montojo'],\n",
    "        'Pragmatic Bookshelf',\n",
    "        '978-1-6805026-8-8',\n",
    "        25.0)\n",
    "print(python_book)\n",
    "print('_'*79)\n",
    "print(python_book.__dict__)    # __dict__: instance variables and their values\n",
    "print('_'*79)\n",
    "print(python_book.__module__)  # __module__: the module defining the class \n",
    "print('_'*79)\n",
    "print(python_book.__weakref__) # __weakref__: an object can be reused\n",
    "print('_'*79)\n",
    "print(python_book.__class__)   # __class__: an object’s class object"
   ]
  },
  {
   "cell_type": "code",
   "execution_count": 13,
   "metadata": {},
   "outputs": [],
   "source": [
    "import book2\n",
    "# print(help(book2.Book.__weakref__))"
   ]
  },
  {
   "cell_type": "markdown",
   "metadata": {},
   "source": [
    "### Polymorphism, p. 289\n",
    "1. **Polymorphism** means **“many shapes.”** \n",
    "2. **One method can be applied to different types if those classes have that method.**\n",
    "3. The **second** fundamental feature of object-oriented programming is **polymorphism**.\n",
    "4. In programming, it means that **an expression involving a variable can do different things depending on the type of the object to which the variable refers**. \n",
    "4. Example 1, \n",
    "    1. if **obj** refers to a **string**, then **obj[1:3]** produces a two-character **string**. \n",
    "    2. If **obj** refers to a **list**, on the other hand, **the same expression produces a two-element list**. \n",
    "5. Example 2, \n",
    "    + Similarly, the expression **left + right** can produce **a number, a string, or a list, depending on the types of left and right**."
   ]
  },
  {
   "cell_type": "code",
   "execution_count": 25,
   "metadata": {},
   "outputs": [
    {
     "name": "stdout",
     "output_type": "stream",
     "text": [
      "d\n",
      "dog\n"
     ]
    }
   ],
   "source": [
    "# Polymorphism: means “having more than one form.”\n",
    "# Polymorphism: an expression involving a variable can do different things \n",
    "#             depending on the type of the object to which the variable refers.\n",
    "\n",
    "# Same variables referring to different object type can do different things:\n",
    "# Example 1.\n",
    "x = \"dog\"      # x refers to str type\n",
    "print(x[0])\n",
    "x = [\"dog\"]    # x refers to list type\n",
    "print(x[0])"
   ]
  },
  {
   "cell_type": "code",
   "execution_count": 20,
   "metadata": {},
   "outputs": [
    {
     "name": "stdout",
     "output_type": "stream",
     "text": [
      "6\n",
      "15\n",
      "[1, 5]\n"
     ]
    }
   ],
   "source": [
    "# Polymorphism: means “having more than one form.”\n",
    "# Polymorphism: an expression involving a variable can do different things \n",
    "#             depending on the type of the object to which the variable refers.\n",
    "\n",
    "# Same variables referring to different object type can do different things:\n",
    "# Example 2.\n",
    "x = 1          # variables x and y refer to numeric type\n",
    "y = 5\n",
    "print(x + y)\n",
    "x = '1'        # variables x and y refer to str type\n",
    "y = '5'\n",
    "print(x + y)\n",
    "x = [1]        # variables x and y refer to list type\n",
    "y = [5]\n",
    "print(x + y)"
   ]
  },
  {
   "cell_type": "code",
   "execution_count": 32,
   "metadata": {},
   "outputs": [],
   "source": [
    "# Polymorphism.py\n",
    "# Gries, et al. (2017), p. 290\n",
    "# Polymorphism is used to cut down on the amount of code.\n",
    "# It lets us write a generic function to count nonblank lines:\n",
    "\n",
    "# Then we can apply it to a list of strings, a file, or a web page. \n",
    "# Each of those three types knows how to be the subject of a loop.\n",
    "# We can apply one function to all those types directly.\n",
    "\n",
    "def non_blank_lines(thing):\n",
    "    \"\"\"Return the number of nonblank lines in thing.\"\"\"\n",
    "\n",
    "    count = 0\n",
    "    for line in thing:\n",
    "    # Next line: strip the blank linex to be an empty string which gets False\n",
    "        if line.strip(): \n",
    "            count += 1\n",
    "    return count"
   ]
  },
  {
   "cell_type": "code",
   "execution_count": 46,
   "metadata": {},
   "outputs": [],
   "source": [
    "# Polymorphism.py\n",
    "# Gries, et al. (2017), p. 290\n",
    "# Polymorphism is used to cut down on the amount of code.\n",
    "# It lets us write a generic function to count nonblank lines:\n",
    "\n",
    "# Then we can apply it to a list of strings, a file, or a web page. \n",
    "# Each of those three types knows how to be the subject of a loop.\n",
    "# We can apply one function to all those types directly.\n",
    "\n",
    "# In next two cells, we apply the non_blank_lines() function to \n",
    "# 1. a text file\n",
    "# 2. a webpage\n",
    "\n",
    "def non_blank_lines(thing):\n",
    "    \"\"\"Return the number of nonblank lines in thing.\"\"\"\n",
    "\n",
    "    count = 0\n",
    "    for line in thing:\n",
    "        if line.strip(): \n",
    "            count += 1\n",
    "    return count"
   ]
  },
  {
   "cell_type": "code",
   "execution_count": 34,
   "metadata": {},
   "outputs": [
    {
     "data": {
      "text/plain": [
       "149"
      ]
     },
     "execution_count": 34,
     "metadata": {},
     "output_type": "execute_result"
    }
   ],
   "source": [
    "# Example 1. applying self-defined non_blank_lines() function to text file\n",
    "\n",
    "with open('D:/Python/Class/Data/hopedale.txt', 'r') as input_file: \n",
    "    input = input_file.read()\n",
    "\n",
    "non_blank_lines(input)"
   ]
  },
  {
   "cell_type": "code",
   "execution_count": 48,
   "metadata": {},
   "outputs": [
    {
     "name": "stdout",
     "output_type": "stream",
     "text": [
      "95\n"
     ]
    }
   ],
   "source": [
    "# Example 2. applying self-defined non_blank_lines() function to internet file\n",
    "\n",
    "import urllib.request\n",
    "url = 'https://robjhyndman.com/tsdldata/ecology1/hopedale.dat'\n",
    "\n",
    "# See next cell for webpage reading and printing\n",
    "with urllib.request.urlopen(url) as webpage:\n",
    "    count = non_blank_lines(webpage)\n",
    "print(count)"
   ]
  },
  {
   "cell_type": "code",
   "execution_count": 49,
   "metadata": {},
   "outputs": [
    {
     "name": "stdout",
     "output_type": "stream",
     "text": [
      "Coloured fox fur production, HOPEDALE, Labrador,, 1834-1925\n",
      "#Source: C. Elton (1942) \"Voles, Mice and Lemmings\", Oxford Univ. Press\n",
      "#Table 17, p.265--266\n",
      "22\n",
      "29\n",
      "2\n",
      "16\n",
      "12\n",
      "35\n",
      "8\n",
      "83\n",
      "166\n",
      "62\n",
      "77\n",
      "42\n",
      "54\n",
      "56\n",
      "5\n",
      "9\n",
      "78\n",
      "151\n",
      "27\n",
      "14\n",
      "71\n",
      "261\n",
      "22\n",
      "3\n",
      "16\n",
      "70\n",
      "7\n",
      "2\n",
      "26\n",
      "27\n",
      "35\n",
      "9\n",
      "11\n",
      "73\n",
      "39\n",
      "22\n",
      "41\n",
      "31\n",
      "60\n",
      "7\n",
      "28\n",
      "43\n",
      "17\n",
      "26\n",
      "35\n",
      "60\n",
      "75\n",
      "18\n",
      "58\n",
      "38\n",
      "28\n",
      "26\n",
      "29\n",
      "43\n",
      "16\n",
      "40\n",
      "25\n",
      "28\n",
      "12\n",
      "22\n",
      "13\n",
      "52\n",
      "90\n",
      "103\n",
      "15\n",
      "26\n",
      "29\n",
      "102\n",
      "31\n",
      "9\n",
      "33\n",
      "90\n",
      "95\n",
      "17\n",
      "35\n",
      "59\n",
      "115\n",
      "12\n",
      "26\n",
      "38\n",
      "202\n",
      "25\n",
      "83\n",
      "92\n",
      "58\n",
      "0\n",
      "19\n",
      "63\n",
      "108\n",
      "25\n",
      "38\n",
      "231\n"
     ]
    }
   ],
   "source": [
    "# p. 184\n",
    "import urllib.request\n",
    "url = 'https://robjhyndman.com/tsdldata/ecology1/hopedale.dat'\n",
    "with urllib.request.urlopen(url) as webpage:\n",
    "    for line in webpage: \n",
    "        line = line.strip()\n",
    "        line =  line.decode('utf-8')\n",
    "        print(line)"
   ]
  },
  {
   "cell_type": "markdown",
   "metadata": {},
   "source": [
    "### Inheritance, p. 290\n",
    "0. **New classes can be defined by inheriting features from existing ones.\n",
    "The new class can override the features of its parent and/or add new features.**\n",
    "1. The **third** fundamental feature of object-oriented programming is **inheritance**, which allows you to recycle code.\n",
    "2. **Whenever you create a class, you are using inheritance: your new class automatically inherits all of the attributes of class object**.\n",
    "3. You can also declare that your new class is a subclass of some other class."
   ]
  },
  {
   "cell_type": "raw",
   "metadata": {},
   "source": [
    "Suppose we’re managing people at a university. There are students and faculty.\n",
    "\n",
    "Students & Faculty: names, postal addresses, and email addresses.\n",
    "\n",
    "Students: Each student has a student number, a list of courses taken, and a list of courses he or she is currently taking.\n",
    "\n",
    "Faculty: Each faculty member has a faculty number and a list of courses he or she is currently teaching. "
   ]
  },
  {
   "cell_type": "markdown",
   "metadata": {},
   "source": [
    "We’ll have **a Faculty class and a Student class**.\n",
    "\n",
    "We need **both** of them to **have names, addresses, and email addresses**, but **duplicate code is** generally a **bad** thing; so we’ll **avoid it by** also **defining a class**, perhaps **called Member**, and keeping track of those features in Member. Then we’ll **make both Faculty and Student subclasses of Member:**\n",
    "\n",
    "**Class Member**\n",
    "+ **subclass Faculty**\n",
    "+ **subclass Student**"
   ]
  },
  {
   "cell_type": "markdown",
   "metadata": {},
   "source": [
    "######  Both the Faculty and Student objects have inherited the features defined in class Member"
   ]
  },
  {
   "cell_type": "code",
   "execution_count": 37,
   "metadata": {},
   "outputs": [],
   "source": [
    "# inheritance.py\n",
    "# p. 291\n",
    "\n",
    "class Member:\n",
    "    \"\"\" A member of a university. \"\"\"\n",
    "\n",
    "    def __init__(self, name: str, address: str, email: str) -> None:\n",
    "        \"\"\"Create a new member named name, with home address and email address. \n",
    "        \"\"\"\n",
    "\n",
    "        self.name = name \n",
    "        self.address = address \n",
    "        self.email  =  email\n",
    "\n",
    "class Faculty(Member):    # Faculty class is inherited from Member class.\n",
    "    \"\"\" A faculty member at a university. \"\"\"\n",
    "\n",
    "    def __init__(self, name: str, address: str, email: str, \n",
    "                 faculty_num: str) -> None:\n",
    "        \"\"\"Create a new faculty named name, with home address, email address, \n",
    "        faculty number faculty_num, and empty list of courses.\n",
    "        \"\"\"\n",
    "\n",
    "        super().__init__(name, address, email) \n",
    "        self.faculty_number = faculty_num \n",
    "        self.courses_teaching = []\n",
    "\n",
    "class Student(Member):\n",
    "    \"\"\" A student member at a university. \"\"\"\n",
    "\n",
    "    def __init__(self, name: str, address: str, email: str, \n",
    "                 student_num: str) -> None:\n",
    "        \"\"\"Create a new student named name, with home address, email address, \n",
    "        student number student_num, an empty list of courses taken, and an \n",
    "        empty list of current courses.\n",
    "        \"\"\"\n",
    "\n",
    "        super().__init__(name, address, email) \n",
    "        self.student_number = student_num \n",
    "        self.courses_taken = [] \n",
    "        self.courses_taking = []"
   ]
  },
  {
   "cell_type": "raw",
   "metadata": {},
   "source": [
    "Both class headers—class Faculty(Member): and class Student(Member):—tell Python that Faculty and Student are subclasses of class Member. That means that they inherit all of the attributes of class Member."
   ]
  },
  {
   "cell_type": "raw",
   "metadata": {},
   "source": [
    "The first line of both Faculty.__init__ and Student.__init__ call function super, which produces a reference to the superclass part of the object, Member. That means that both of those first lines call method __init__, which was inherited from class Member. Notice that we just pass the relevant parameters in as arguments to this call, just as we would with any method call."
   ]
  },
  {
   "cell_type": "code",
   "execution_count": 21,
   "metadata": {},
   "outputs": [
    {
     "name": "stdout",
     "output_type": "stream",
     "text": [
      "Paul Gries\n",
      "pgries@cs.toronto.edu\n",
      "1234\n",
      "\n",
      "Jen Campbell\n",
      "campbell@cs.toronto.edu\n",
      "4321\n"
     ]
    }
   ],
   "source": [
    "# Calling inheritance.py module: Method 1, p. 292\n",
    "\n",
    "# The program creates both faculty and students.\n",
    "# Both the Faculty and Student objects have inherited the features defined in \n",
    "# class Member.\n",
    "\n",
    "import os\n",
    "os.chdir(\"D:/Python/Class/Data\")\n",
    "\n",
    "import inheritance\n",
    "# from inheritance import Faculty, Student\n",
    "\n",
    "paul = inheritance.Faculty('Paul Gries', 'Ajax', 'pgries@cs.toronto.edu', '1234')\n",
    "print(paul.name)            # Paul Gries\n",
    "print(paul.email)           # pgries@cs.toronto.edu\n",
    "print(paul.faculty_number)  # 1234\n",
    "print() \n",
    "\n",
    "jen = inheritance.Student('Jen Campbell', 'Toronto', 'campbell@cs.toronto.edu', '4321')\n",
    "print(jen.name)             # Jen Campbell\n",
    "print(jen.email)            # campbell@cs.toronto.edu\n",
    "print(jen.student_number)   # 4321"
   ]
  },
  {
   "cell_type": "code",
   "execution_count": 30,
   "metadata": {},
   "outputs": [
    {
     "name": "stdout",
     "output_type": "stream",
     "text": [
      "Paul Gries\n",
      "pgries@cs.toronto.edu\n",
      "1234\n",
      "\n",
      "Jen Campbell\n",
      "campbell@cs.toronto.edu\n",
      "4321\n"
     ]
    }
   ],
   "source": [
    "# Calling inheritance.py module: Method 2, p. 292\n",
    "\n",
    "# The program creates both faculty and students.\n",
    "# Both the Faculty and Student objects have inherited the features defined in \n",
    "# class Member.\n",
    "\n",
    "import os\n",
    "os.chdir(\"D:/Python/Class/Data\")\n",
    "\n",
    "from inheritance import Faculty, Student\n",
    "\n",
    "paul = Faculty('Paul Gries', 'Ajax', 'pgries@cs.toronto.edu', '1234')\n",
    "print(paul.name)            # Paul Gries\n",
    "print(paul.email)           # pgries@cs.toronto.edu\n",
    "print(paul.faculty_number)  # 1234\n",
    "print()\n",
    "\n",
    "jen = Student('Jen Campbell', 'Toronto', 'campbell@cs.toronto.edu', '4321')\n",
    "print(jen.name)             # Jen Campbell\n",
    "print(jen.email)            # campbell@cs.toronto.edu\n",
    "print(jen.student_number)   # 4321"
   ]
  },
  {
   "cell_type": "markdown",
   "metadata": {},
   "source": [
    "### 1. Unimproved version: without member_string = super().__str__() in the subclass Faculty"
   ]
  },
  {
   "cell_type": "markdown",
   "metadata": {},
   "source": [
    "###### Extending the behavior inherited from a superclass, p. 292\n",
    "+ For example, **we might write a __ str__ method inside class Member.**\n",
    "+ **With this method added to class Member, both Faculty and Student inherit it**"
   ]
  },
  {
   "cell_type": "code",
   "execution_count": 4,
   "metadata": {},
   "outputs": [],
   "source": [
    "# inheritance1.py\n",
    "# Extension of the beheavior inherited from a supper class.\n",
    "# p. 292\n",
    "# Adding __str__ method to the class Member.\n",
    "\n",
    "# With this method added to class Member, both Faculty and Student inherit it.\n",
    "class Member:\n",
    "    \"\"\" A member of a university. \"\"\"\n",
    "\n",
    "    def __init__(self, name: str, address: str, email: str) -> None:\n",
    "        \"\"\"Create a new member named name, with home address and email address. \n",
    "        \"\"\"\n",
    "\n",
    "        self.name = name \n",
    "        self.address = address \n",
    "        self.email  =  email\n",
    "    \n",
    "    # Extension part\n",
    "    def __str__(self) -> str:\n",
    "        \"\"\"Return a string representation of this Member.\n",
    "\n",
    "        >>> member = Member('Paul', 'Ajax', 'pgries@cs.toronto.edu')\n",
    "        >>> member.__str__() \n",
    "        'Paul\\\\nAjax\\\\npgries@cs.toronto.edu' \n",
    "        \"\"\"\n",
    "\n",
    "        return (f'{self.name}\\n{self.address}\\n{self.email}')\n",
    "\n",
    "class Faculty(Member):\n",
    "    \"\"\" A faculty member at a university. \"\"\"\n",
    "\n",
    "    def __init__(self, name: str, address: str, email: str, \n",
    "                 faculty_num: str) -> None:\n",
    "        \"\"\"Create a new faculty named name, with home address, email address, \n",
    "        faculty number faculty_num, and empty list of courses.\n",
    "        \"\"\"\n",
    "\n",
    "        super().__init__(name, address, email) \n",
    "        self.faculty_number = faculty_num \n",
    "        self.courses_teaching = []\n",
    "\n",
    "class Student(Member):\n",
    "    \"\"\" A student member at a university. \"\"\"\n",
    "\n",
    "    def __init__(self, name: str, address: str, email: str, \n",
    "                 student_num: str) -> None:\n",
    "        \"\"\"Create a new student named name, with home address, email address, \n",
    "        student number student_num, an empty list of courses taken, and an \n",
    "        empty list of current courses.\n",
    "        \"\"\"\n",
    "\n",
    "        super().__init__(name, address, email) \n",
    "        self.student_number = student_num \n",
    "        self.courses_taken = [] \n",
    "        self.courses_taking = []"
   ]
  },
  {
   "cell_type": "code",
   "execution_count": 6,
   "metadata": {},
   "outputs": [
    {
     "name": "stdout",
     "output_type": "stream",
     "text": [
      "Paul\n",
      "Ajax\n",
      "pgries@cs.toronto.edu\n",
      "\n",
      "Paul\n",
      "Ajax\n",
      "pgries@cs.toronto.edu\n",
      "\n",
      "4321\n"
     ]
    }
   ],
   "source": [
    "# The above code snippet does not do enough since it cannot print out \n",
    "# the faculty_number. We will impover it later. \n",
    "paul = Faculty('Paul', 'Ajax', 'pgries@cs.toronto.edu', '4321')\n",
    "print(str(paul))\n",
    "print()\n",
    "print(paul)\n",
    "print()\n",
    "print(paul.faculty_number)"
   ]
  },
  {
   "cell_type": "markdown",
   "metadata": {},
   "source": [
    "###### With the above __ str__ method added to class Member, both Faculty and Student inherit the __ str__ method of superclass Member"
   ]
  },
  {
   "cell_type": "code",
   "execution_count": 13,
   "metadata": {},
   "outputs": [
    {
     "name": "stdout",
     "output_type": "stream",
     "text": [
      "Paul\n",
      "Ajax\n",
      "pgries@cs.toronto.edu\n"
     ]
    },
    {
     "data": {
      "text/plain": [
       "'Paul\\nAjax\\npgries@cs.toronto.edu'"
      ]
     },
     "execution_count": 13,
     "metadata": {},
     "output_type": "execute_result"
    }
   ],
   "source": [
    "# Calling inheritance1.py module: Method 1, p. 292\n",
    "\n",
    "import os\n",
    "os.chdir(\"D:/Python/Class/Data\")\n",
    "\n",
    "import inheritance1\n",
    "# from inheritance1 import Faculty, Student\n",
    "\n",
    "paul = inheritance1.Faculty('Paul', 'Ajax', 'pgries@cs.toronto.edu', '1234')\n",
    "print(str(paul))\n",
    "str(paul)         # 'Paul\\nAjax\\npgries@cs.toronto.edu'"
   ]
  },
  {
   "cell_type": "code",
   "execution_count": 14,
   "metadata": {},
   "outputs": [
    {
     "name": "stdout",
     "output_type": "stream",
     "text": [
      "Paul\n",
      "Ajax\n",
      "pgries@cs.toronto.edu\n"
     ]
    }
   ],
   "source": [
    "print(paul)   # Paul \n",
    "              # Ajax\n",
    "              # pgries@cs.toronto.edu"
   ]
  },
  {
   "cell_type": "code",
   "execution_count": 1,
   "metadata": {},
   "outputs": [
    {
     "name": "stdout",
     "output_type": "stream",
     "text": [
      "Paul\n",
      "Ajax\n",
      "pgries@cs.toronto.edu\n"
     ]
    },
    {
     "data": {
      "text/plain": [
       "'Paul\\nAjax\\npgries@cs.toronto.edu'"
      ]
     },
     "execution_count": 1,
     "metadata": {},
     "output_type": "execute_result"
    }
   ],
   "source": [
    "# Calling inheritance1.py module: Method 2, p. 292\n",
    "\n",
    "import os\n",
    "os.chdir(\"D:/Python/Class/Data\")\n",
    "\n",
    "# import inheritance1\n",
    "from inheritance1 import Faculty, Student\n",
    "\n",
    "paul = Faculty('Paul', 'Ajax', 'pgries@cs.toronto.edu', '1234')\n",
    "print(str(paul))\n",
    "str(paul)         # 'Paul\\nAjax\\npgries@cs.toronto.edu'"
   ]
  },
  {
   "cell_type": "code",
   "execution_count": 17,
   "metadata": {},
   "outputs": [
    {
     "name": "stdout",
     "output_type": "stream",
     "text": [
      "Paul\n",
      "Ajax\n",
      "pgries@cs.toronto.edu\n"
     ]
    }
   ],
   "source": [
    "print(paul)  # Paul \n",
    "             # Ajax\n",
    "             # pgries@cs.toronto.edu"
   ]
  },
  {
   "cell_type": "markdown",
   "metadata": {},
   "source": [
    "###### Adding __str__ method to both subclasses Faculty and Student to inherit attributes from superclass Member's __str__ method, p. 292\n",
    "+ For class Faculty, we want to extend what the Member’s __str__ does, adding the faculty number and the list of courses the faculty member is teaching, and a Student string should include the equivalent student-specific information.\n",
    "+ We’ll use super again to access the inherited Member.__str__ method and to append the Faculty-specific information:"
   ]
  },
  {
   "cell_type": "raw",
   "metadata": {},
   "source": [
    "    # Extension part\n",
    "    def __str__(self) -> str:\n",
    "        \"\"\"Return a string representation of this Member.\n",
    "\n",
    "        >>> member = Member('Paul', 'Ajax', 'pgries@cs.toronto.edu')\n",
    "        >>> member.__str__() \n",
    "        'Paul\\\\nAjax\\\\npgries@cs.toronto.edu' \n",
    "        \"\"\"\n",
    "\n",
    "        return (f'{self.name}\\n{self.address}\\n{self.email}')\n",
    "        \n",
    "Output:\n",
    "print(paul)   # Paul \n",
    "              # Ajax\n",
    "              # pgries@cs.toronto.edu"
   ]
  },
  {
   "cell_type": "markdown",
   "metadata": {},
   "source": [
    "### 2. Improved version: with member_string = super().__str__() in the subclass Faculty"
   ]
  },
  {
   "cell_type": "raw",
   "metadata": {},
   "source": [
    "# In inheritance2.py module, we add this __str__ method to subclass Faculty to \n",
    "# inherit attrbutes from superclass Member's __str__ method: \n",
    "# (We also can add it to subclass Student)\n",
    "# p. 293\n",
    "\n",
    "    def __str__(self) -> str:\n",
    "        \"\"\"Return a string representation of this Faculty.\n",
    "    \n",
    "        faculty = Faculty('Paul', 'Ajax', 'pgries@cs.toronto.edu', '1234')\n",
    "        faculty.__str__() \n",
    "        'Paul\\\\nAjax\\\\npgries@cs.toronto.edu\\\\n1234\\\\nCourses: ' \n",
    "        \"\"\"\n",
    "    \n",
    "        member_string = super().__str__()\n",
    "    \n",
    "        return '''{member_string}\\n{self.faculty_number}\\nCourses: {' '.join(self.courses_teaching)}'''"
   ]
  },
  {
   "cell_type": "code",
   "execution_count": 2,
   "metadata": {},
   "outputs": [],
   "source": [
    "# inheritance2.py\n",
    "# Note that this inheritance2.py adds the __str__ method to subclass Faculty \n",
    "\n",
    "# inheritance2.py\n",
    "# p. 293\n",
    "# In inheritance2.py module, we add this __str__ method to subclass Faculty to \n",
    "# inherit attrbutes from superclass Member's __str__ method: \n",
    "# (We also can add it to subclass Student)\n",
    "\n",
    "# With the __str__ method added to class Member, both Faculty and Student will\n",
    "# inherit it.\n",
    "class Member:\n",
    "    \"\"\" A member of a university. \"\"\"\n",
    "\n",
    "    def __init__(self, name: str, address: str, email: str) -> None:\n",
    "        \"\"\"Create a new member named name, with home address and email address. \n",
    "        \"\"\"\n",
    "\n",
    "        self.name = name \n",
    "        self.address = address \n",
    "        self.email  =  email\n",
    "    \n",
    "    # Extension part\n",
    "    def __str__(self) -> str:\n",
    "        \"\"\"Return a string representation of this Member.\n",
    "\n",
    "        >>> member = Member('Paul', 'Ajax', 'pgries@cs.toronto.edu')\n",
    "        >>> member.__str__() \n",
    "        'Paul\\\\nAjax\\\\npgries@cs.toronto.edu' \n",
    "        \"\"\"\n",
    "\n",
    "        return f'{self.name}\\n{self.address,}\\n{self.email}'\n",
    "    \n",
    "class Faculty(Member):\n",
    "    \"\"\" A faculty member at a university. \"\"\"\n",
    "\n",
    "    def __init__(self, name: str, address: str, email: str, \n",
    "                 faculty_num: str) -> None:\n",
    "        \"\"\"Create a new faculty named name, with home address, email address, \n",
    "        faculty number faculty_num, and empty list of courses.\n",
    "        \"\"\"\n",
    "\n",
    "        super().__init__(name, address, email) \n",
    "        self.faculty_number = faculty_num \n",
    "        self.courses_teaching = []\n",
    "        \n",
    "    def __str__(self) -> str:\n",
    "        \"\"\"Return a string representation of this Faculty.\n",
    "    \n",
    "        faculty = Faculty('Paul', 'Ajax', 'pgries@cs.toronto.edu', '1234')\n",
    "        faculty.__str__() \n",
    "        'Paul\\\\nAjax\\\\npgries@cs.toronto.edu\\\\n1234\\\\nCourses: ' \n",
    "        \"\"\"\n",
    "    \n",
    "        member_string = super().__str__()\n",
    "    \n",
    "        return f'''{member_string}\\n{self.faculty_number}\\n\\\n",
    "Courses: {' '.join(self.courses_teaching)}'''\n",
    "\n",
    "class Student(Member):\n",
    "    \"\"\" A student member at a university. \"\"\"\n",
    "\n",
    "    def __init__(self, name: str, address: str, email: str, \n",
    "                 student_num: str) -> None:\n",
    "        \"\"\"Create a new student named name, with home address, email address, \n",
    "        student number student_num, an empty list of courses taken, and an \n",
    "        empty list of current courses.\n",
    "        \"\"\"\n",
    "\n",
    "        super().__init__(name, address, email) \n",
    "        self.student_number = student_num \n",
    "        self.courses_taken = [] \n",
    "        self.courses_taking = []\n",
    "\n",
    "    def __str__(self) -> str:\n",
    "        \"\"\"Return a string representation of this Student.\n",
    "    \n",
    "        Student = Student('Chingfu', 'Chang', 'cfchang3@gmail.com', '5678')\n",
    "        Student.__str__() \n",
    "        'Chingfu\\\\nChang\\\\ncfchang3@gmail.com\\\\n5678\\\\nCourses: ' \n",
    "        \"\"\"\n",
    "    \n",
    "        student_string = super().__str__()\n",
    "    \n",
    "        return f'''{student_string}\\n{self.student_number}\\n\\\n",
    "Courses: {' '.join(self.courses_taking)}'''"
   ]
  },
  {
   "cell_type": "code",
   "execution_count": 3,
   "metadata": {},
   "outputs": [
    {
     "name": "stdout",
     "output_type": "stream",
     "text": [
      "Paul\n",
      "('Ajax',)\n",
      "pgries@cs.toronto.edu\n",
      "1234\n",
      "Courses: \n"
     ]
    },
    {
     "data": {
      "text/plain": [
       "\"Paul\\n('Ajax',)\\npgries@cs.toronto.edu\\n1234\\nCourses: \""
      ]
     },
     "execution_count": 3,
     "metadata": {},
     "output_type": "execute_result"
    }
   ],
   "source": [
    "paul = Faculty('Paul', 'Ajax', 'pgries@cs.toronto.edu', '1234')\n",
    "print(str(paul))\n",
    "str(paul) "
   ]
  },
  {
   "cell_type": "code",
   "execution_count": 5,
   "metadata": {},
   "outputs": [
    {
     "name": "stdout",
     "output_type": "stream",
     "text": [
      "Chingfu\n",
      "('Shindian',)\n",
      "cfchang3@gmail.com\n",
      "5678\n",
      "Courses: \n"
     ]
    },
    {
     "data": {
      "text/plain": [
       "\"Chingfu\\n('Shindian',)\\ncfchang3@gmail.com\\n5678\\nCourses: \""
      ]
     },
     "execution_count": 5,
     "metadata": {},
     "output_type": "execute_result"
    }
   ],
   "source": [
    "student = Student('Chingfu', 'Shindian', 'cfchang3@gmail.com', '5678')\n",
    "print(student.__str__())\n",
    "student.__str__()"
   ]
  },
  {
   "cell_type": "code",
   "execution_count": null,
   "metadata": {},
   "outputs": [],
   "source": []
  },
  {
   "cell_type": "code",
   "execution_count": 28,
   "metadata": {},
   "outputs": [],
   "source": [
    "class Member:\n",
    "    def __init__(self, name, address, email): \n",
    "        self.name = name\n",
    "        self.address = address\n",
    "        self.email = email\n",
    "        \n",
    "    def __str__(self) -> str:\n",
    "        # return f'{self.name}\\n{self.address,}\\n{self.email}' \n",
    "        return f'{self.name}\\n{self.address}\\n{self.email}' \n",
    "        \n",
    "class Student(Member):\n",
    "    def __init__(self, name, address, email, student_num): \n",
    "        super().__init__(name, address, email)\n",
    "        self.student_number = student_num\n",
    "        self.courses_taken = []\n",
    "        self.courses_taking = []\n",
    "    def __str__(self):\n",
    "        \"\"\" (Member) -> str\n",
    "        >>> student = Student('Paul', 'Ajax', 'pgries@cs.toronto.edu', '1234')\n",
    "        >>> student.__str__()\n",
    "        'Paul\\\\nAjax\\\\npgries@cs.toronto.edu\\\\n1234\\\\nPrevious courses:\\\\nCurrent courses: '\n",
    "        \"\"\"\n",
    "        member_string = super().__str__()\n",
    "        return '''{}\\n{}\\nPrevious courses: {}\\nCurrent courses:{}'''.format( \n",
    "            member_string, \n",
    "            self.student_number,\n",
    "            ' '.join(self.courses_taken),\n",
    "            ' '.join(self.courses_taking))"
   ]
  },
  {
   "cell_type": "code",
   "execution_count": 29,
   "metadata": {},
   "outputs": [
    {
     "name": "stdout",
     "output_type": "stream",
     "text": [
      "Paul\n",
      "Ajax\n",
      "pgries@cs.toronto.edu\n",
      "1234\n",
      "Previous courses: \n",
      "Current courses:\n"
     ]
    }
   ],
   "source": [
    "student = Student('Paul', 'Ajax', 'pgries@cs.toronto.edu','1234')\n",
    "print(student)"
   ]
  },
  {
   "cell_type": "code",
   "execution_count": null,
   "metadata": {},
   "outputs": [],
   "source": []
  },
  {
   "cell_type": "code",
   "execution_count": 21,
   "metadata": {},
   "outputs": [],
   "source": [
    "class Member:\n",
    "    \"\"\" A member of a university. \"\"\"\n",
    "\n",
    "    def __init__(self, name: str, address: str, email: str) -> None:\n",
    "        \"\"\"Create a new member named name, with home address and email address. \n",
    "        \"\"\"\n",
    "\n",
    "        self.name = name \n",
    "        self.address = address \n",
    "        self.email  =  email\n",
    "    \n",
    "    # Extension part\n",
    "    def __str__(self) -> str:\n",
    "        \"\"\"Return a string representation of this Member.\n",
    "\n",
    "        >>> member = Member('Paul', 'Ajax', 'pgries@cs.toronto.edu')\n",
    "        >>> member.__str__() \n",
    "        'Paul\\\\nAjax\\\\npgries@cs.toronto.edu' \n",
    "        \"\"\"\n",
    "\n",
    "        return f'{self.name}\\n{self.address}\\n{self.email}' \n",
    "    \n",
    "class Faculty(Member):\n",
    "    \"\"\" A faculty member at a university. \"\"\"\n",
    "\n",
    "    def __init__(self, name: str, address: str, email: str, \n",
    "                 faculty_num: str) -> None:\n",
    "        \"\"\"Create a new faculty named name, with home address, email address, \n",
    "        faculty number faculty_num, and empty list of courses.\n",
    "        \"\"\"\n",
    "\n",
    "        super().__init__(name, address, email) \n",
    "        self.faculty_number = faculty_num \n",
    "        self.courses_teaching = []"
   ]
  },
  {
   "cell_type": "code",
   "execution_count": 22,
   "metadata": {},
   "outputs": [
    {
     "name": "stdout",
     "output_type": "stream",
     "text": [
      "Paul\n",
      "Ajax\n",
      "pgries@cs.toronto.edu\n"
     ]
    }
   ],
   "source": [
    "faculty = Faculty('Paul', 'Ajax', 'pgries@cs.toronto.edu','1234')\n",
    "print(faculty)"
   ]
  },
  {
   "cell_type": "code",
   "execution_count": null,
   "metadata": {},
   "outputs": [],
   "source": []
  },
  {
   "cell_type": "code",
   "execution_count": 24,
   "metadata": {},
   "outputs": [
    {
     "name": "stdout",
     "output_type": "stream",
     "text": [
      "Paul\n",
      "Ajax\n",
      "pgries@cs.toronto.edu\n",
      "1234\n",
      "Courses: \n"
     ]
    },
    {
     "data": {
      "text/plain": [
       "'Paul\\nAjax\\npgries@cs.toronto.edu\\n1234\\nCourses: '"
      ]
     },
     "execution_count": 24,
     "metadata": {},
     "output_type": "execute_result"
    }
   ],
   "source": [
    "# Calling inheritance2.py module: Method 1\n",
    "# In this inheritance2.py module, we add this __str__ method to subclass Faculty\n",
    "# to inherit attrbutes from superclass Member's __str__ method: \n",
    "# (We also can add it to subclass Student)\n",
    "# p. 293\n",
    "\n",
    "import os\n",
    "os.chdir(\"D:/Python/Class/Data\")\n",
    "\n",
    "import inheritance2\n",
    "\n",
    "paul = inheritance2.Faculty('Paul', 'Ajax', 'pgries@cs.toronto.edu', '1234')\n",
    "print(str(paul))\n",
    "str(paul)     # Paul\\nAjax\\npgries@cs.toronto.edu\\n1234\\nCourses: '"
   ]
  },
  {
   "cell_type": "code",
   "execution_count": 27,
   "metadata": {},
   "outputs": [
    {
     "name": "stdout",
     "output_type": "stream",
     "text": [
      "Paul\n",
      "Ajax\n",
      "pgries@cs.toronto.edu\n",
      "1234\n",
      "Courses: \n"
     ]
    },
    {
     "data": {
      "text/plain": [
       "'Paul\\nAjax\\npgries@cs.toronto.edu\\n1234\\nCourses: '"
      ]
     },
     "execution_count": 27,
     "metadata": {},
     "output_type": "execute_result"
    }
   ],
   "source": [
    "# Calling inheritance2.py module: Method 2\n",
    "# In this inheritance2.py module, we add this __str__ method to subclass Faculty\n",
    "# to inherit attrbutes from superclass Member's __str__ method: \n",
    "# (We also can add it to subclass Student)\n",
    "# p. 293\n",
    "\n",
    "import os\n",
    "os.chdir(\"D:/Python/Class/Data\")\n",
    "\n",
    "# import inheritance2\n",
    "from inheritance2 import Faculty, Student\n",
    "\n",
    "paul = Faculty('Paul', 'Ajax', 'pgries@cs.toronto.edu', '1234')\n",
    "print(str(paul))\n",
    "str(paul)     # 'Paul\\nAjax\\npgries@cs.toronto.edu\\n1234\\nCourses: '"
   ]
  },
  {
   "cell_type": "code",
   "execution_count": 69,
   "metadata": {},
   "outputs": [
    {
     "name": "stdout",
     "output_type": "stream",
     "text": [
      "Chingfu\n",
      "Chang\n",
      "cfchang3@gmail.com\n",
      "5678\n",
      "Courses: \n"
     ]
    },
    {
     "data": {
      "text/plain": [
       "'Chingfu\\nChang\\ncfchang3@gmail.com\\n5678\\nCourses: '"
      ]
     },
     "execution_count": 69,
     "metadata": {},
     "output_type": "execute_result"
    }
   ],
   "source": [
    "# Calling inheritance2.py module: Method 2\n",
    "# In this inheritance2.py module, we add this __str__ method to subclass Student\n",
    "# to inherit attrbutes from superclass Member's __str__ method: \n",
    "# (We also can add it to subclass Faculty)\n",
    "# p. 293\n",
    "\n",
    "import os\n",
    "os.chdir(\"D:/Python/Class/Data\")\n",
    "\n",
    "# import inheritance2\n",
    "from inheritance2 import Faculty, Student\n",
    "\n",
    "Chingfu = Student('Chingfu', 'Chang', 'cfchang3@gmail.com', '5678')\n",
    "print(Chingfu) \n",
    "str(Chingfu)     # 'Chingfu\\nChang\\ncfchang3@gmail.com\\n5678\\nCourses: '"
   ]
  },
  {
   "cell_type": "markdown",
   "metadata": {},
   "source": [
    "## A Case Study: Molecules, Atoms, and PDB Files, p. 293"
   ]
  },
  {
   "cell_type": "raw",
   "metadata": {},
   "source": [
    "Most read PDB-formatted files, which we describe in Multiline Records, on page 195. Here is how ammonia can be specified in PDB format:\n",
    "\n",
    "COMPND     AMMONIA\n",
    "ATOM    1   N   0.257   -0.363   0.000\n",
    "ATOM    2   H   0.257    0.727   0.000\n",
    "ATOM    3   H   0.771   -0.727   0.890\n",
    "ATOM    4   H   0.771   -0.727  -0.890\n",
    "END\n",
    "\n",
    "In our simplified PDB format, a molecule is made up of numbered atoms. In addition to the number, an atom has a symbol and (x, y, z) coordinates. For example, one of the atoms in ammonia is nitrogen, with symbol N at coordi- nates (0.257, -0.363, 0.0). In the following sections, we will look at how we could **translate these ideas into object-oriented Python**."
   ]
  },
  {
   "cell_type": "markdown",
   "metadata": {},
   "source": [
    "### Class Atom, p. 294\n",
    "+ We might want **to create an atom like** this using information we read from the PDB file: **nitrogen = Atom(1, \"N\", 0.257, -0.363, 0.0)**\n",
    "\n",
    "+ To do this, we’ll **need a class called Atom with** a **constructor** that **creates all** the appropriate **instance variables:**"
   ]
  },
  {
   "cell_type": "code",
   "execution_count": 70,
   "metadata": {},
   "outputs": [],
   "source": [
    "# atom.py, p. 294\n",
    "class Atom:\n",
    "    \"\"\" An atom with a number, symbol, and coordinates. \"\"\"\n",
    "\n",
    "    def __init__(self, num: int, sym: str, x: float, y: float, \n",
    "             z: float) -> None:\n",
    "        \"\"\"Create an Atom with number num, string symbol sym, and float \n",
    "        coordinates  (x,  y,  z).\n",
    "        \"\"\"\n",
    "\n",
    "        self.number = num\n",
    "        self.symbol = sym\n",
    "        self.center = (x,  y,  z) \n",
    "    # To inspect an Atom, we’ll want to provide __repr__ and __str__ methods:\n",
    "\n",
    "    def __str__(self) -> str:\n",
    "        \"\"\"Return a string representation of this Atom in this format:\n",
    "             (SYMBOL, X, Y, Z)\n",
    "        \"\"\"\n",
    "        return f'({self.symbol}, {self.center[0]}, {self.center[1]},\\\n",
    " {self.center[2]})'\n",
    "\n",
    "\n",
    "    def __repr__(self) -> str:\n",
    "        \"\"\"Return a string representation of this Atom in this format:\n",
    "            Atom(NUMBER, \"SYMBOL\", X, Y, Z)\n",
    "        \"\"\"\n",
    "        \n",
    "        return f'Atom({self.number}, \"{self.symbol}\", {self.center[0]}\\\n",
    ", {self.center[1]}, {self.center[2]})'\n",
    "        \n",
    "        # return 'Atom({0}, \"{1}\", {2}, {3}, {4})'.format( \n",
    "        #     self.number, self.symbol, \n",
    "        #     self.center[0], self.center[1], self.center[2])\n",
    "    \n",
    "    # We’ll use those above later when we define a class for molecules.   \n",
    "    \n",
    "    # We add the following translate method to class Atom.\n",
    "    # In visualizers, the translate method can move an atom to a different \n",
    "    # location:\n",
    "    def translate(self, x: float, y: float, z: float) -> None: \n",
    "        \"\"\"Move this Atom by adding (x, y, z) to its coordinates. \"\"\"\n",
    "        \n",
    "        self.center  =  (self.center[0]  +  x,\n",
    "                         self.center[1]  +  y, \n",
    "                         self.center[2]  +  z)      "
   ]
  },
  {
   "cell_type": "code",
   "execution_count": 71,
   "metadata": {},
   "outputs": [
    {
     "name": "stdout",
     "output_type": "stream",
     "text": [
      "(N, 0.257, -0.363, 0.0)\n"
     ]
    }
   ],
   "source": [
    "# An instance nitrogen of the class Atom\n",
    "nitrogen = Atom(1, \"N\", 0.257, -0.363, 0.0)\n",
    "print(nitrogen)"
   ]
  },
  {
   "cell_type": "code",
   "execution_count": 72,
   "metadata": {},
   "outputs": [
    {
     "data": {
      "text/plain": [
       "Atom(1, \"N\", 0.257, -0.363, 0.2)"
      ]
     },
     "execution_count": 72,
     "metadata": {},
     "output_type": "execute_result"
    }
   ],
   "source": [
    "# The translate method can move an atom to a different location.\n",
    "# The example below tell the nitrogen atom to move up by 0.2 units:\n",
    "nitrogen.translate(0, 0, 0.2)\n",
    "nitrogen"
   ]
  },
  {
   "cell_type": "code",
   "execution_count": 73,
   "metadata": {},
   "outputs": [
    {
     "name": "stdout",
     "output_type": "stream",
     "text": [
      "(N, 0.257, -0.363, 0.0)\n",
      "\n",
      "['__class__', '__delattr__', '__dict__', '__dir__', '__doc__', '__eq__', '__format__', '__ge__', '__getattribute__', '__gt__', '__hash__', '__init__', '__init_subclass__', '__le__', '__lt__', '__module__', '__ne__', '__new__', '__reduce__', '__reduce_ex__', '__repr__', '__setattr__', '__sizeof__', '__str__', '__subclasshook__', '__weakref__', 'center', 'number', 'symbol', 'translate']\n"
     ]
    }
   ],
   "source": [
    "from atom import Atom\n",
    "# nitrogen: An instance object of the class Atom\n",
    "nitrogen = Atom(1, \"N\", 0.257, -0.363, 0.0)\n",
    "print(nitrogen)\n",
    "print()\n",
    "print(dir(nitrogen))"
   ]
  },
  {
   "cell_type": "code",
   "execution_count": 74,
   "metadata": {},
   "outputs": [
    {
     "name": "stdout",
     "output_type": "stream",
     "text": [
      "['__class__', '__delattr__', '__dict__', '__dir__', '__doc__', '__eq__', '__format__', '__ge__', '__getattribute__', '__gt__', '__hash__', '__init__', '__init_subclass__', '__le__', '__lt__', '__module__', '__ne__', '__new__', '__reduce__', '__reduce_ex__', '__repr__', '__setattr__', '__sizeof__', '__str__', '__subclasshook__', '__weakref__', 'center', 'number', 'symbol', 'translate']\n"
     ]
    }
   ],
   "source": [
    "# Check if translate method is there\n",
    "print(dir(nitrogen))"
   ]
  },
  {
   "cell_type": "code",
   "execution_count": 75,
   "metadata": {},
   "outputs": [
    {
     "data": {
      "text/plain": [
       "Atom(1, \"N\", 0.257, -0.363, 0.2)"
      ]
     },
     "execution_count": 75,
     "metadata": {},
     "output_type": "execute_result"
    }
   ],
   "source": [
    "nitrogen.translate(0, 0, 0.2)\n",
    "nitrogen"
   ]
  },
  {
   "cell_type": "markdown",
   "metadata": {},
   "source": [
    "###### The methods of an class object like __ str__ or __ repr__ inherited from object can be overridden by a new version. "
   ]
  },
  {
   "cell_type": "code",
   "execution_count": 76,
   "metadata": {},
   "outputs": [
    {
     "name": "stdout",
     "output_type": "stream",
     "text": [
      "Help on wrapper_descriptor:\n",
      "\n",
      "__str__(self, /)\n",
      "    Return str(self).\n",
      "\n"
     ]
    }
   ],
   "source": [
    "# Oiginal object.__str__\n",
    "help(object.__str__)"
   ]
  },
  {
   "cell_type": "code",
   "execution_count": 77,
   "metadata": {},
   "outputs": [
    {
     "name": "stdout",
     "output_type": "stream",
     "text": [
      "['__class__', '__delattr__', '__dict__', '__dir__', '__doc__', '__eq__', '__format__', '__ge__', '__getattribute__', '__gt__', '__hash__', '__init__', '__init_subclass__', '__le__', '__lt__', '__module__', '__ne__', '__new__', '__reduce__', '__reduce_ex__', '__repr__', '__setattr__', '__sizeof__', '__str__', '__subclasshook__', '__weakref__', 'translate']\n",
      "-------------------------------------------------------------------------------\n",
      "Help on function __str__ in module atom:\n",
      "\n",
      "__str__(self) -> str\n",
      "    Return a string representation of this Atom in this format:\n",
      "    (SYMBOL, X, Y, Z)\n",
      "\n",
      "-------------------------------------------------------------------------------\n",
      "Help on function __repr__ in module atom:\n",
      "\n",
      "__repr__(self) -> str\n",
      "    Return a string representation of this Atom in this format:\n",
      "    Atom(NUMBER, \"SYMBOL\", X, Y, Z)\n",
      "\n"
     ]
    }
   ],
   "source": [
    "# Revised new version of __str__ methods of a created class \n",
    "print(dir(Atom)); print('-'*79)\n",
    "help(Atom.__str__); print('-'*79)\n",
    "help(Atom.__repr__)"
   ]
  },
  {
   "cell_type": "markdown",
   "metadata": {},
   "source": [
    "###### Ch. 10, p. 195, Multiline Records "
   ]
  },
  {
   "cell_type": "markdown",
   "metadata": {},
   "source": [
    "### Class Molecule, p. 295"
   ]
  },
  {
   "cell_type": "markdown",
   "metadata": {},
   "source": [
    "Remember that we read PDB files one line at a time. When we reach the line containing COMPND AMMONIA, we know that we’re building a complex structure: a molecule with a name and a list of atoms. Here’s the start of a class for this, including an **add method** that **adds an Atom to the molecule:**"
   ]
  },
  {
   "cell_type": "code",
   "execution_count": 1,
   "metadata": {},
   "outputs": [],
   "source": [
    "import os\n",
    "os.chdir(r'D:\\Python\\Class\\Data')"
   ]
  },
  {
   "cell_type": "code",
   "execution_count": 3,
   "metadata": {},
   "outputs": [],
   "source": [
    "# molecule.py, p. 295 \n",
    "class Molecule:\n",
    "    \"\"\"A molecule with a name and a list of Atoms. \n",
    "    \"\"\"\n",
    "\n",
    "    def __init__(self, name: str) -> None:\n",
    "        \"\"\"Create a Molecule named name with no Atoms. \n",
    "        \"\"\"\n",
    "\n",
    "        self.name = name \n",
    "        self.atoms =  []\n",
    "\n",
    "    def add(self, a: Atom)  -> None: \n",
    "        \"\"\"Add a to my list of Atoms. \n",
    "        \"\"\"\n",
    "\n",
    "        self.atoms.append(a)  "
   ]
  },
  {
   "cell_type": "markdown",
   "metadata": {},
   "source": [
    "As we read through the **ammonia PDB information**, we add atoms as we find them; here is the code from Multiline Records, on page 195, **rewritten to return a Molecule object instead of a list of lists:**"
   ]
  },
  {
   "cell_type": "raw",
   "metadata": {},
   "source": [
    "Here is how ammonia can be specified in PDB format:\n",
    "\n",
    "COMPND     AMMONIA\n",
    "ATOM    1   N   0.257   -0.363   0.000\n",
    "ATOM    2   H   0.257    0.727   0.000\n",
    "ATOM    3   H   0.771   -0.727   0.890\n",
    "ATOM    4   H   0.771   -0.727  -0.890\n",
    "END"
   ]
  },
  {
   "cell_type": "markdown",
   "metadata": {},
   "source": [
    "###### 1. The complete program without importing modules"
   ]
  },
  {
   "cell_type": "code",
   "execution_count": 11,
   "metadata": {},
   "outputs": [],
   "source": [
    "import os\n",
    "os.chdir(r'E:\\Python\\Class\\Data')"
   ]
  },
  {
   "cell_type": "code",
   "execution_count": 13,
   "metadata": {},
   "outputs": [],
   "source": [
    "# print(dir(atom.Atom))"
   ]
  },
  {
   "cell_type": "code",
   "execution_count": 4,
   "metadata": {},
   "outputs": [
    {
     "name": "stdout",
     "output_type": "stream",
     "text": [
      "['__class__', '__delattr__', '__dict__', '__dir__', '__doc__', '__eq__', '__format__', '__ge__', '__getattribute__', '__gt__', '__hash__', '__init__', '__init_subclass__', '__le__', '__lt__', '__module__', '__ne__', '__new__', '__reduce__', '__reduce_ex__', '__repr__', '__setattr__', '__sizeof__', '__str__', '__subclasshook__', '__weakref__', 'add', 'atoms', 'name', 'translate']\n",
      "\n",
      "AMMONIA\n",
      "\n",
      "[Atom(1, \"N\", 0.257, -0.363, 0.2), Atom(2, \"H\", 0.257, 0.727, 0.2), Atom(3, \"H\", 0.771, -0.727, 1.09), Atom(4, \"H\", 0.771, -0.727, -0.69)]\n",
      "\n",
      "(N, 0.257, -0.363, 0.2)\n",
      "(H, 0.257, 0.727, 0.2)\n",
      "(H, 0.771, -0.727, 1.09)\n",
      "(H, 0.771, -0.727, -0.69)\n"
     ]
    }
   ],
   "source": [
    "## The complete program without importing modules\n",
    "#=============================================================================\n",
    "# atom.py, p. 294\n",
    "class Atom:\n",
    "    \"\"\" An atom with a number, symbol, and coordinates. \"\"\"\n",
    "\n",
    "    def __init__(self, num: int, sym: str, x: float, y: float, \n",
    "             z: float) -> None:\n",
    "        \"\"\"Create an Atom with number num, string symbol sym, and float \n",
    "        coordinates  (x,  y,  z).\n",
    "        \"\"\"\n",
    "\n",
    "        self.number = num\n",
    "        self.symbol = sym\n",
    "        self.center = (x,  y,  z) \n",
    "    # To inspect an Atom, we’ll want to provide __repr__ and __str__ methods:\n",
    "\n",
    "    def __str__(self) -> str:\n",
    "        \"\"\"Return a string representation of this Atom in this format:\n",
    "             (SYMBOL, X, Y, Z)\n",
    "        \"\"\"\n",
    "        return f'({self.symbol}, {self.center[0]}, {self.center[1]}, {self.center[2]})'\n",
    "\n",
    "    def __repr__(self) -> str:\n",
    "        \"\"\"Return a string representation of this Atom in this format:\n",
    "            Atom(NUMBER, \"SYMBOL\", X, Y, Z)\n",
    "        \"\"\"\n",
    "        \n",
    "        return f'Atom({self.number}, \"{self.symbol}\", {self.center[0]}, {self.center[1]}, {self.center[2]})'\n",
    "\n",
    "    # We’ll use those above later when we define a class for molecules.   \n",
    "    \n",
    "    # We add the following translate method to class Atom.\n",
    "    # In visualizers, the translate method can move an atom to a different \n",
    "    # location:\n",
    "    def translate(self, x: float, y: float, z: float) -> None: \n",
    "        \"\"\"Move this Atom by adding (x, y, z) to its coordinates. \"\"\"\n",
    "        \n",
    "        self.center  =  (self.center[0]  +  x,\n",
    "                         self.center[1]  +  y, \n",
    "                         self.center[2]  +  z)     \n",
    "#=============================================================================\n",
    "# molecule.py, p. 295 \n",
    "class Molecule:\n",
    "    \"\"\"A molecule with a name and a list of Atoms. \n",
    "    \"\"\"\n",
    "\n",
    "    def __init__(self, name: str) -> None:\n",
    "        \"\"\"Create a Molecule named name with no Atoms. \n",
    "        \"\"\"\n",
    "\n",
    "        self.name = name \n",
    "        self.atoms =  []\n",
    "\n",
    "    def add(self, a: Atom)  -> None: \n",
    "        \"\"\"Add a to my list of Atoms. \n",
    "        \"\"\"\n",
    "\n",
    "        self.atoms.append(a) \n",
    "        \n",
    "    # We’ll add a translate method to Molecule to make it easier to move:\n",
    "    def translate(self, x: float, y: float, z: float) -> None: \n",
    "        \"\"\"Move this Molecule, including all Atoms, by (x, y, z). \n",
    "        \"\"\"\n",
    "        \n",
    "        for atom in self.atoms: \n",
    "            atom.translate(x,  y,  z)\n",
    "\n",
    "#=============================================================================\n",
    "# p. 296\n",
    "# here is the code from Multiline Records, on page 195, rewritten \n",
    "# to return a Molecule object instead of a list of lists:\n",
    "\n",
    "from molecule import Molecule\n",
    "from atom import Atom\n",
    "from typing import TextIO\n",
    "\n",
    "def read_molecule(r: TextIO) -> Molecule:\n",
    "    \"\"\"Read a single molecule from r and return it, \n",
    "    or return None to signal end of file.\n",
    "    \"\"\"\n",
    "    # If there isn't another line, we're at the end of the file.\n",
    "    line = r.readline()\n",
    "    if not line:\n",
    "        return None\n",
    "\n",
    "    # Name of the molecule: \"COMPND name\"\n",
    "    key, name = line.split()\n",
    "    \n",
    "    # Other lines are either \"END\" or \"ATOM num kind x y z\"\n",
    "    molecule = Molecule(name) \n",
    "    reading = True\n",
    "\n",
    "    while reading:\n",
    "        line = r.readline()\n",
    "        if line.startswith('END'): \n",
    "            reading = False\n",
    "        else:\n",
    "            key, num, kind, x, y, z = line.split() \n",
    "            # Newly added line below:\n",
    "            molecule.add(Atom(int(num), kind, float(x), float(y), float(z)))\n",
    "\n",
    "    return molecule\n",
    "\n",
    "    # Here are the __str__ and __repr__ methods for type information:\n",
    "    def __str__(self) -> str:\n",
    "        \"\"\"Return a string representation of this Molecule in this format: \n",
    "            (NAME, (ATOM1, ATOM2, ...))\n",
    "        \"\"\"\n",
    "    \n",
    "        res = ''\n",
    "        for atom in self.atoms:\n",
    "            res = res + str(atom) + ', '\n",
    "    \n",
    "        # Strip off the last comma.\n",
    "        res = res[:-2]\n",
    "        return '({0}, ({1}))'.format(self.name, res)\n",
    "    \n",
    "    def __repr__(self) -> str:\n",
    "        \"\"\"Return a string representation of this Molecule in this format: \n",
    "            Molecule(\"NAME\", (ATOM1, ATOM2, ...))\n",
    "        \"\"\"\n",
    "    \n",
    "        res = ''\n",
    "        for atom in self.atoms:\n",
    "            res = res + repr(atom) + ', '\n",
    "        \n",
    "        # Strip off the last comma.\n",
    "        res = res[:-2]\n",
    "        # return 'Molecule(\"{0}\", ({1}))'.format(self.name, res)\n",
    "        return 'Molecule(\"{self.name}\", ({res}))'\n",
    "\n",
    "    # We’ll add a translate method to Molecule to make it easier to move:\n",
    "    def translate(self, x: float, y: float, z: float) -> None: \n",
    "        \"\"\"Move this Molecule, including all Atoms, by (x, y, z). \n",
    "        \"\"\"\n",
    "        \n",
    "        for atom in self.atoms: \n",
    "            atom.translate(x,  y,  z)    \n",
    "#=============================================================================\n",
    "# And here we’ll call it:\n",
    "ammonia = Molecule(\"AMMONIA\") \n",
    "ammonia.add(Atom(1, \"N\", 0.257, -0.363, 0.0))\n",
    "ammonia.add(Atom(2, \"H\", 0.257, 0.727, 0.0))\n",
    "ammonia.add(Atom(3, \"H\", 0.771, -0.727, 0.890))\n",
    "ammonia.add(Atom(4, \"H\", 0.771, -0.727, -0.890))\n",
    "ammonia.translate(0, 0, 0.2)\n",
    "print(dir(ammonia)); print()\n",
    "print(ammonia.name); print()\n",
    "print(ammonia.atoms); print()\n",
    "for i in ammonia.atoms:\n",
    "    print(i)"
   ]
  },
  {
   "cell_type": "code",
   "execution_count": 9,
   "metadata": {},
   "outputs": [
    {
     "name": "stdout",
     "output_type": "stream",
     "text": [
      "Help on function __str__ in module atom:\n",
      "\n",
      "__str__(self) -> str\n",
      "    Return a string representation of this Atom in this format:\n",
      "    (SYMBOL, X, Y, Z)\n",
      "\n",
      "None\n"
     ]
    }
   ],
   "source": [
    "print(help(Atom.__str__))"
   ]
  },
  {
   "cell_type": "markdown",
   "metadata": {},
   "source": [
    "###### 2. The complete program with importing modules"
   ]
  },
  {
   "cell_type": "code",
   "execution_count": 2,
   "metadata": {},
   "outputs": [],
   "source": [
    "import os\n",
    "os.chdir(\"D:/Python/Class/Data\")"
   ]
  },
  {
   "cell_type": "code",
   "execution_count": 3,
   "metadata": {},
   "outputs": [
    {
     "name": "stdout",
     "output_type": "stream",
     "text": [
      "['__class__', '__delattr__', '__dict__', '__dir__', '__doc__', '__eq__', '__format__', '__ge__', '__getattribute__', '__gt__', '__hash__', '__init__', '__init_subclass__', '__le__', '__lt__', '__module__', '__ne__', '__new__', '__reduce__', '__reduce_ex__', '__repr__', '__setattr__', '__sizeof__', '__str__', '__subclasshook__', '__weakref__', 'add', 'atoms', 'name', 'translate']\n",
      "\n",
      "AMMONIA\n",
      "\n",
      "[Atom(1, \"N\", 0.257, -0.363, 0.2), Atom(2, \"H\", 0.257, 0.727, 0.2), Atom(3, \"H\", 0.771, -0.727, 1.09), Atom(4, \"H\", 0.771, -0.727, -0.69)]\n",
      "\n",
      "(N, 0.257, -0.363, 0.2)\n",
      "(H, 0.257, 0.727, 0.2)\n",
      "(H, 0.771, -0.727, 1.09)\n",
      "(H, 0.771, -0.727, -0.69)\n"
     ]
    }
   ],
   "source": [
    "## The complete program with importing modules\n",
    "#=============================================================================\n",
    "# atom.py, p. 294\n",
    "# class Atom:\n",
    "#     \"\"\" An atom with a number, symbol, and coordinates. \"\"\"\n",
    "# \n",
    "#     def __init__(self, num: int, sym: str, x: float, y: float, \n",
    "#              z: float) -> None:\n",
    "#         \"\"\"Create an Atom with number num, string symbol sym, and float \n",
    "#         coordinates  (x,  y,  z).\n",
    "#         \"\"\"\n",
    "# \n",
    "#         self.number = num\n",
    "#         self.symbol = sym\n",
    "#         self.center = (x,  y,  z) \n",
    "#     # To inspect an Atom, we’ll want to provide __repr__ and __str__ methods:\n",
    "# \n",
    "#     def __str__(self) -> str:\n",
    "#         \"\"\"Return a string representation of this Atom in this format:\n",
    "#              (SYMBOL, X, Y, Z)\n",
    "#         \"\"\"\n",
    "#         return '({0}, {1}, {2}, {3})'.format(\n",
    "#             self.symbol, self.center[0], self.center[1], self.center[2])\n",
    "# \n",
    "#     def __repr__(self) -> str:\n",
    "#         \"\"\"Return a string representation of this Atom in this format:\n",
    "#             Atom(NUMBER, \"SYMBOL\", X, Y, Z)\n",
    "#         \"\"\"\n",
    "#         \n",
    "#         return 'Atom({0}, \"{1}\", {2}, {3}, {4})'.format( \n",
    "#             self.number, self.symbol, \n",
    "#             self.center[0], self.center[1], self.center[2])\n",
    "#     # We’ll use those above later when we define a class for molecules.   \n",
    "#     \n",
    "#     # We add the following translate method to class Atom.\n",
    "#     # In visualizers, the translate method can move an atom to a different \n",
    "#     # location:\n",
    "#     def translate(self, x: float, y: float, z: float) -> None: \n",
    "#         \"\"\"Move this Atom by adding (x, y, z) to its coordinates. \"\"\"\n",
    "#         \n",
    "#         self.center  =  (self.center[0]  +  x,\n",
    "#                          self.center[1]  +  y, \n",
    "#                          self.center[2]  +  z)     \n",
    "#=============================================================================\n",
    "# molecule.py, p. 295 \n",
    "#\n",
    "# class Molecule:\n",
    "#     \"\"\"A molecule with a name and a list of Atoms. \n",
    "#     \"\"\"\n",
    "# \n",
    "#     def __init__(self, name: str) -> None:\n",
    "#         \"\"\"Create a Molecule named name with no Atoms. \n",
    "#         \"\"\"\n",
    "# \n",
    "#         self.name = name \n",
    "#         self.atoms =  []\n",
    "# \n",
    "#     def add(self, a: Atom)  -> None: \n",
    "#         \"\"\"Add a to my list of Atoms. \n",
    "#         \"\"\"\n",
    "# \n",
    "#         self.atoms.append(a) \n",
    "#         \n",
    "#     # We’ll add a translate method to Molecule to make it easier to move:\n",
    "#     def translate(self, x: float, y: float, z: float) -> None: \n",
    "#         \"\"\"Move this Molecule, including all Atoms, by (x, y, z). \n",
    "#         \"\"\"\n",
    "#         \n",
    "#         for atom in self.atoms: \n",
    "#             atom.translate(x,  y,  z)\n",
    "# \n",
    "#=============================================================================\n",
    "# p. 296\n",
    "from molecule import Molecule\n",
    "from atom import Atom\n",
    "from typing import TextIO\n",
    "\n",
    "def read_molecule(r: TextIO) -> Molecule:\n",
    "    \"\"\"Read a single molecule from r and return it, \n",
    "    or return None to signal end of file.\n",
    "    \"\"\"\n",
    "    # If there isn't another line, we're at the end of the file.\n",
    "    line = r.readline()\n",
    "    if not line:\n",
    "        return None\n",
    "\n",
    "    # Name of the molecule: \"COMPND name\"\n",
    "    key, name = line.split()\n",
    "    \n",
    "    # Other lines are either \"END\" or \"ATOM num kind x y z\"\n",
    "    molecule = Molecule(name) \n",
    "    reading = True\n",
    "\n",
    "    while reading:\n",
    "        line = r.readline()\n",
    "        if line.startswith('END'): \n",
    "            reading = False\n",
    "        else:\n",
    "            key, num, kind, x, y, z = line.split() \n",
    "            molecule.add(Atom(int(num), kind, float(x), float(y), float(z)))\n",
    "\n",
    "    return  molecule\n",
    "\n",
    "    # Here are the __str__ and __repr__ methods for type information:\n",
    "    def __str__(self) -> str:\n",
    "        \"\"\"Return a string representation of this Molecule in this format: \n",
    "            (NAME, (ATOM1, ATOM2, ...))\n",
    "        \"\"\"\n",
    "    \n",
    "        res = ''\n",
    "        for atom in self.atoms:\n",
    "            res = res + str(atom) + ', '\n",
    "    \n",
    "        # Strip off the last comma.\n",
    "        res = res[:-2]\n",
    "        return '({0}, ({1}))'.format(self.name, res)\n",
    "    \n",
    "    def __repr__(self) -> str:\n",
    "        \"\"\"Return a string representation of this Molecule in this format: \n",
    "            Molecule(\"NAME\", (ATOM1, ATOM2, ...))\n",
    "        \"\"\"\n",
    "    \n",
    "        res = ''\n",
    "        for atom in self.atoms:\n",
    "            res = res + repr(atom) + ', '\n",
    "        \n",
    "        # Strip off the last comma.\n",
    "        res = res[:-2]\n",
    "        return 'Molecule(\"{0}\", ({1}))'.format(self.name, res)\n",
    "\n",
    "#=============================================================================\n",
    "# And here we’ll call it:\n",
    "ammonia = Molecule(\"AMMONIA\") \n",
    "ammonia.add(Atom(1, \"N\", 0.257, -0.363, 0.0))\n",
    "ammonia.add(Atom(2, \"H\", 0.257, 0.727, 0.0))\n",
    "ammonia.add(Atom(3, \"H\", 0.771, -0.727, 0.890))\n",
    "ammonia.add(Atom(4, \"H\", 0.771, -0.727, -0.890))\n",
    "ammonia.translate(0, 0, 0.2)\n",
    "print(dir(ammonia)); print()\n",
    "print(ammonia.name); print()\n",
    "print(ammonia.atoms); print()\n",
    "for i in ammonia.atoms:\n",
    "    print(i)"
   ]
  },
  {
   "cell_type": "raw",
   "metadata": {},
   "source": [
    "If we compare the two versions, we can see the code is nearly identical. It’s just as easy to read the new version as the old—more so even, because it includes type information. Here are the __str__ and __repr__ methods:"
   ]
  },
  {
   "cell_type": "raw",
   "metadata": {},
   "source": [
    "    def __str__(self) -> str:\n",
    "        \"\"\"Return a string representation of this Molecule in this format: \n",
    "            (NAME, (ATOM1, ATOM2, ...))\n",
    "        \"\"\"\n",
    "    \n",
    "        res = ''\n",
    "        for atom in self.atoms:\n",
    "            res = res + str(atom) + ', '\n",
    "    \n",
    "        # Strip off the last comma.\n",
    "        res = res[:-2]\n",
    "        return '({0}, ({1}))'.format(self.name, res)\n",
    "    \n",
    "    def __repr__(self) -> str:\n",
    "        \"\"\"Return a string representation of this Molecule in this format: \n",
    "            Molecule(\"NAME\", (ATOM1, ATOM2, ...))\n",
    "        \"\"\"\n",
    "    \n",
    "        res = ''\n",
    "        for atom in self.atoms:\n",
    "            res = res + repr(atom) + ', '\n",
    "        \n",
    "        # Strip off the last comma.\n",
    "        res = res[:-2]\n",
    "        return 'Molecule(\"{0}\", ({1}))'.format(self.name, res)\n",
    "    \n",
    "    # We’ll add a translate method to Molecule to make it easier to move:\n",
    "    \n",
    "    def translate(self, x: float, y: float, z: float) -> None: \n",
    "        \"\"\"Move this Molecule, including all Atoms, by (x, y, z). \n",
    "        \"\"\"\n",
    "    \n",
    "        for atom in self.atoms: \n",
    "            atom.translate(x,  y,  z)\n",
    "        \n",
    "# And here we’ll call it:\n",
    "ammonia = Molecule(\"AMMONIA\") \n",
    "ammonia.add(Atom(1, \"N\", 0.257, -0.363, 0.0))\n",
    "ammonia.add(Atom(2, \"H\", 0.257, 0.727, 0.0))\n",
    "ammonia.add(Atom(3, \"H\", 0.771, -0.727, 0.890))\n",
    "ammonia.add(Atom(4, \"H\", 0.771, -0.727, -0.890))\n",
    "ammonia.translate(0, 0, 0.2)"
   ]
  },
  {
   "cell_type": "code",
   "execution_count": null,
   "metadata": {},
   "outputs": [],
   "source": []
  },
  {
   "cell_type": "code",
   "execution_count": null,
   "metadata": {},
   "outputs": [],
   "source": []
  }
 ],
 "metadata": {
  "kernelspec": {
   "display_name": "Python 3",
   "language": "python",
   "name": "python3"
  },
  "language_info": {
   "codemirror_mode": {
    "name": "ipython",
    "version": 3
   },
   "file_extension": ".py",
   "mimetype": "text/x-python",
   "name": "python",
   "nbconvert_exporter": "python",
   "pygments_lexer": "ipython3",
   "version": "3.8.3"
  }
 },
 "nbformat": 4,
 "nbformat_minor": 2
}
